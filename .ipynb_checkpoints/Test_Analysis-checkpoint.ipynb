{
 "cells": [
  {
   "cell_type": "code",
   "execution_count": 1,
   "metadata": {},
   "outputs": [],
   "source": [
    "#IPython extension to reload modules before executing user code. If we make any change in function \n",
    "# and imoprting it we don't need to restart if we use auto reload \n",
    "%load_ext autoreload\n",
    "\n",
    "# to print in between values as well without print\n",
    "from IPython.core.interactiveshell import InteractiveShell\n",
    "InteractiveShell.ast_node_interactivity = \"all\"\n",
    "\n",
    "\n",
    "#hide warnings\n",
    "import warnings\n",
    "warnings.filterwarnings('ignore')"
   ]
  },
  {
   "cell_type": "code",
   "execution_count": 30,
   "metadata": {},
   "outputs": [],
   "source": [
    "# import libraries\n",
    "import pandas as pd\n",
    "import numpy as np\n",
    "import matplotlib.pyplot as plt\n",
    "import seaborn as sn\n",
    "import pickle\n",
    "import json\n",
    "\n",
    "\n",
    "# sklearn libraries\n",
    "from sklearn import metrics\n",
    "from sklearn.model_selection import train_test_split\n",
    "from sklearn.neighbors import KNeighborsClassifier\n",
    "from sklearn.neighbors import LocalOutlierFactor\n",
    "from sklearn import preprocessing\n",
    "from sklearn.preprocessing import OneHotEncoder\n",
    "from sklearn import preprocessing\n",
    "from sklearn.metrics import classification_report\n",
    "from pprint import pprint as pp\n",
    "\n",
    "\n",
    "# scipy\n",
    "from scipy.stats import boxcox\n",
    "\n",
    "# yellowbrick\n",
    "from yellowbrick.classifier import ROCAUC"
   ]
  },
  {
   "cell_type": "markdown",
   "metadata": {},
   "source": [
    "# Supporting Functions"
   ]
  },
  {
   "cell_type": "code",
   "execution_count": 2,
   "metadata": {},
   "outputs": [],
   "source": [
    "# to save pickle file\n",
    "def save_pkl_model(path,model):\n",
    "    pickle.dump(model, open(path,'wb'))"
   ]
  },
  {
   "cell_type": "code",
   "execution_count": 3,
   "metadata": {},
   "outputs": [],
   "source": [
    "# to load\n",
    "def load_pkl_model(path):\n",
    "    sc = pickle.load(open(path,'rb'))\n",
    "    return sc"
   ]
  },
  {
   "cell_type": "code",
   "execution_count": 4,
   "metadata": {},
   "outputs": [],
   "source": [
    "def preprocess_pipeline_1(test):\n",
    "   \n",
    "    # miss_num_imputer = load_pkl_model(missing_num_imputer_path)\n",
    "    # missing_cat_imputer = load_pkl_model(missing_cat_imputer_path)\n",
    "    ohe_converter = load_pkl_model(ohe_converter_path)\n",
    "    num_transformer = load_pkl_model(mms_converter_path)\n",
    "\n",
    "    # processing numeric\n",
    "    num_cols = test.select_dtypes(include='number')\n",
    "    num_column_names = num_cols.columns\n",
    "    # num_miss_processed = miss_num_imputer.transform(num_cols)\n",
    "    num_scalled = num_transformer.transform(num_cols)\n",
    "    num_scalled_df = pd.DataFrame(num_scalled,columns=num_column_names)\n",
    "\n",
    "\n",
    "    # processing categoric\n",
    "    cat_cols = test.select_dtypes(include='O')\n",
    "    # cat_miss_processed = missing_cat_imputer.transform(cat_cols)\n",
    "    cat_encoded = ohe_converter.transform(cat_cols).toarray()\n",
    "    cat_encoded_df = pd.DataFrame(cat_encoded,columns=ohe_converter.get_feature_names_out())\n",
    "\n",
    "\n",
    "    # combine categoric and numeric data and return\n",
    "    test_processed = pd.concat([num_scalled_df,cat_encoded_df],axis=1)\n",
    "    \n",
    "    return test_processed"
   ]
  },
  {
   "cell_type": "code",
   "execution_count": 5,
   "metadata": {},
   "outputs": [],
   "source": [
    "def func_dropCol(df):\n",
    "    for i in column_elimination:\n",
    "        df = df[df.columns.drop(list(df.filter(regex=i)))]\n",
    "    return df"
   ]
  },
  {
   "cell_type": "markdown",
   "metadata": {},
   "source": [
    "# Test and Analysis"
   ]
  },
  {
   "cell_type": "markdown",
   "metadata": {},
   "source": [
    "## Load and Predict"
   ]
  },
  {
   "cell_type": "code",
   "execution_count": 42,
   "metadata": {},
   "outputs": [],
   "source": [
    "# spacify saved preprocessing model paths\n",
    "# missing_num_imputer_path = 'Data/processing_models/imputer_num.pkl'\n",
    "# missing_cat_imputer_path = 'Data/processing_models/imputer_cat.pkl'\n",
    "ohe_converter_path = 'Data/processing_models/ohe_converter.pkl'\n",
    "mms_converter_path = 'Data/processing_models/mms_converter.pkl'\n",
    "column_elimination = ['SectionID',\n",
    "                   'StageID',\n",
    "                  'Semester']\n",
    "# # Specify final ML model path\n",
    "# final_model_path = 'models/random_forest.pkl'\n"
   ]
  },
  {
   "cell_type": "code",
   "execution_count": 7,
   "metadata": {
    "scrolled": true
   },
   "outputs": [
    {
     "data": {
      "text/html": [
       "<div>\n",
       "<style scoped>\n",
       "    .dataframe tbody tr th:only-of-type {\n",
       "        vertical-align: middle;\n",
       "    }\n",
       "\n",
       "    .dataframe tbody tr th {\n",
       "        vertical-align: top;\n",
       "    }\n",
       "\n",
       "    .dataframe thead th {\n",
       "        text-align: right;\n",
       "    }\n",
       "</style>\n",
       "<table border=\"1\" class=\"dataframe\">\n",
       "  <thead>\n",
       "    <tr style=\"text-align: right;\">\n",
       "      <th></th>\n",
       "      <th>gender</th>\n",
       "      <th>NationalITy</th>\n",
       "      <th>PlaceofBirth</th>\n",
       "      <th>StageID</th>\n",
       "      <th>GradeID</th>\n",
       "      <th>SectionID</th>\n",
       "      <th>Topic</th>\n",
       "      <th>Semester</th>\n",
       "      <th>Relation</th>\n",
       "      <th>raisedhands</th>\n",
       "      <th>VisITedResources</th>\n",
       "      <th>AnnouncementsView</th>\n",
       "      <th>Discussion</th>\n",
       "      <th>ParentAnsweringSurvey</th>\n",
       "      <th>ParentschoolSatisfaction</th>\n",
       "      <th>StudentAbsenceDays</th>\n",
       "      <th>Class</th>\n",
       "    </tr>\n",
       "  </thead>\n",
       "  <tbody>\n",
       "    <tr>\n",
       "      <th>0</th>\n",
       "      <td>F</td>\n",
       "      <td>Jordan</td>\n",
       "      <td>Jordan</td>\n",
       "      <td>lowerlevel</td>\n",
       "      <td>G-02</td>\n",
       "      <td>A</td>\n",
       "      <td>French</td>\n",
       "      <td>S</td>\n",
       "      <td>Mum</td>\n",
       "      <td>25</td>\n",
       "      <td>80</td>\n",
       "      <td>29</td>\n",
       "      <td>23</td>\n",
       "      <td>No</td>\n",
       "      <td>Good</td>\n",
       "      <td>Under-7</td>\n",
       "      <td>M</td>\n",
       "    </tr>\n",
       "    <tr>\n",
       "      <th>1</th>\n",
       "      <td>M</td>\n",
       "      <td>KW</td>\n",
       "      <td>KuwaIT</td>\n",
       "      <td>MiddleSchool</td>\n",
       "      <td>G-07</td>\n",
       "      <td>A</td>\n",
       "      <td>Math</td>\n",
       "      <td>F</td>\n",
       "      <td>Father</td>\n",
       "      <td>11</td>\n",
       "      <td>2</td>\n",
       "      <td>2</td>\n",
       "      <td>8</td>\n",
       "      <td>No</td>\n",
       "      <td>Bad</td>\n",
       "      <td>Under-7</td>\n",
       "      <td>L</td>\n",
       "    </tr>\n",
       "    <tr>\n",
       "      <th>2</th>\n",
       "      <td>M</td>\n",
       "      <td>KW</td>\n",
       "      <td>KuwaIT</td>\n",
       "      <td>lowerlevel</td>\n",
       "      <td>G-02</td>\n",
       "      <td>B</td>\n",
       "      <td>IT</td>\n",
       "      <td>F</td>\n",
       "      <td>Father</td>\n",
       "      <td>50</td>\n",
       "      <td>7</td>\n",
       "      <td>9</td>\n",
       "      <td>50</td>\n",
       "      <td>Yes</td>\n",
       "      <td>Bad</td>\n",
       "      <td>Above-7</td>\n",
       "      <td>M</td>\n",
       "    </tr>\n",
       "    <tr>\n",
       "      <th>3</th>\n",
       "      <td>M</td>\n",
       "      <td>Jordan</td>\n",
       "      <td>Jordan</td>\n",
       "      <td>MiddleSchool</td>\n",
       "      <td>G-06</td>\n",
       "      <td>A</td>\n",
       "      <td>English</td>\n",
       "      <td>F</td>\n",
       "      <td>Father</td>\n",
       "      <td>10</td>\n",
       "      <td>8</td>\n",
       "      <td>10</td>\n",
       "      <td>10</td>\n",
       "      <td>Yes</td>\n",
       "      <td>Bad</td>\n",
       "      <td>Above-7</td>\n",
       "      <td>M</td>\n",
       "    </tr>\n",
       "    <tr>\n",
       "      <th>4</th>\n",
       "      <td>M</td>\n",
       "      <td>Iraq</td>\n",
       "      <td>Iraq</td>\n",
       "      <td>MiddleSchool</td>\n",
       "      <td>G-06</td>\n",
       "      <td>A</td>\n",
       "      <td>English</td>\n",
       "      <td>F</td>\n",
       "      <td>Mum</td>\n",
       "      <td>74</td>\n",
       "      <td>71</td>\n",
       "      <td>56</td>\n",
       "      <td>37</td>\n",
       "      <td>No</td>\n",
       "      <td>Good</td>\n",
       "      <td>Under-7</td>\n",
       "      <td>H</td>\n",
       "    </tr>\n",
       "  </tbody>\n",
       "</table>\n",
       "</div>"
      ],
      "text/plain": [
       "  gender NationalITy PlaceofBirth       StageID GradeID SectionID    Topic  \\\n",
       "0      F      Jordan       Jordan    lowerlevel    G-02         A   French   \n",
       "1      M          KW       KuwaIT  MiddleSchool    G-07         A     Math   \n",
       "2      M          KW       KuwaIT    lowerlevel    G-02         B       IT   \n",
       "3      M      Jordan       Jordan  MiddleSchool    G-06         A  English   \n",
       "4      M        Iraq         Iraq  MiddleSchool    G-06         A  English   \n",
       "\n",
       "  Semester Relation  raisedhands  VisITedResources  AnnouncementsView  \\\n",
       "0        S      Mum           25                80                 29   \n",
       "1        F   Father           11                 2                  2   \n",
       "2        F   Father           50                 7                  9   \n",
       "3        F   Father           10                 8                 10   \n",
       "4        F      Mum           74                71                 56   \n",
       "\n",
       "   Discussion ParentAnsweringSurvey ParentschoolSatisfaction  \\\n",
       "0          23                    No                     Good   \n",
       "1           8                    No                      Bad   \n",
       "2          50                   Yes                      Bad   \n",
       "3          10                   Yes                      Bad   \n",
       "4          37                    No                     Good   \n",
       "\n",
       "  StudentAbsenceDays Class  \n",
       "0            Under-7     M  \n",
       "1            Under-7     L  \n",
       "2            Above-7     M  \n",
       "3            Above-7     M  \n",
       "4            Under-7     H  "
      ]
     },
     "execution_count": 7,
     "metadata": {},
     "output_type": "execute_result"
    }
   ],
   "source": [
    "# load test data and check\n",
    "test_data = pd.read_csv('Data/test.csv')\n",
    "test_data.head()"
   ]
  },
  {
   "cell_type": "code",
   "execution_count": 9,
   "metadata": {},
   "outputs": [],
   "source": [
    "# devide Xtest ytest to compare\n",
    "X_test,y_test = test_data.loc[:,~test_data.columns.isin(['Class'])],test_data['Class']"
   ]
  },
  {
   "cell_type": "code",
   "execution_count": 10,
   "metadata": {},
   "outputs": [
    {
     "data": {
      "text/html": [
       "<div>\n",
       "<style scoped>\n",
       "    .dataframe tbody tr th:only-of-type {\n",
       "        vertical-align: middle;\n",
       "    }\n",
       "\n",
       "    .dataframe tbody tr th {\n",
       "        vertical-align: top;\n",
       "    }\n",
       "\n",
       "    .dataframe thead th {\n",
       "        text-align: right;\n",
       "    }\n",
       "</style>\n",
       "<table border=\"1\" class=\"dataframe\">\n",
       "  <thead>\n",
       "    <tr style=\"text-align: right;\">\n",
       "      <th></th>\n",
       "      <th>raisedhands</th>\n",
       "      <th>VisITedResources</th>\n",
       "      <th>AnnouncementsView</th>\n",
       "      <th>Discussion</th>\n",
       "      <th>gender_M</th>\n",
       "      <th>NationalITy_Iran</th>\n",
       "      <th>NationalITy_Iraq</th>\n",
       "      <th>NationalITy_Jordan</th>\n",
       "      <th>NationalITy_KW</th>\n",
       "      <th>NationalITy_Lybia</th>\n",
       "      <th>...</th>\n",
       "      <th>Topic_IT</th>\n",
       "      <th>Topic_Math</th>\n",
       "      <th>Topic_Quran</th>\n",
       "      <th>Topic_Science</th>\n",
       "      <th>Topic_Spanish</th>\n",
       "      <th>Semester_S</th>\n",
       "      <th>Relation_Mum</th>\n",
       "      <th>ParentAnsweringSurvey_Yes</th>\n",
       "      <th>ParentschoolSatisfaction_Good</th>\n",
       "      <th>StudentAbsenceDays_Under-7</th>\n",
       "    </tr>\n",
       "  </thead>\n",
       "  <tbody>\n",
       "    <tr>\n",
       "      <th>0</th>\n",
       "      <td>0.25</td>\n",
       "      <td>0.808081</td>\n",
       "      <td>0.295918</td>\n",
       "      <td>0.224490</td>\n",
       "      <td>0.0</td>\n",
       "      <td>0.0</td>\n",
       "      <td>0.0</td>\n",
       "      <td>1.0</td>\n",
       "      <td>0.0</td>\n",
       "      <td>0.0</td>\n",
       "      <td>...</td>\n",
       "      <td>0.0</td>\n",
       "      <td>0.0</td>\n",
       "      <td>0.0</td>\n",
       "      <td>0.0</td>\n",
       "      <td>0.0</td>\n",
       "      <td>1.0</td>\n",
       "      <td>1.0</td>\n",
       "      <td>0.0</td>\n",
       "      <td>1.0</td>\n",
       "      <td>1.0</td>\n",
       "    </tr>\n",
       "    <tr>\n",
       "      <th>1</th>\n",
       "      <td>0.11</td>\n",
       "      <td>0.020202</td>\n",
       "      <td>0.020408</td>\n",
       "      <td>0.071429</td>\n",
       "      <td>1.0</td>\n",
       "      <td>0.0</td>\n",
       "      <td>0.0</td>\n",
       "      <td>0.0</td>\n",
       "      <td>1.0</td>\n",
       "      <td>0.0</td>\n",
       "      <td>...</td>\n",
       "      <td>0.0</td>\n",
       "      <td>1.0</td>\n",
       "      <td>0.0</td>\n",
       "      <td>0.0</td>\n",
       "      <td>0.0</td>\n",
       "      <td>0.0</td>\n",
       "      <td>0.0</td>\n",
       "      <td>0.0</td>\n",
       "      <td>0.0</td>\n",
       "      <td>1.0</td>\n",
       "    </tr>\n",
       "    <tr>\n",
       "      <th>2</th>\n",
       "      <td>0.50</td>\n",
       "      <td>0.070707</td>\n",
       "      <td>0.091837</td>\n",
       "      <td>0.500000</td>\n",
       "      <td>1.0</td>\n",
       "      <td>0.0</td>\n",
       "      <td>0.0</td>\n",
       "      <td>0.0</td>\n",
       "      <td>1.0</td>\n",
       "      <td>0.0</td>\n",
       "      <td>...</td>\n",
       "      <td>1.0</td>\n",
       "      <td>0.0</td>\n",
       "      <td>0.0</td>\n",
       "      <td>0.0</td>\n",
       "      <td>0.0</td>\n",
       "      <td>0.0</td>\n",
       "      <td>0.0</td>\n",
       "      <td>1.0</td>\n",
       "      <td>0.0</td>\n",
       "      <td>0.0</td>\n",
       "    </tr>\n",
       "    <tr>\n",
       "      <th>3</th>\n",
       "      <td>0.10</td>\n",
       "      <td>0.080808</td>\n",
       "      <td>0.102041</td>\n",
       "      <td>0.091837</td>\n",
       "      <td>1.0</td>\n",
       "      <td>0.0</td>\n",
       "      <td>0.0</td>\n",
       "      <td>1.0</td>\n",
       "      <td>0.0</td>\n",
       "      <td>0.0</td>\n",
       "      <td>...</td>\n",
       "      <td>0.0</td>\n",
       "      <td>0.0</td>\n",
       "      <td>0.0</td>\n",
       "      <td>0.0</td>\n",
       "      <td>0.0</td>\n",
       "      <td>0.0</td>\n",
       "      <td>0.0</td>\n",
       "      <td>1.0</td>\n",
       "      <td>0.0</td>\n",
       "      <td>0.0</td>\n",
       "    </tr>\n",
       "    <tr>\n",
       "      <th>4</th>\n",
       "      <td>0.74</td>\n",
       "      <td>0.717172</td>\n",
       "      <td>0.571429</td>\n",
       "      <td>0.367347</td>\n",
       "      <td>1.0</td>\n",
       "      <td>0.0</td>\n",
       "      <td>1.0</td>\n",
       "      <td>0.0</td>\n",
       "      <td>0.0</td>\n",
       "      <td>0.0</td>\n",
       "      <td>...</td>\n",
       "      <td>0.0</td>\n",
       "      <td>0.0</td>\n",
       "      <td>0.0</td>\n",
       "      <td>0.0</td>\n",
       "      <td>0.0</td>\n",
       "      <td>0.0</td>\n",
       "      <td>1.0</td>\n",
       "      <td>0.0</td>\n",
       "      <td>1.0</td>\n",
       "      <td>1.0</td>\n",
       "    </tr>\n",
       "  </tbody>\n",
       "</table>\n",
       "<p>5 rows × 60 columns</p>\n",
       "</div>"
      ],
      "text/plain": [
       "   raisedhands  VisITedResources  AnnouncementsView  Discussion  gender_M  \\\n",
       "0         0.25          0.808081           0.295918    0.224490       0.0   \n",
       "1         0.11          0.020202           0.020408    0.071429       1.0   \n",
       "2         0.50          0.070707           0.091837    0.500000       1.0   \n",
       "3         0.10          0.080808           0.102041    0.091837       1.0   \n",
       "4         0.74          0.717172           0.571429    0.367347       1.0   \n",
       "\n",
       "   NationalITy_Iran  NationalITy_Iraq  NationalITy_Jordan  NationalITy_KW  \\\n",
       "0               0.0               0.0                 1.0             0.0   \n",
       "1               0.0               0.0                 0.0             1.0   \n",
       "2               0.0               0.0                 0.0             1.0   \n",
       "3               0.0               0.0                 1.0             0.0   \n",
       "4               0.0               1.0                 0.0             0.0   \n",
       "\n",
       "   NationalITy_Lybia  ...  Topic_IT  Topic_Math  Topic_Quran  Topic_Science  \\\n",
       "0                0.0  ...       0.0         0.0          0.0            0.0   \n",
       "1                0.0  ...       0.0         1.0          0.0            0.0   \n",
       "2                0.0  ...       1.0         0.0          0.0            0.0   \n",
       "3                0.0  ...       0.0         0.0          0.0            0.0   \n",
       "4                0.0  ...       0.0         0.0          0.0            0.0   \n",
       "\n",
       "   Topic_Spanish  Semester_S  Relation_Mum  ParentAnsweringSurvey_Yes  \\\n",
       "0            0.0         1.0           1.0                        0.0   \n",
       "1            0.0         0.0           0.0                        0.0   \n",
       "2            0.0         0.0           0.0                        1.0   \n",
       "3            0.0         0.0           0.0                        1.0   \n",
       "4            0.0         0.0           1.0                        0.0   \n",
       "\n",
       "   ParentschoolSatisfaction_Good  StudentAbsenceDays_Under-7  \n",
       "0                            1.0                         1.0  \n",
       "1                            0.0                         1.0  \n",
       "2                            0.0                         0.0  \n",
       "3                            0.0                         0.0  \n",
       "4                            1.0                         1.0  \n",
       "\n",
       "[5 rows x 60 columns]"
      ]
     },
     "execution_count": 10,
     "metadata": {},
     "output_type": "execute_result"
    }
   ],
   "source": [
    "# preporcess the data for the model input\n",
    "X_test_processed = preprocess_pipeline_1(X_test)\n",
    "X_test_processed.head()"
   ]
  },
  {
   "cell_type": "code",
   "execution_count": 13,
   "metadata": {},
   "outputs": [
    {
     "data": {
      "text/html": [
       "<div>\n",
       "<style scoped>\n",
       "    .dataframe tbody tr th:only-of-type {\n",
       "        vertical-align: middle;\n",
       "    }\n",
       "\n",
       "    .dataframe tbody tr th {\n",
       "        vertical-align: top;\n",
       "    }\n",
       "\n",
       "    .dataframe thead th {\n",
       "        text-align: right;\n",
       "    }\n",
       "</style>\n",
       "<table border=\"1\" class=\"dataframe\">\n",
       "  <thead>\n",
       "    <tr style=\"text-align: right;\">\n",
       "      <th></th>\n",
       "      <th>raisedhands</th>\n",
       "      <th>VisITedResources</th>\n",
       "      <th>AnnouncementsView</th>\n",
       "      <th>Discussion</th>\n",
       "      <th>gender_M</th>\n",
       "      <th>NationalITy_Iran</th>\n",
       "      <th>NationalITy_Iraq</th>\n",
       "      <th>NationalITy_Jordan</th>\n",
       "      <th>NationalITy_KW</th>\n",
       "      <th>NationalITy_Lybia</th>\n",
       "      <th>...</th>\n",
       "      <th>Topic_History</th>\n",
       "      <th>Topic_IT</th>\n",
       "      <th>Topic_Math</th>\n",
       "      <th>Topic_Quran</th>\n",
       "      <th>Topic_Science</th>\n",
       "      <th>Topic_Spanish</th>\n",
       "      <th>Relation_Mum</th>\n",
       "      <th>ParentAnsweringSurvey_Yes</th>\n",
       "      <th>ParentschoolSatisfaction_Good</th>\n",
       "      <th>StudentAbsenceDays_Under-7</th>\n",
       "    </tr>\n",
       "  </thead>\n",
       "  <tbody>\n",
       "    <tr>\n",
       "      <th>0</th>\n",
       "      <td>0.25</td>\n",
       "      <td>0.808081</td>\n",
       "      <td>0.295918</td>\n",
       "      <td>0.224490</td>\n",
       "      <td>0.0</td>\n",
       "      <td>0.0</td>\n",
       "      <td>0.0</td>\n",
       "      <td>1.0</td>\n",
       "      <td>0.0</td>\n",
       "      <td>0.0</td>\n",
       "      <td>...</td>\n",
       "      <td>0.0</td>\n",
       "      <td>0.0</td>\n",
       "      <td>0.0</td>\n",
       "      <td>0.0</td>\n",
       "      <td>0.0</td>\n",
       "      <td>0.0</td>\n",
       "      <td>1.0</td>\n",
       "      <td>0.0</td>\n",
       "      <td>1.0</td>\n",
       "      <td>1.0</td>\n",
       "    </tr>\n",
       "    <tr>\n",
       "      <th>1</th>\n",
       "      <td>0.11</td>\n",
       "      <td>0.020202</td>\n",
       "      <td>0.020408</td>\n",
       "      <td>0.071429</td>\n",
       "      <td>1.0</td>\n",
       "      <td>0.0</td>\n",
       "      <td>0.0</td>\n",
       "      <td>0.0</td>\n",
       "      <td>1.0</td>\n",
       "      <td>0.0</td>\n",
       "      <td>...</td>\n",
       "      <td>0.0</td>\n",
       "      <td>0.0</td>\n",
       "      <td>1.0</td>\n",
       "      <td>0.0</td>\n",
       "      <td>0.0</td>\n",
       "      <td>0.0</td>\n",
       "      <td>0.0</td>\n",
       "      <td>0.0</td>\n",
       "      <td>0.0</td>\n",
       "      <td>1.0</td>\n",
       "    </tr>\n",
       "    <tr>\n",
       "      <th>2</th>\n",
       "      <td>0.50</td>\n",
       "      <td>0.070707</td>\n",
       "      <td>0.091837</td>\n",
       "      <td>0.500000</td>\n",
       "      <td>1.0</td>\n",
       "      <td>0.0</td>\n",
       "      <td>0.0</td>\n",
       "      <td>0.0</td>\n",
       "      <td>1.0</td>\n",
       "      <td>0.0</td>\n",
       "      <td>...</td>\n",
       "      <td>0.0</td>\n",
       "      <td>1.0</td>\n",
       "      <td>0.0</td>\n",
       "      <td>0.0</td>\n",
       "      <td>0.0</td>\n",
       "      <td>0.0</td>\n",
       "      <td>0.0</td>\n",
       "      <td>1.0</td>\n",
       "      <td>0.0</td>\n",
       "      <td>0.0</td>\n",
       "    </tr>\n",
       "    <tr>\n",
       "      <th>3</th>\n",
       "      <td>0.10</td>\n",
       "      <td>0.080808</td>\n",
       "      <td>0.102041</td>\n",
       "      <td>0.091837</td>\n",
       "      <td>1.0</td>\n",
       "      <td>0.0</td>\n",
       "      <td>0.0</td>\n",
       "      <td>1.0</td>\n",
       "      <td>0.0</td>\n",
       "      <td>0.0</td>\n",
       "      <td>...</td>\n",
       "      <td>0.0</td>\n",
       "      <td>0.0</td>\n",
       "      <td>0.0</td>\n",
       "      <td>0.0</td>\n",
       "      <td>0.0</td>\n",
       "      <td>0.0</td>\n",
       "      <td>0.0</td>\n",
       "      <td>1.0</td>\n",
       "      <td>0.0</td>\n",
       "      <td>0.0</td>\n",
       "    </tr>\n",
       "    <tr>\n",
       "      <th>4</th>\n",
       "      <td>0.74</td>\n",
       "      <td>0.717172</td>\n",
       "      <td>0.571429</td>\n",
       "      <td>0.367347</td>\n",
       "      <td>1.0</td>\n",
       "      <td>0.0</td>\n",
       "      <td>1.0</td>\n",
       "      <td>0.0</td>\n",
       "      <td>0.0</td>\n",
       "      <td>0.0</td>\n",
       "      <td>...</td>\n",
       "      <td>0.0</td>\n",
       "      <td>0.0</td>\n",
       "      <td>0.0</td>\n",
       "      <td>0.0</td>\n",
       "      <td>0.0</td>\n",
       "      <td>0.0</td>\n",
       "      <td>1.0</td>\n",
       "      <td>0.0</td>\n",
       "      <td>1.0</td>\n",
       "      <td>1.0</td>\n",
       "    </tr>\n",
       "    <tr>\n",
       "      <th>...</th>\n",
       "      <td>...</td>\n",
       "      <td>...</td>\n",
       "      <td>...</td>\n",
       "      <td>...</td>\n",
       "      <td>...</td>\n",
       "      <td>...</td>\n",
       "      <td>...</td>\n",
       "      <td>...</td>\n",
       "      <td>...</td>\n",
       "      <td>...</td>\n",
       "      <td>...</td>\n",
       "      <td>...</td>\n",
       "      <td>...</td>\n",
       "      <td>...</td>\n",
       "      <td>...</td>\n",
       "      <td>...</td>\n",
       "      <td>...</td>\n",
       "      <td>...</td>\n",
       "      <td>...</td>\n",
       "      <td>...</td>\n",
       "      <td>...</td>\n",
       "    </tr>\n",
       "    <tr>\n",
       "      <th>67</th>\n",
       "      <td>0.55</td>\n",
       "      <td>0.727273</td>\n",
       "      <td>0.846939</td>\n",
       "      <td>0.132653</td>\n",
       "      <td>1.0</td>\n",
       "      <td>0.0</td>\n",
       "      <td>0.0</td>\n",
       "      <td>1.0</td>\n",
       "      <td>0.0</td>\n",
       "      <td>0.0</td>\n",
       "      <td>...</td>\n",
       "      <td>0.0</td>\n",
       "      <td>0.0</td>\n",
       "      <td>0.0</td>\n",
       "      <td>0.0</td>\n",
       "      <td>0.0</td>\n",
       "      <td>0.0</td>\n",
       "      <td>1.0</td>\n",
       "      <td>1.0</td>\n",
       "      <td>1.0</td>\n",
       "      <td>0.0</td>\n",
       "    </tr>\n",
       "    <tr>\n",
       "      <th>68</th>\n",
       "      <td>0.00</td>\n",
       "      <td>0.030303</td>\n",
       "      <td>0.102041</td>\n",
       "      <td>0.020408</td>\n",
       "      <td>1.0</td>\n",
       "      <td>0.0</td>\n",
       "      <td>0.0</td>\n",
       "      <td>0.0</td>\n",
       "      <td>1.0</td>\n",
       "      <td>0.0</td>\n",
       "      <td>...</td>\n",
       "      <td>0.0</td>\n",
       "      <td>1.0</td>\n",
       "      <td>0.0</td>\n",
       "      <td>0.0</td>\n",
       "      <td>0.0</td>\n",
       "      <td>0.0</td>\n",
       "      <td>0.0</td>\n",
       "      <td>0.0</td>\n",
       "      <td>0.0</td>\n",
       "      <td>0.0</td>\n",
       "    </tr>\n",
       "    <tr>\n",
       "      <th>69</th>\n",
       "      <td>0.70</td>\n",
       "      <td>0.696970</td>\n",
       "      <td>0.357143</td>\n",
       "      <td>0.295918</td>\n",
       "      <td>0.0</td>\n",
       "      <td>0.0</td>\n",
       "      <td>0.0</td>\n",
       "      <td>0.0</td>\n",
       "      <td>0.0</td>\n",
       "      <td>0.0</td>\n",
       "      <td>...</td>\n",
       "      <td>0.0</td>\n",
       "      <td>1.0</td>\n",
       "      <td>0.0</td>\n",
       "      <td>0.0</td>\n",
       "      <td>0.0</td>\n",
       "      <td>0.0</td>\n",
       "      <td>1.0</td>\n",
       "      <td>1.0</td>\n",
       "      <td>1.0</td>\n",
       "      <td>1.0</td>\n",
       "    </tr>\n",
       "    <tr>\n",
       "      <th>70</th>\n",
       "      <td>0.05</td>\n",
       "      <td>0.090909</td>\n",
       "      <td>0.193878</td>\n",
       "      <td>0.989796</td>\n",
       "      <td>0.0</td>\n",
       "      <td>0.0</td>\n",
       "      <td>0.0</td>\n",
       "      <td>1.0</td>\n",
       "      <td>0.0</td>\n",
       "      <td>0.0</td>\n",
       "      <td>...</td>\n",
       "      <td>0.0</td>\n",
       "      <td>0.0</td>\n",
       "      <td>0.0</td>\n",
       "      <td>0.0</td>\n",
       "      <td>0.0</td>\n",
       "      <td>0.0</td>\n",
       "      <td>0.0</td>\n",
       "      <td>0.0</td>\n",
       "      <td>0.0</td>\n",
       "      <td>0.0</td>\n",
       "    </tr>\n",
       "    <tr>\n",
       "      <th>71</th>\n",
       "      <td>0.10</td>\n",
       "      <td>0.303030</td>\n",
       "      <td>0.510204</td>\n",
       "      <td>0.918367</td>\n",
       "      <td>1.0</td>\n",
       "      <td>0.0</td>\n",
       "      <td>0.0</td>\n",
       "      <td>1.0</td>\n",
       "      <td>0.0</td>\n",
       "      <td>0.0</td>\n",
       "      <td>...</td>\n",
       "      <td>0.0</td>\n",
       "      <td>0.0</td>\n",
       "      <td>0.0</td>\n",
       "      <td>0.0</td>\n",
       "      <td>0.0</td>\n",
       "      <td>0.0</td>\n",
       "      <td>0.0</td>\n",
       "      <td>1.0</td>\n",
       "      <td>0.0</td>\n",
       "      <td>0.0</td>\n",
       "    </tr>\n",
       "  </tbody>\n",
       "</table>\n",
       "<p>72 rows × 55 columns</p>\n",
       "</div>"
      ],
      "text/plain": [
       "    raisedhands  VisITedResources  AnnouncementsView  Discussion  gender_M  \\\n",
       "0          0.25          0.808081           0.295918    0.224490       0.0   \n",
       "1          0.11          0.020202           0.020408    0.071429       1.0   \n",
       "2          0.50          0.070707           0.091837    0.500000       1.0   \n",
       "3          0.10          0.080808           0.102041    0.091837       1.0   \n",
       "4          0.74          0.717172           0.571429    0.367347       1.0   \n",
       "..          ...               ...                ...         ...       ...   \n",
       "67         0.55          0.727273           0.846939    0.132653       1.0   \n",
       "68         0.00          0.030303           0.102041    0.020408       1.0   \n",
       "69         0.70          0.696970           0.357143    0.295918       0.0   \n",
       "70         0.05          0.090909           0.193878    0.989796       0.0   \n",
       "71         0.10          0.303030           0.510204    0.918367       1.0   \n",
       "\n",
       "    NationalITy_Iran  NationalITy_Iraq  NationalITy_Jordan  NationalITy_KW  \\\n",
       "0                0.0               0.0                 1.0             0.0   \n",
       "1                0.0               0.0                 0.0             1.0   \n",
       "2                0.0               0.0                 0.0             1.0   \n",
       "3                0.0               0.0                 1.0             0.0   \n",
       "4                0.0               1.0                 0.0             0.0   \n",
       "..               ...               ...                 ...             ...   \n",
       "67               0.0               0.0                 1.0             0.0   \n",
       "68               0.0               0.0                 0.0             1.0   \n",
       "69               0.0               0.0                 0.0             0.0   \n",
       "70               0.0               0.0                 1.0             0.0   \n",
       "71               0.0               0.0                 1.0             0.0   \n",
       "\n",
       "    NationalITy_Lybia  ...  Topic_History  Topic_IT  Topic_Math  Topic_Quran  \\\n",
       "0                 0.0  ...            0.0       0.0         0.0          0.0   \n",
       "1                 0.0  ...            0.0       0.0         1.0          0.0   \n",
       "2                 0.0  ...            0.0       1.0         0.0          0.0   \n",
       "3                 0.0  ...            0.0       0.0         0.0          0.0   \n",
       "4                 0.0  ...            0.0       0.0         0.0          0.0   \n",
       "..                ...  ...            ...       ...         ...          ...   \n",
       "67                0.0  ...            0.0       0.0         0.0          0.0   \n",
       "68                0.0  ...            0.0       1.0         0.0          0.0   \n",
       "69                0.0  ...            0.0       1.0         0.0          0.0   \n",
       "70                0.0  ...            0.0       0.0         0.0          0.0   \n",
       "71                0.0  ...            0.0       0.0         0.0          0.0   \n",
       "\n",
       "    Topic_Science  Topic_Spanish  Relation_Mum  ParentAnsweringSurvey_Yes  \\\n",
       "0             0.0            0.0           1.0                        0.0   \n",
       "1             0.0            0.0           0.0                        0.0   \n",
       "2             0.0            0.0           0.0                        1.0   \n",
       "3             0.0            0.0           0.0                        1.0   \n",
       "4             0.0            0.0           1.0                        0.0   \n",
       "..            ...            ...           ...                        ...   \n",
       "67            0.0            0.0           1.0                        1.0   \n",
       "68            0.0            0.0           0.0                        0.0   \n",
       "69            0.0            0.0           1.0                        1.0   \n",
       "70            0.0            0.0           0.0                        0.0   \n",
       "71            0.0            0.0           0.0                        1.0   \n",
       "\n",
       "    ParentschoolSatisfaction_Good  StudentAbsenceDays_Under-7  \n",
       "0                             1.0                         1.0  \n",
       "1                             0.0                         1.0  \n",
       "2                             0.0                         0.0  \n",
       "3                             0.0                         0.0  \n",
       "4                             1.0                         1.0  \n",
       "..                            ...                         ...  \n",
       "67                            1.0                         0.0  \n",
       "68                            0.0                         0.0  \n",
       "69                            1.0                         1.0  \n",
       "70                            0.0                         0.0  \n",
       "71                            0.0                         0.0  \n",
       "\n",
       "[72 rows x 55 columns]"
      ]
     },
     "execution_count": 13,
     "metadata": {},
     "output_type": "execute_result"
    }
   ],
   "source": [
    "# drop features not used\n",
    "X_test_processed = func_dropCol(X_test_processed)\n",
    "X_test_processed"
   ]
  },
  {
   "cell_type": "code",
   "execution_count": 18,
   "metadata": {},
   "outputs": [
    {
     "data": {
      "text/plain": [
       "({'0': 'H', '1': 'L', '2': 'M'}, {'H': 0, 'L': 1, 'M': 2})"
      ]
     },
     "execution_count": 18,
     "metadata": {},
     "output_type": "execute_result"
    }
   ],
   "source": [
    "# load the json to convert from num to lable\n",
    "with open('Data/processing_models/num_to_label.json') as json_file:\n",
    "    num_to_label = json.load(json_file)\n",
    "\n",
    "with open('Data/processing_models/label_to_num.json') as json_file:\n",
    "    label_to_num = json.load(json_file)\n",
    "\n",
    "num_to_label,label_to_num"
   ]
  },
  {
   "cell_type": "code",
   "execution_count": 46,
   "metadata": {},
   "outputs": [],
   "source": [
    "def predict(final_model,num_to_label,X_test_processed):\n",
    "   \n",
    "    \n",
    "    # prefict the model\n",
    "    y_pred = final_model.predict(X_test_processed)\n",
    "    y_pred = [num_to_label[str(i)] for i in y_pred]\n",
    "    return y_pred\n",
    "    "
   ]
  },
  {
   "cell_type": "code",
   "execution_count": 47,
   "metadata": {},
   "outputs": [],
   "source": [
    "#  # load the final model\n",
    "# final_model = load_pkl_model(final_model_path)\n",
    "# y_pred = predict(final_model,num_to_label,X_test_processed)"
   ]
  },
  {
   "cell_type": "code",
   "execution_count": null,
   "metadata": {},
   "outputs": [],
   "source": []
  },
  {
   "cell_type": "markdown",
   "metadata": {},
   "source": [
    "## Prediction Analysis"
   ]
  },
  {
   "cell_type": "markdown",
   "metadata": {},
   "source": [
    "### a. Classification Report"
   ]
  },
  {
   "cell_type": "code",
   "execution_count": 32,
   "metadata": {},
   "outputs": [],
   "source": [
    "def class_report(y_test,y_pred):\n",
    "    # pp(classification_report(y_test,y_pred))\n",
    "    report = classification_report(y_test,y_pred,output_dict=True)\n",
    "    report_df = pd.DataFrame(report).transpose()\n",
    "    print(report_df)\n",
    "    "
   ]
  },
  {
   "cell_type": "markdown",
   "metadata": {},
   "source": [
    "### b. Confusion metrics"
   ]
  },
  {
   "cell_type": "code",
   "execution_count": 34,
   "metadata": {},
   "outputs": [],
   "source": [
    "def conf_matrix(y_test,y_pred):\n",
    "    cm = metrics.confusion_matrix(y_test,y_pred,labels=['L','M','H'])\n",
    "    # plotting the values\n",
    "    ax= plt.subplot()\n",
    "    sn.heatmap(cm, annot=True, fmt='d', ax=ax,cmap='Blues')  \n",
    "\n",
    "    # labels, title and ticks\n",
    "    ax.set_xlabel('Predicted labels');ax.set_ylabel('True labels'); \n",
    "    ax.set_title('Confusion Matrix'); \n",
    "    ax.xaxis.set_ticklabels(['L','M','H']); ax.yaxis.set_ticklabels(['L','M','H']);\n",
    "    "
   ]
  },
  {
   "cell_type": "markdown",
   "metadata": {},
   "source": [
    "### ROC AUC curve"
   ]
  },
  {
   "cell_type": "code",
   "execution_count": 37,
   "metadata": {},
   "outputs": [],
   "source": [
    "def plot_ROC_curve(model, xtrain, ytrain, xtest, ytest):\n",
    "\n",
    "    # Creating visualization with the readable labels\n",
    "    visualizer = ROCAUC(model)\n",
    "                                        \n",
    "    # Fitting to the training data first then scoring with the test data                                    \n",
    "    visualizer.fit(xtrain, ytrain)\n",
    "    visualizer.score(xtest, ytest)\n",
    "    visualizer.show()\n",
    "    \n",
    "    return visualizer"
   ]
  },
  {
   "cell_type": "markdown",
   "metadata": {},
   "source": [
    "### Save Test Results and Analyse wrong predictions"
   ]
  },
  {
   "cell_type": "code",
   "execution_count": 40,
   "metadata": {},
   "outputs": [],
   "source": [
    "def save_analyze(y_pred,name):\n",
    "    test_data['predictions'] = y_pred\n",
    "    test_data.to_csv('test_results/'+name+'.csv',index=False)\n",
    "    print(test_data[test_data['Class']!=test_data['predictions']])"
   ]
  },
  {
   "cell_type": "markdown",
   "metadata": {},
   "source": [
    "# Naive Bayes with one hot encoded data and boxtransformed"
   ]
  },
  {
   "cell_type": "code",
   "execution_count": 99,
   "metadata": {},
   "outputs": [],
   "source": [
    "training_data = pd.read_csv('Data/transformed/train_bx_ohe.csv')\n",
    "training_data['Class'] = training_data['Class'].apply(lambda x: label_to_num[x])\n",
    "X_train,y_train = training_data.iloc[:,:-1],training_data.iloc[:,-1:]"
   ]
  },
  {
   "cell_type": "code",
   "execution_count": 100,
   "metadata": {},
   "outputs": [],
   "source": [
    "# Specify final ML model path\n",
    "final_model_path = 'models/naive_bayes.pkl'\n",
    "final_model = load_pkl_model(final_model_path)\n",
    "#prediction \n",
    "y_pred = predict(final_model,num_to_label,X_test_processed)"
   ]
  },
  {
   "cell_type": "code",
   "execution_count": 101,
   "metadata": {},
   "outputs": [
    {
     "name": "stdout",
     "output_type": "stream",
     "text": [
      "------------------------classification report------------------------\n",
      "              precision    recall  f1-score    support\n",
      "H              0.606061  0.952381  0.740741  21.000000\n",
      "L              0.615385  0.421053  0.500000  19.000000\n",
      "M              0.538462  0.437500  0.482759  32.000000\n",
      "accuracy       0.583333  0.583333  0.583333   0.583333\n",
      "macro avg      0.586636  0.603645  0.574500  72.000000\n",
      "weighted avg   0.578477  0.583333  0.562553  72.000000\n"
     ]
    }
   ],
   "source": [
    "#classification report \n",
    "print(\"------------------------classification report------------------------\")\n",
    "class_report(y_test,y_pred)"
   ]
  },
  {
   "cell_type": "code",
   "execution_count": 102,
   "metadata": {},
   "outputs": [
    {
     "name": "stdout",
     "output_type": "stream",
     "text": [
      "------------------------confusion matrix-----------------------------\n"
     ]
    },
    {
     "data": {
      "image/png": "[encoded data removed]",
      "text/plain": [
       "<Figure size 576x396 with 2 Axes>"
      ]
     },
     "metadata": {},
     "output_type": "display_data"
    }
   ],
   "source": [
    "#confusion matrix\n",
    "print(\"------------------------confusion matrix-----------------------------\")\n",
    "conf_matrix(y_test,y_pred)"
   ]
  },
  {
   "cell_type": "code",
   "execution_count": 103,
   "metadata": {},
   "outputs": [
    {
     "name": "stderr",
     "output_type": "stream",
     "text": [
      "C:\\Users\\ProBook\\AppData\\Roaming\\Python\\Python38\\site-packages\\sklearn\\base.py:450: UserWarning: X does not have valid feature names, but GaussianNB was fitted with feature names\n",
      "  warnings.warn(\n"
     ]
    },
    {
     "data": {
      "image/png": "[encoded data removed]",
      "text/plain": [
       "<Figure size 576x396 with 1 Axes>"
      ]
     },
     "metadata": {},
     "output_type": "display_data"
    },
    {
     "data": {
      "text/plain": [
       "ROCAUC(ax=<AxesSubplot:title={'center':'ROC Curves for GaussianNB'}, xlabel='False Positive Rate', ylabel='True Positive Rate'>,\n",
       "       estimator=GaussianNB(var_smoothing=0.1))"
      ]
     },
     "execution_count": 103,
     "metadata": {},
     "output_type": "execute_result"
    }
   ],
   "source": [
    "#roc curve \n",
    "\n",
    "plot_ROC_curve(final_model,X_train,y_train,X_test_processed,y_test)"
   ]
  },
  {
   "cell_type": "code",
   "execution_count": 105,
   "metadata": {},
   "outputs": [
    {
     "name": "stdout",
     "output_type": "stream",
     "text": [
      "------------------------saving result and analyzing wrong prediction-------\n",
      "   gender  NationalITy PlaceofBirth       StageID GradeID SectionID    Topic  \\\n",
      "0       F       Jordan       Jordan    lowerlevel    G-02         A   French   \n",
      "1       M           KW       KuwaIT  MiddleSchool    G-07         A     Math   \n",
      "2       M           KW       KuwaIT    lowerlevel    G-02         B       IT   \n",
      "6       M    Palestine       Jordan  MiddleSchool    G-07         B  Biology   \n",
      "10      M           KW       KuwaIT  MiddleSchool    G-08         C  Spanish   \n",
      "11      F       Jordan       KuwaIT  MiddleSchool    G-08         C  Spanish   \n",
      "12      M       Jordan       Jordan    lowerlevel    G-02         A   French   \n",
      "14      M          USA          USA  MiddleSchool    G-08         B     Math   \n",
      "18      M       Jordan       Jordan    lowerlevel    G-02         B   Arabic   \n",
      "20      M       Jordan  SaudiArabia    lowerlevel    G-02         B   Arabic   \n",
      "21      M  SaudiArabia  SaudiArabia    lowerlevel    G-02         B       IT   \n",
      "23      F       Jordan       Jordan  MiddleSchool    G-06         A  English   \n",
      "29      M           KW       KuwaIT    lowerlevel    G-04         A       IT   \n",
      "33      F       Jordan       Jordan    lowerlevel    G-05         A  English   \n",
      "38      M      lebanon      lebanon  MiddleSchool    G-08         C  Spanish   \n",
      "42      F    Palestine       Jordan    lowerlevel    G-02         B   French   \n",
      "44      M       Jordan       Jordan  MiddleSchool    G-07         A  Biology   \n",
      "47      F        Egypt        Egypt  MiddleSchool    G-07         A       IT   \n",
      "49      M       Jordan       Jordan    lowerlevel    G-02         B   French   \n",
      "52      M           KW       KuwaIT    lowerlevel    G-02         B       IT   \n",
      "54      F           KW       KuwaIT    lowerlevel    G-02         C       IT   \n",
      "59      M        Tunis        Tunis  MiddleSchool    G-08         C  Spanish   \n",
      "60      M           KW       KuwaIT    lowerlevel    G-02         B       IT   \n",
      "61      F       Jordan       Jordan    lowerlevel    G-02         A   French   \n",
      "62      M        Egypt        Egypt  MiddleSchool    G-07         B  Science   \n",
      "63      F           KW       KuwaIT    HighSchool    G-12         A  English   \n",
      "65      M       Jordan       Jordan    lowerlevel    G-02         A   French   \n",
      "66      M       Jordan       Jordan  MiddleSchool    G-07         A    Quran   \n",
      "70      F       Jordan       Jordan    lowerlevel    G-02         A   Arabic   \n",
      "71      M       Jordan       Jordan    lowerlevel    G-02         B   Arabic   \n",
      "\n",
      "   Semester Relation  raisedhands  VisITedResources  AnnouncementsView  \\\n",
      "0         S      Mum           25                80                 29   \n",
      "1         F   Father           11                 2                  2   \n",
      "2         F   Father           50                 7                  9   \n",
      "6         F   Father           78                80                 66   \n",
      "10        S      Mum           57                51                 46   \n",
      "11        S   Father           87                88                 40   \n",
      "12        S   Father           30                10                 20   \n",
      "14        F   Father           19                 5                  4   \n",
      "18        F      Mum           15                90                 21   \n",
      "20        S      Mum            5                 0                  1   \n",
      "21        F   Father            7                12                  5   \n",
      "23        F      Mum           70                64                 42   \n",
      "29        F   Father           40                50                 12   \n",
      "33        F      Mum           21                10                 28   \n",
      "38        S   Father           77                69                 41   \n",
      "42        S   Father           79                89                 11   \n",
      "44        S      Mum            3                 8                 19   \n",
      "47        F   Father           45                54                 26   \n",
      "49        S   Father           25                87                 21   \n",
      "52        F   Father            0                12                  3   \n",
      "54        F      Mum           25                29                 40   \n",
      "59        S   Father            7                61                 22   \n",
      "60        F   Father            4                 8                 10   \n",
      "61        F      Mum           10                90                 30   \n",
      "62        S   Father           72                80                 58   \n",
      "63        F   Father           25                10                 19   \n",
      "65        F   Father           40                 7                 50   \n",
      "66        F      Mum           50                90                 29   \n",
      "70        S   Father            5                 9                 19   \n",
      "71        F   Father           10                30                 50   \n",
      "\n",
      "    Discussion ParentAnsweringSurvey ParentschoolSatisfaction  \\\n",
      "0           23                    No                     Good   \n",
      "1            8                    No                      Bad   \n",
      "2           50                   Yes                      Bad   \n",
      "6           51                   Yes                     Good   \n",
      "10          34                   Yes                     Good   \n",
      "11          10                   Yes                     Good   \n",
      "12           5                    No                      Bad   \n",
      "14           1                   Yes                     Good   \n",
      "18          97                   Yes                     Good   \n",
      "20           8                    No                     Good   \n",
      "21           3                    No                      Bad   \n",
      "23          32                    No                      Bad   \n",
      "29          50                    No                      Bad   \n",
      "33          20                    No                     Good   \n",
      "38          13                   Yes                     Good   \n",
      "42          14                    No                     Good   \n",
      "44           3                    No                      Bad   \n",
      "47          90                   Yes                     Good   \n",
      "49          27                   Yes                     Good   \n",
      "52           3                   Yes                     Good   \n",
      "54          17                    No                     Good   \n",
      "59          14                    No                      Bad   \n",
      "60          60                   Yes                     Good   \n",
      "61          21                    No                     Good   \n",
      "62          86                   Yes                     Good   \n",
      "63          30                    No                      Bad   \n",
      "65          41                    No                     Good   \n",
      "66          60                   Yes                     Good   \n",
      "70          98                    No                      Bad   \n",
      "71          91                   Yes                      Bad   \n",
      "\n",
      "   StudentAbsenceDays Class predictions  \n",
      "0             Under-7     M           H  \n",
      "1             Under-7     L           M  \n",
      "2             Above-7     M           L  \n",
      "6             Under-7     M           H  \n",
      "10            Under-7     M           H  \n",
      "11            Under-7     M           H  \n",
      "12            Above-7     L           M  \n",
      "14            Above-7     L           M  \n",
      "18            Under-7     M           H  \n",
      "20            Above-7     L           M  \n",
      "21            Above-7     M           L  \n",
      "23            Under-7     M           H  \n",
      "29            Above-7     M           L  \n",
      "33            Above-7     L           M  \n",
      "38            Under-7     M           H  \n",
      "42            Under-7     M           H  \n",
      "44            Above-7     L           M  \n",
      "47            Under-7     M           H  \n",
      "49            Under-7     M           H  \n",
      "52            Above-7     M           L  \n",
      "54            Under-7     H           M  \n",
      "59            Above-7     L           M  \n",
      "60            Above-7     L           M  \n",
      "61            Under-7     M           H  \n",
      "62            Under-7     M           H  \n",
      "63            Above-7     M           L  \n",
      "65            Above-7     L           M  \n",
      "66            Under-7     M           H  \n",
      "70            Above-7     L           M  \n",
      "71            Above-7     L           M  \n"
     ]
    }
   ],
   "source": [
    "#saving and analyzing wrong predictions \n",
    "print(\"------------------------saving result and analyzing wrong prediction-------\")\n",
    "save_analyze(y_pred,'Naive_Bayes_predictions')"
   ]
  },
  {
   "cell_type": "markdown",
   "metadata": {},
   "source": [
    "# algorithms with Normalized and one hot encoded data"
   ]
  },
  {
   "cell_type": "code",
   "execution_count": 106,
   "metadata": {},
   "outputs": [],
   "source": [
    "training_data = pd.read_csv('Data/transformed/train_mms_ohe.csv')\n",
    "training_data['Class'] = training_data['Class'].apply(lambda x: label_to_num[x])\n",
    "X_train,y_train = training_data.iloc[:,:-1],training_data.iloc[:,-1:]"
   ]
  },
  {
   "cell_type": "markdown",
   "metadata": {},
   "source": [
    "## Decision Tree"
   ]
  },
  {
   "cell_type": "code",
   "execution_count": 107,
   "metadata": {},
   "outputs": [],
   "source": [
    "# Specify final ML model path\n",
    "final_model_path = 'models/decision_tree.pkl'\n",
    "final_model = load_pkl_model(final_model_path)\n",
    "#prediction \n",
    "y_pred = predict(final_model,num_to_label,X_test_processed)"
   ]
  },
  {
   "cell_type": "code",
   "execution_count": 108,
   "metadata": {},
   "outputs": [
    {
     "name": "stdout",
     "output_type": "stream",
     "text": [
      "------------------------classification report------------------------\n",
      "              precision    recall  f1-score    support\n",
      "H              0.653846  0.809524  0.723404  21.000000\n",
      "L              0.708333  0.894737  0.790698  19.000000\n",
      "M              0.727273  0.500000  0.592593  32.000000\n",
      "accuracy       0.694444  0.694444  0.694444   0.694444\n",
      "macro avg      0.696484  0.734754  0.702232  72.000000\n",
      "weighted avg   0.700859  0.694444  0.683024  72.000000\n"
     ]
    }
   ],
   "source": [
    "#classification report \n",
    "print(\"------------------------classification report------------------------\")\n",
    "class_report(y_test,y_pred)"
   ]
  },
  {
   "cell_type": "code",
   "execution_count": 109,
   "metadata": {},
   "outputs": [
    {
     "name": "stdout",
     "output_type": "stream",
     "text": [
      "------------------------confusion matrix-----------------------------\n"
     ]
    },
    {
     "data": {
      "image/png": "[encoded data removed]",
      "text/plain": [
       "<Figure size 576x396 with 2 Axes>"
      ]
     },
     "metadata": {},
     "output_type": "display_data"
    }
   ],
   "source": [
    "#confusion matrix\n",
    "print(\"------------------------confusion matrix-----------------------------\")\n",
    "conf_matrix(y_test,y_pred)"
   ]
  },
  {
   "cell_type": "code",
   "execution_count": 110,
   "metadata": {},
   "outputs": [
    {
     "name": "stderr",
     "output_type": "stream",
     "text": [
      "C:\\Users\\ProBook\\AppData\\Roaming\\Python\\Python38\\site-packages\\sklearn\\base.py:450: UserWarning: X does not have valid feature names, but DecisionTreeClassifier was fitted with feature names\n",
      "  warnings.warn(\n"
     ]
    },
    {
     "data": {
      "image/png": "[encoded data removed]",
      "text/plain": [
       "<Figure size 576x396 with 1 Axes>"
      ]
     },
     "metadata": {},
     "output_type": "display_data"
    },
    {
     "data": {
      "text/plain": [
       "ROCAUC(ax=<AxesSubplot:title={'center':'ROC Curves for DecisionTreeClassifier'}, xlabel='False Positive Rate', ylabel='True Positive Rate'>,\n",
       "       estimator=DecisionTreeClassifier(criterion='entropy', max_depth=10,\n",
       "                                        min_samples_leaf=10, random_state=0))"
      ]
     },
     "execution_count": 110,
     "metadata": {},
     "output_type": "execute_result"
    }
   ],
   "source": [
    "#roc curve \n",
    "\n",
    "plot_ROC_curve(final_model,X_train,y_train,X_test_processed,y_test)"
   ]
  },
  {
   "cell_type": "code",
   "execution_count": 111,
   "metadata": {},
   "outputs": [
    {
     "name": "stdout",
     "output_type": "stream",
     "text": [
      "------------------------saving result and analyzing wrong prediction-------\n",
      "   gender  NationalITy PlaceofBirth       StageID GradeID SectionID    Topic  \\\n",
      "0       F       Jordan       Jordan    lowerlevel    G-02         A   French   \n",
      "1       M           KW       KuwaIT  MiddleSchool    G-07         A     Math   \n",
      "2       M           KW       KuwaIT    lowerlevel    G-02         B       IT   \n",
      "3       M       Jordan       Jordan  MiddleSchool    G-06         A  English   \n",
      "8       M           KW       KuwaIT    lowerlevel    G-02         B   French   \n",
      "16      F      lebanon      lebanon    lowerlevel    G-02         B   French   \n",
      "18      M       Jordan       Jordan    lowerlevel    G-02         B   Arabic   \n",
      "21      M  SaudiArabia  SaudiArabia    lowerlevel    G-02         B       IT   \n",
      "23      F       Jordan       Jordan  MiddleSchool    G-06         A  English   \n",
      "28      M           KW       KuwaIT    lowerlevel    G-02         B       IT   \n",
      "29      M           KW       KuwaIT    lowerlevel    G-04         A       IT   \n",
      "34      F           KW       KuwaIT  MiddleSchool    G-08         A   Arabic   \n",
      "49      M       Jordan       Jordan    lowerlevel    G-02         B   French   \n",
      "50      M           KW       KuwaIT    HighSchool    G-09         A       IT   \n",
      "52      M           KW       KuwaIT    lowerlevel    G-02         B       IT   \n",
      "54      F           KW       KuwaIT    lowerlevel    G-02         C       IT   \n",
      "57      M       Jordan       Jordan    lowerlevel    G-04         B  Science   \n",
      "61      F       Jordan       Jordan    lowerlevel    G-02         A   French   \n",
      "63      F           KW       KuwaIT    HighSchool    G-12         A  English   \n",
      "66      M       Jordan       Jordan  MiddleSchool    G-07         A    Quran   \n",
      "67      M       Jordan       Jordan    lowerlevel    G-02         B   French   \n",
      "71      M       Jordan       Jordan    lowerlevel    G-02         B   Arabic   \n",
      "\n",
      "   Semester Relation  raisedhands  VisITedResources  AnnouncementsView  \\\n",
      "0         S      Mum           25                80                 29   \n",
      "1         F   Father           11                 2                  2   \n",
      "2         F   Father           50                 7                  9   \n",
      "3         F   Father           10                 8                 10   \n",
      "8         S      Mum           60                52                 23   \n",
      "16        S      Mum           80                42                 33   \n",
      "18        F      Mum           15                90                 21   \n",
      "21        F   Father            7                12                  5   \n",
      "23        F      Mum           70                64                 42   \n",
      "28        F   Father           90                70                 30   \n",
      "29        F   Father           40                50                 12   \n",
      "34        F   Father           30                90                 33   \n",
      "49        S   Father           25                87                 21   \n",
      "50        F   Father           20                80                 33   \n",
      "52        F   Father            0                12                  3   \n",
      "54        F      Mum           25                29                 40   \n",
      "57        S      Mum           72                64                 59   \n",
      "61        F      Mum           10                90                 30   \n",
      "63        F   Father           25                10                 19   \n",
      "66        F      Mum           50                90                 29   \n",
      "67        S      Mum           55                72                 83   \n",
      "71        F   Father           10                30                 50   \n",
      "\n",
      "    Discussion ParentAnsweringSurvey ParentschoolSatisfaction  \\\n",
      "0           23                    No                     Good   \n",
      "1            8                    No                      Bad   \n",
      "2           50                   Yes                      Bad   \n",
      "3           10                   Yes                      Bad   \n",
      "8           33                   Yes                     Good   \n",
      "16          13                   Yes                      Bad   \n",
      "18          97                   Yes                     Good   \n",
      "21           3                    No                      Bad   \n",
      "23          32                    No                      Bad   \n",
      "28          14                    No                      Bad   \n",
      "29          50                    No                      Bad   \n",
      "34          35                    No                      Bad   \n",
      "49          27                   Yes                     Good   \n",
      "50          33                   Yes                     Good   \n",
      "52           3                   Yes                     Good   \n",
      "54          17                    No                     Good   \n",
      "57          89                   Yes                     Good   \n",
      "61          21                    No                     Good   \n",
      "63          30                    No                      Bad   \n",
      "66          60                   Yes                     Good   \n",
      "67          14                   Yes                     Good   \n",
      "71          91                   Yes                      Bad   \n",
      "\n",
      "   StudentAbsenceDays Class predictions  \n",
      "0             Under-7     M           H  \n",
      "1             Under-7     L           M  \n",
      "2             Above-7     M           L  \n",
      "3             Above-7     M           L  \n",
      "8             Under-7     H           M  \n",
      "16            Under-7     H           M  \n",
      "18            Under-7     M           H  \n",
      "21            Above-7     M           L  \n",
      "23            Under-7     M           H  \n",
      "28            Under-7     M           H  \n",
      "29            Above-7     M           L  \n",
      "34            Under-7     M           H  \n",
      "49            Under-7     M           H  \n",
      "50            Under-7     M           H  \n",
      "52            Above-7     M           L  \n",
      "54            Under-7     H           M  \n",
      "57            Under-7     H           M  \n",
      "61            Under-7     M           H  \n",
      "63            Above-7     M           L  \n",
      "66            Under-7     M           H  \n",
      "67            Above-7     M           L  \n",
      "71            Above-7     L           M  \n"
     ]
    }
   ],
   "source": [
    "#saving and analyzing wrong predictions \n",
    "print(\"------------------------saving result and analyzing wrong prediction-------\")\n",
    "save_analyze(y_pred,'decision_tree_predictions')"
   ]
  },
  {
   "cell_type": "markdown",
   "metadata": {},
   "source": [
    "## Random Forest "
   ]
  },
  {
   "cell_type": "code",
   "execution_count": 62,
   "metadata": {},
   "outputs": [],
   "source": [
    "# Specify final ML model path\n",
    "final_model_path = 'models/random_forest.pkl'\n",
    "final_model = load_pkl_model(final_model_path)\n",
    "#prediction \n",
    "y_pred = predict(final_model,num_to_label,X_test_processed)"
   ]
  },
  {
   "cell_type": "code",
   "execution_count": 63,
   "metadata": {},
   "outputs": [
    {
     "name": "stdout",
     "output_type": "stream",
     "text": [
      "------------------------classification report------------------------\n",
      "              precision    recall  f1-score    support\n",
      "H              0.833333  0.714286  0.769231  21.000000\n",
      "L              0.760000  1.000000  0.863636  19.000000\n",
      "M              0.793103  0.718750  0.754098  32.000000\n",
      "accuracy       0.791667  0.791667  0.791667   0.791667\n",
      "macro avg      0.795479  0.811012  0.795655  72.000000\n",
      "weighted avg   0.796102  0.791667  0.787418  72.000000\n"
     ]
    }
   ],
   "source": [
    "#classification report \n",
    "print(\"------------------------classification report------------------------\")\n",
    "class_report(y_test,y_pred)"
   ]
  },
  {
   "cell_type": "code",
   "execution_count": 64,
   "metadata": {},
   "outputs": [
    {
     "name": "stdout",
     "output_type": "stream",
     "text": [
      "------------------------confusion matrix-----------------------------\n"
     ]
    },
    {
     "data": {
      "image/png": "[encoded data removed]",
      "text/plain": [
       "<Figure size 576x396 with 2 Axes>"
      ]
     },
     "metadata": {},
     "output_type": "display_data"
    }
   ],
   "source": [
    "#confusion matrix\n",
    "print(\"------------------------confusion matrix-----------------------------\")\n",
    "conf_matrix(y_test,y_pred)"
   ]
  },
  {
   "cell_type": "code",
   "execution_count": 65,
   "metadata": {},
   "outputs": [
    {
     "name": "stderr",
     "output_type": "stream",
     "text": [
      "C:\\Users\\ProBook\\AppData\\Roaming\\Python\\Python38\\site-packages\\sklearn\\base.py:450: UserWarning: X does not have valid feature names, but RandomForestClassifier was fitted with feature names\n",
      "  warnings.warn(\n"
     ]
    },
    {
     "data": {
      "image/png": "[encoded data removed]",
      "text/plain": [
       "<Figure size 576x396 with 1 Axes>"
      ]
     },
     "metadata": {},
     "output_type": "display_data"
    },
    {
     "data": {
      "text/plain": [
       "ROCAUC(ax=<AxesSubplot:title={'center':'ROC Curves for RandomForestClassifier'}, xlabel='False Positive Rate', ylabel='True Positive Rate'>,\n",
       "       estimator=RandomForestClassifier(bootstrap=False, n_estimators=1200,\n",
       "                                        random_state=0))"
      ]
     },
     "execution_count": 65,
     "metadata": {},
     "output_type": "execute_result"
    }
   ],
   "source": [
    "#roc curve \n",
    "\n",
    "plot_ROC_curve(final_model,X_train,y_train,X_test_processed,y_test)"
   ]
  },
  {
   "cell_type": "code",
   "execution_count": 66,
   "metadata": {},
   "outputs": [
    {
     "name": "stdout",
     "output_type": "stream",
     "text": [
      "------------------------saving result and analyzing wrong prediction-------\n",
      "   gender  NationalITy PlaceofBirth       StageID GradeID SectionID    Topic  \\\n",
      "2       M           KW       KuwaIT    lowerlevel    G-02         B       IT   \n",
      "3       M       Jordan       Jordan  MiddleSchool    G-06         A  English   \n",
      "8       M           KW       KuwaIT    lowerlevel    G-02         B   French   \n",
      "10      M           KW       KuwaIT  MiddleSchool    G-08         C  Spanish   \n",
      "16      F      lebanon      lebanon    lowerlevel    G-02         B   French   \n",
      "21      M  SaudiArabia  SaudiArabia    lowerlevel    G-02         B       IT   \n",
      "23      F       Jordan       Jordan  MiddleSchool    G-06         A  English   \n",
      "29      M           KW       KuwaIT    lowerlevel    G-04         A       IT   \n",
      "30      F           KW       KuwaIT  MiddleSchool    G-06         A  Science   \n",
      "46      M           KW       KuwaIT    lowerlevel    G-02         B   French   \n",
      "51      F    Palestine       Jordan    lowerlevel    G-02         A   Arabic   \n",
      "52      M           KW       KuwaIT    lowerlevel    G-02         B       IT   \n",
      "54      F           KW       KuwaIT    lowerlevel    G-02         C       IT   \n",
      "63      F           KW       KuwaIT    HighSchool    G-12         A  English   \n",
      "66      M       Jordan       Jordan  MiddleSchool    G-07         A    Quran   \n",
      "\n",
      "   Semester Relation  raisedhands  VisITedResources  AnnouncementsView  \\\n",
      "2         F   Father           50                 7                  9   \n",
      "3         F   Father           10                 8                 10   \n",
      "8         S      Mum           60                52                 23   \n",
      "10        S      Mum           57                51                 46   \n",
      "16        S      Mum           80                42                 33   \n",
      "21        F   Father            7                12                  5   \n",
      "23        F      Mum           70                64                 42   \n",
      "29        F   Father           40                50                 12   \n",
      "30        S   Father           80                94                 62   \n",
      "46        S   Father           40                62                 83   \n",
      "51        S      Mum           75                81                 51   \n",
      "52        F   Father            0                12                  3   \n",
      "54        F      Mum           25                29                 40   \n",
      "63        F   Father           25                10                 19   \n",
      "66        F      Mum           50                90                 29   \n",
      "\n",
      "    Discussion ParentAnsweringSurvey ParentschoolSatisfaction  \\\n",
      "2           50                   Yes                      Bad   \n",
      "3           10                   Yes                      Bad   \n",
      "8           33                   Yes                     Good   \n",
      "10          34                   Yes                     Good   \n",
      "16          13                   Yes                      Bad   \n",
      "21           3                    No                      Bad   \n",
      "23          32                    No                      Bad   \n",
      "29          50                    No                      Bad   \n",
      "30          77                   Yes                     Good   \n",
      "46          33                   Yes                     Good   \n",
      "51          34                    No                     Good   \n",
      "52           3                   Yes                     Good   \n",
      "54          17                    No                     Good   \n",
      "63          30                    No                      Bad   \n",
      "66          60                   Yes                     Good   \n",
      "\n",
      "   StudentAbsenceDays Class predictions  \n",
      "2             Above-7     M           L  \n",
      "3             Above-7     M           L  \n",
      "8             Under-7     H           M  \n",
      "10            Under-7     M           H  \n",
      "16            Under-7     H           M  \n",
      "21            Above-7     M           L  \n",
      "23            Under-7     M           H  \n",
      "29            Above-7     M           L  \n",
      "30            Under-7     H           M  \n",
      "46            Under-7     H           M  \n",
      "51            Under-7     H           M  \n",
      "52            Above-7     M           L  \n",
      "54            Under-7     H           M  \n",
      "63            Above-7     M           L  \n",
      "66            Under-7     M           H  \n"
     ]
    }
   ],
   "source": [
    "#saving and analyzing wrong predictions \n",
    "print(\"------------------------saving result and analyzing wrong prediction-------\")\n",
    "save_analyze(y_pred,'Random_forest_predictions')"
   ]
  },
  {
   "cell_type": "markdown",
   "metadata": {},
   "source": [
    "### logistic Regression"
   ]
  },
  {
   "cell_type": "code",
   "execution_count": 77,
   "metadata": {},
   "outputs": [],
   "source": [
    "# Specify final ML model path\n",
    "final_model_path = 'models/logistic_regression.pkl'\n",
    "final_model = load_pkl_model(final_model_path)\n",
    "#prediction \n",
    "y_pred = predict(final_model,num_to_label,X_test_processed)"
   ]
  },
  {
   "cell_type": "code",
   "execution_count": 78,
   "metadata": {},
   "outputs": [
    {
     "name": "stdout",
     "output_type": "stream",
     "text": [
      "------------------------classification report------------------------\n",
      "              precision    recall  f1-score    support\n",
      "H              0.782609  0.857143  0.818182  21.000000\n",
      "L              0.750000  0.947368  0.837209  19.000000\n",
      "M              0.840000  0.656250  0.736842  32.000000\n",
      "accuracy       0.791667  0.791667  0.791667   0.791667\n",
      "macro avg      0.790870  0.820254  0.797411  72.000000\n",
      "weighted avg   0.799511  0.791667  0.787052  72.000000\n"
     ]
    }
   ],
   "source": [
    "#classification report \n",
    "print(\"------------------------classification report------------------------\")\n",
    "class_report(y_test,y_pred)"
   ]
  },
  {
   "cell_type": "code",
   "execution_count": 79,
   "metadata": {},
   "outputs": [
    {
     "name": "stdout",
     "output_type": "stream",
     "text": [
      "------------------------confusion matrix-----------------------------\n"
     ]
    },
    {
     "data": {
      "image/png": "[encoded data removed]",
      "text/plain": [
       "<Figure size 576x396 with 2 Axes>"
      ]
     },
     "metadata": {},
     "output_type": "display_data"
    }
   ],
   "source": [
    "#confusion matrix\n",
    "print(\"------------------------confusion matrix-----------------------------\")\n",
    "conf_matrix(y_test,y_pred)"
   ]
  },
  {
   "cell_type": "code",
   "execution_count": 80,
   "metadata": {},
   "outputs": [
    {
     "name": "stderr",
     "output_type": "stream",
     "text": [
      "C:\\Users\\ProBook\\AppData\\Roaming\\Python\\Python38\\site-packages\\sklearn\\base.py:450: UserWarning: X does not have valid feature names, but LogisticRegression was fitted with feature names\n",
      "  warnings.warn(\n"
     ]
    },
    {
     "data": {
      "image/png": "[encoded data removed]",
      "text/plain": [
       "<Figure size 576x396 with 1 Axes>"
      ]
     },
     "metadata": {},
     "output_type": "display_data"
    },
    {
     "data": {
      "text/plain": [
       "ROCAUC(ax=<AxesSubplot:title={'center':'ROC Curves for LogisticRegression'}, xlabel='False Positive Rate', ylabel='True Positive Rate'>,\n",
       "       estimator=LogisticRegression(penalty='l1', random_state=0,\n",
       "                                    solver='saga'))"
      ]
     },
     "execution_count": 80,
     "metadata": {},
     "output_type": "execute_result"
    }
   ],
   "source": [
    "#roc curve \n",
    "\n",
    "plot_ROC_curve(final_model,X_train,y_train,X_test_processed,y_test)"
   ]
  },
  {
   "cell_type": "code",
   "execution_count": 81,
   "metadata": {},
   "outputs": [
    {
     "name": "stdout",
     "output_type": "stream",
     "text": [
      "------------------------saving result and analyzing wrong prediction-------\n",
      "   gender  NationalITy PlaceofBirth       StageID GradeID SectionID  \\\n",
      "2       M           KW       KuwaIT    lowerlevel    G-02         B   \n",
      "3       M       Jordan       Jordan  MiddleSchool    G-06         A   \n",
      "10      M           KW       KuwaIT  MiddleSchool    G-08         C   \n",
      "11      F       Jordan       KuwaIT  MiddleSchool    G-08         C   \n",
      "18      M       Jordan       Jordan    lowerlevel    G-02         B   \n",
      "21      M  SaudiArabia  SaudiArabia    lowerlevel    G-02         B   \n",
      "23      F       Jordan       Jordan  MiddleSchool    G-06         A   \n",
      "29      M           KW       KuwaIT    lowerlevel    G-04         A   \n",
      "40      F       Jordan       Jordan  MiddleSchool    G-08         A   \n",
      "46      M           KW       KuwaIT    lowerlevel    G-02         B   \n",
      "52      M           KW       KuwaIT    lowerlevel    G-02         B   \n",
      "54      F           KW       KuwaIT    lowerlevel    G-02         C   \n",
      "63      F           KW       KuwaIT    HighSchool    G-12         A   \n",
      "66      M       Jordan       Jordan  MiddleSchool    G-07         A   \n",
      "71      M       Jordan       Jordan    lowerlevel    G-02         B   \n",
      "\n",
      "        Topic Semester Relation  raisedhands  VisITedResources  \\\n",
      "2          IT        F   Father           50                 7   \n",
      "3     English        F   Father           10                 8   \n",
      "10    Spanish        S      Mum           57                51   \n",
      "11    Spanish        S   Father           87                88   \n",
      "18     Arabic        F      Mum           15                90   \n",
      "21         IT        F   Father            7                12   \n",
      "23    English        F      Mum           70                64   \n",
      "29         IT        F   Father           40                50   \n",
      "40  Chemistry        F   Father           15                97   \n",
      "46     French        S   Father           40                62   \n",
      "52         IT        F   Father            0                12   \n",
      "54         IT        F      Mum           25                29   \n",
      "63    English        F   Father           25                10   \n",
      "66      Quran        F      Mum           50                90   \n",
      "71     Arabic        F   Father           10                30   \n",
      "\n",
      "    AnnouncementsView  Discussion ParentAnsweringSurvey  \\\n",
      "2                   9          50                   Yes   \n",
      "3                  10          10                   Yes   \n",
      "10                 46          34                   Yes   \n",
      "11                 40          10                   Yes   \n",
      "18                 21          97                   Yes   \n",
      "21                  5           3                    No   \n",
      "23                 42          32                    No   \n",
      "29                 12          50                    No   \n",
      "40                 22          10                   Yes   \n",
      "46                 83          33                   Yes   \n",
      "52                  3           3                   Yes   \n",
      "54                 40          17                    No   \n",
      "63                 19          30                    No   \n",
      "66                 29          60                   Yes   \n",
      "71                 50          91                   Yes   \n",
      "\n",
      "   ParentschoolSatisfaction StudentAbsenceDays Class predictions  \n",
      "2                       Bad            Above-7     M           L  \n",
      "3                       Bad            Above-7     M           L  \n",
      "10                     Good            Under-7     M           H  \n",
      "11                     Good            Under-7     M           H  \n",
      "18                     Good            Under-7     M           H  \n",
      "21                      Bad            Above-7     M           L  \n",
      "23                      Bad            Under-7     M           H  \n",
      "29                      Bad            Above-7     M           L  \n",
      "40                     Good            Under-7     H           M  \n",
      "46                     Good            Under-7     H           M  \n",
      "52                     Good            Above-7     M           L  \n",
      "54                     Good            Under-7     H           M  \n",
      "63                      Bad            Above-7     M           L  \n",
      "66                     Good            Under-7     M           H  \n",
      "71                      Bad            Above-7     L           M  \n"
     ]
    }
   ],
   "source": [
    "#saving and analyzing wrong predictions \n",
    "print(\"------------------------saving result and analyzing wrong prediction-------\")\n",
    "save_analyze(y_pred,'logistic_reg_predictions')"
   ]
  },
  {
   "cell_type": "markdown",
   "metadata": {},
   "source": [
    "### svm"
   ]
  },
  {
   "cell_type": "code",
   "execution_count": 93,
   "metadata": {},
   "outputs": [],
   "source": [
    "# Specify final ML model path\n",
    "final_model_path = 'models/svm.pkl'\n",
    "final_model = load_pkl_model(final_model_path)\n",
    "#prediction \n",
    "y_pred = predict(final_model,num_to_label,X_test_processed)"
   ]
  },
  {
   "cell_type": "code",
   "execution_count": 94,
   "metadata": {},
   "outputs": [
    {
     "name": "stdout",
     "output_type": "stream",
     "text": [
      "------------------------classification report------------------------\n",
      "              precision    recall  f1-score    support\n",
      "H              0.708333  0.809524  0.755556  21.000000\n",
      "L              0.761905  0.842105  0.800000  19.000000\n",
      "M              0.740741  0.625000  0.677966  32.000000\n",
      "accuracy       0.736111  0.736111  0.736111   0.736111\n",
      "macro avg      0.736993  0.758876  0.744507  72.000000\n",
      "weighted avg   0.736874  0.736111  0.732800  72.000000\n"
     ]
    }
   ],
   "source": [
    "#classification report \n",
    "print(\"------------------------classification report------------------------\")\n",
    "class_report(y_test,y_pred)"
   ]
  },
  {
   "cell_type": "code",
   "execution_count": 95,
   "metadata": {},
   "outputs": [
    {
     "name": "stdout",
     "output_type": "stream",
     "text": [
      "------------------------confusion matrix-----------------------------\n"
     ]
    },
    {
     "data": {
      "image/png": "[encoded data removed]",
      "text/plain": [
       "<Figure size 576x396 with 2 Axes>"
      ]
     },
     "metadata": {},
     "output_type": "display_data"
    }
   ],
   "source": [
    "#confusion matrix\n",
    "print(\"------------------------confusion matrix-----------------------------\")\n",
    "conf_matrix(y_test,y_pred)"
   ]
  },
  {
   "cell_type": "code",
   "execution_count": 96,
   "metadata": {},
   "outputs": [
    {
     "name": "stderr",
     "output_type": "stream",
     "text": [
      "C:\\Users\\ProBook\\AppData\\Roaming\\Python\\Python38\\site-packages\\sklearn\\base.py:450: UserWarning: X does not have valid feature names, but SVC was fitted with feature names\n",
      "  warnings.warn(\n"
     ]
    },
    {
     "data": {
      "image/png": "[encoded data removed]",
      "text/plain": [
       "<Figure size 576x396 with 1 Axes>"
      ]
     },
     "metadata": {},
     "output_type": "display_data"
    },
    {
     "data": {
      "text/plain": [
       "ROCAUC(ax=<AxesSubplot:title={'center':'ROC Curves for SVC'}, xlabel='False Positive Rate', ylabel='True Positive Rate'>,\n",
       "       estimator=SVC(C=1, degree=1, random_state=0))"
      ]
     },
     "execution_count": 96,
     "metadata": {},
     "output_type": "execute_result"
    }
   ],
   "source": [
    "#roc curve \n",
    "\n",
    "plot_ROC_curve(final_model,X_train,y_train,X_test_processed,y_test)"
   ]
  },
  {
   "cell_type": "code",
   "execution_count": 97,
   "metadata": {},
   "outputs": [
    {
     "name": "stdout",
     "output_type": "stream",
     "text": [
      "------------------------saving result and analyzing wrong prediction-------\n",
      "   gender  NationalITy PlaceofBirth       StageID GradeID SectionID  \\\n",
      "0       F       Jordan       Jordan    lowerlevel    G-02         A   \n",
      "1       M           KW       KuwaIT  MiddleSchool    G-07         A   \n",
      "2       M           KW       KuwaIT    lowerlevel    G-02         B   \n",
      "6       M    Palestine       Jordan  MiddleSchool    G-07         B   \n",
      "10      M           KW       KuwaIT  MiddleSchool    G-08         C   \n",
      "18      M       Jordan       Jordan    lowerlevel    G-02         B   \n",
      "21      M  SaudiArabia  SaudiArabia    lowerlevel    G-02         B   \n",
      "23      F       Jordan       Jordan  MiddleSchool    G-06         A   \n",
      "29      M           KW       KuwaIT    lowerlevel    G-04         A   \n",
      "30      F           KW       KuwaIT  MiddleSchool    G-06         A   \n",
      "33      F       Jordan       Jordan    lowerlevel    G-05         A   \n",
      "40      F       Jordan       Jordan  MiddleSchool    G-08         A   \n",
      "46      M           KW       KuwaIT    lowerlevel    G-02         B   \n",
      "52      M           KW       KuwaIT    lowerlevel    G-02         B   \n",
      "54      F           KW       KuwaIT    lowerlevel    G-02         C   \n",
      "61      F       Jordan       Jordan    lowerlevel    G-02         A   \n",
      "63      F           KW       KuwaIT    HighSchool    G-12         A   \n",
      "66      M       Jordan       Jordan  MiddleSchool    G-07         A   \n",
      "71      M       Jordan       Jordan    lowerlevel    G-02         B   \n",
      "\n",
      "        Topic Semester Relation  raisedhands  VisITedResources  \\\n",
      "0      French        S      Mum           25                80   \n",
      "1        Math        F   Father           11                 2   \n",
      "2          IT        F   Father           50                 7   \n",
      "6     Biology        F   Father           78                80   \n",
      "10    Spanish        S      Mum           57                51   \n",
      "18     Arabic        F      Mum           15                90   \n",
      "21         IT        F   Father            7                12   \n",
      "23    English        F      Mum           70                64   \n",
      "29         IT        F   Father           40                50   \n",
      "30    Science        S   Father           80                94   \n",
      "33    English        F      Mum           21                10   \n",
      "40  Chemistry        F   Father           15                97   \n",
      "46     French        S   Father           40                62   \n",
      "52         IT        F   Father            0                12   \n",
      "54         IT        F      Mum           25                29   \n",
      "61     French        F      Mum           10                90   \n",
      "63    English        F   Father           25                10   \n",
      "66      Quran        F      Mum           50                90   \n",
      "71     Arabic        F   Father           10                30   \n",
      "\n",
      "    AnnouncementsView  Discussion ParentAnsweringSurvey  \\\n",
      "0                  29          23                    No   \n",
      "1                   2           8                    No   \n",
      "2                   9          50                   Yes   \n",
      "6                  66          51                   Yes   \n",
      "10                 46          34                   Yes   \n",
      "18                 21          97                   Yes   \n",
      "21                  5           3                    No   \n",
      "23                 42          32                    No   \n",
      "29                 12          50                    No   \n",
      "30                 62          77                   Yes   \n",
      "33                 28          20                    No   \n",
      "40                 22          10                   Yes   \n",
      "46                 83          33                   Yes   \n",
      "52                  3           3                   Yes   \n",
      "54                 40          17                    No   \n",
      "61                 30          21                    No   \n",
      "63                 19          30                    No   \n",
      "66                 29          60                   Yes   \n",
      "71                 50          91                   Yes   \n",
      "\n",
      "   ParentschoolSatisfaction StudentAbsenceDays Class predictions  \n",
      "0                      Good            Under-7     M           H  \n",
      "1                       Bad            Under-7     L           M  \n",
      "2                       Bad            Above-7     M           L  \n",
      "6                      Good            Under-7     M           H  \n",
      "10                     Good            Under-7     M           H  \n",
      "18                     Good            Under-7     M           H  \n",
      "21                      Bad            Above-7     M           L  \n",
      "23                      Bad            Under-7     M           H  \n",
      "29                      Bad            Above-7     M           L  \n",
      "30                     Good            Under-7     H           M  \n",
      "33                     Good            Above-7     L           M  \n",
      "40                     Good            Under-7     H           M  \n",
      "46                     Good            Under-7     H           M  \n",
      "52                     Good            Above-7     M           L  \n",
      "54                     Good            Under-7     H           M  \n",
      "61                     Good            Under-7     M           H  \n",
      "63                      Bad            Above-7     M           L  \n",
      "66                     Good            Under-7     M           H  \n",
      "71                      Bad            Above-7     L           M  \n"
     ]
    }
   ],
   "source": [
    "#saving and analyzing wrong predictions \n",
    "print(\"------------------------saving result and analyzing wrong prediction-------\")\n",
    "save_analyze(y_pred,'svm_predictions')"
   ]
  },
  {
   "cell_type": "markdown",
   "metadata": {},
   "source": [
    "### xgboost"
   ]
  },
  {
   "cell_type": "code",
   "execution_count": 87,
   "metadata": {},
   "outputs": [],
   "source": [
    "# Specify final ML model path\n",
    "final_model_path = 'models/xgboost.pkl'\n",
    "final_model = load_pkl_model(final_model_path)\n",
    "#prediction \n",
    "y_pred = predict(final_model,num_to_label,X_test_processed)"
   ]
  },
  {
   "cell_type": "code",
   "execution_count": 88,
   "metadata": {},
   "outputs": [
    {
     "name": "stdout",
     "output_type": "stream",
     "text": [
      "------------------------classification report------------------------\n",
      "              precision    recall  f1-score  support\n",
      "H              0.714286  0.714286  0.714286    21.00\n",
      "L              0.782609  0.947368  0.857143    19.00\n",
      "M              0.750000  0.656250  0.700000    32.00\n",
      "accuracy       0.750000  0.750000  0.750000     0.75\n",
      "macro avg      0.748965  0.772635  0.757143    72.00\n",
      "weighted avg   0.748188  0.750000  0.745635    72.00\n"
     ]
    }
   ],
   "source": [
    "#classification report \n",
    "print(\"------------------------classification report------------------------\")\n",
    "class_report(y_test,y_pred)"
   ]
  },
  {
   "cell_type": "code",
   "execution_count": 89,
   "metadata": {},
   "outputs": [
    {
     "name": "stdout",
     "output_type": "stream",
     "text": [
      "------------------------confusion matrix-----------------------------\n"
     ]
    },
    {
     "data": {
      "image/png": "[encoded data removed]",
      "text/plain": [
       "<Figure size 576x396 with 2 Axes>"
      ]
     },
     "metadata": {},
     "output_type": "display_data"
    }
   ],
   "source": [
    "#confusion matrix\n",
    "print(\"------------------------confusion matrix-----------------------------\")\n",
    "conf_matrix(y_test,y_pred)"
   ]
  },
  {
   "cell_type": "code",
   "execution_count": 90,
   "metadata": {},
   "outputs": [
    {
     "data": {
      "image/png": "[encoded data removed]",
      "text/plain": [
       "<Figure size 576x396 with 1 Axes>"
      ]
     },
     "metadata": {},
     "output_type": "display_data"
    },
    {
     "data": {
      "text/plain": [
       "ROCAUC(ax=<AxesSubplot:title={'center':'ROC Curves for XGBClassifier'}, xlabel='False Positive Rate', ylabel='True Positive Rate'>,\n",
       "       estimator=XGBClassifier(base_score=0.5, booster='gbtree', callbacks=None,\n",
       "                               colsample_bylevel=1, colsample_bynode=1,\n",
       "                               colsample_bytree=1, criterion='gini',\n",
       "                               early_stopping_rounds=None,\n",
       "                               enable_categorical=False, eval_metric=None,\n",
       "                               gamma=0, gpu_id=-1, grow_policy='depthwise',\n",
       "                               importance_type=None, interaction_constraints='',\n",
       "                               learning_rate=0.300000012, max_bin=256,\n",
       "                               max_cat_to_onehot=4, max_delta_step=0,\n",
       "                               max_depth=6, max_leaf_nodes=4, max_leaves=0,\n",
       "                               min_child_weight=1, min_samples_leaf=1,\n",
       "                               min_samples_split=1, missing=nan,\n",
       "                               monotone_constraints='()', n_estimators=100,\n",
       "                               n_jobs=0, num_parallel_tree=1, ...))"
      ]
     },
     "execution_count": 90,
     "metadata": {},
     "output_type": "execute_result"
    }
   ],
   "source": [
    "#roc curve \n",
    "\n",
    "plot_ROC_curve(final_model,X_train,y_train,X_test_processed,y_test)"
   ]
  },
  {
   "cell_type": "code",
   "execution_count": 92,
   "metadata": {},
   "outputs": [
    {
     "name": "stdout",
     "output_type": "stream",
     "text": [
      "------------------------saving result and analyzing wrong prediction-------\n",
      "   gender  NationalITy PlaceofBirth       StageID GradeID SectionID    Topic  \\\n",
      "2       M           KW       KuwaIT    lowerlevel    G-02         B       IT   \n",
      "3       M       Jordan       Jordan  MiddleSchool    G-06         A  English   \n",
      "7       M       Jordan       Jordan    lowerlevel    G-02         A   French   \n",
      "10      M           KW       KuwaIT  MiddleSchool    G-08         C  Spanish   \n",
      "16      F      lebanon      lebanon    lowerlevel    G-02         B   French   \n",
      "18      M       Jordan       Jordan    lowerlevel    G-02         B   Arabic   \n",
      "21      M  SaudiArabia  SaudiArabia    lowerlevel    G-02         B       IT   \n",
      "23      F       Jordan       Jordan  MiddleSchool    G-06         A  English   \n",
      "30      F           KW       KuwaIT  MiddleSchool    G-06         A  Science   \n",
      "38      M      lebanon      lebanon  MiddleSchool    G-08         C  Spanish   \n",
      "46      M           KW       KuwaIT    lowerlevel    G-02         B   French   \n",
      "51      F    Palestine       Jordan    lowerlevel    G-02         A   Arabic   \n",
      "52      M           KW       KuwaIT    lowerlevel    G-02         B       IT   \n",
      "54      F           KW       KuwaIT    lowerlevel    G-02         C       IT   \n",
      "61      F       Jordan       Jordan    lowerlevel    G-02         A   French   \n",
      "63      F           KW       KuwaIT    HighSchool    G-12         A  English   \n",
      "66      M       Jordan       Jordan  MiddleSchool    G-07         A    Quran   \n",
      "71      M       Jordan       Jordan    lowerlevel    G-02         B   Arabic   \n",
      "\n",
      "   Semester Relation  raisedhands  VisITedResources  AnnouncementsView  \\\n",
      "2         F   Father           50                 7                  9   \n",
      "3         F   Father           10                 8                 10   \n",
      "7         S      Mum           50                90                 83   \n",
      "10        S      Mum           57                51                 46   \n",
      "16        S      Mum           80                42                 33   \n",
      "18        F      Mum           15                90                 21   \n",
      "21        F   Father            7                12                  5   \n",
      "23        F      Mum           70                64                 42   \n",
      "30        S   Father           80                94                 62   \n",
      "38        S   Father           77                69                 41   \n",
      "46        S   Father           40                62                 83   \n",
      "51        S      Mum           75                81                 51   \n",
      "52        F   Father            0                12                  3   \n",
      "54        F      Mum           25                29                 40   \n",
      "61        F      Mum           10                90                 30   \n",
      "63        F   Father           25                10                 19   \n",
      "66        F      Mum           50                90                 29   \n",
      "71        F   Father           10                30                 50   \n",
      "\n",
      "    Discussion ParentAnsweringSurvey ParentschoolSatisfaction  \\\n",
      "2           50                   Yes                      Bad   \n",
      "3           10                   Yes                      Bad   \n",
      "7           13                   Yes                     Good   \n",
      "10          34                   Yes                     Good   \n",
      "16          13                   Yes                      Bad   \n",
      "18          97                   Yes                     Good   \n",
      "21           3                    No                      Bad   \n",
      "23          32                    No                      Bad   \n",
      "30          77                   Yes                     Good   \n",
      "38          13                   Yes                     Good   \n",
      "46          33                   Yes                     Good   \n",
      "51          34                    No                     Good   \n",
      "52           3                   Yes                     Good   \n",
      "54          17                    No                     Good   \n",
      "61          21                    No                     Good   \n",
      "63          30                    No                      Bad   \n",
      "66          60                   Yes                     Good   \n",
      "71          91                   Yes                      Bad   \n",
      "\n",
      "   StudentAbsenceDays Class predictions  \n",
      "2             Above-7     M           L  \n",
      "3             Above-7     M           L  \n",
      "7             Under-7     H           M  \n",
      "10            Under-7     M           H  \n",
      "16            Under-7     H           M  \n",
      "18            Under-7     M           H  \n",
      "21            Above-7     M           L  \n",
      "23            Under-7     M           H  \n",
      "30            Under-7     H           M  \n",
      "38            Under-7     M           H  \n",
      "46            Under-7     H           M  \n",
      "51            Under-7     H           M  \n",
      "52            Above-7     M           L  \n",
      "54            Under-7     H           M  \n",
      "61            Under-7     M           H  \n",
      "63            Above-7     M           L  \n",
      "66            Under-7     M           H  \n",
      "71            Above-7     L           M  \n"
     ]
    }
   ],
   "source": [
    "#saving and analyzing wrong predictions \n",
    "print(\"------------------------saving result and analyzing wrong prediction-------\")\n",
    "save_analyze(y_pred,'xgboost_predictions')"
   ]
  },
  {
   "cell_type": "markdown",
   "metadata": {},
   "source": [
    "### Neural Network"
   ]
  },
  {
   "cell_type": "code",
   "execution_count": 98,
   "metadata": {},
   "outputs": [
    {
     "ename": "FileNotFoundError",
     "evalue": "[Errno 2] No such file or directory: 'models/clf.pkl'",
     "output_type": "error",
     "traceback": [
      "\u001b[1;31m---------------------------------------------------------------------------\u001b[0m",
      "\u001b[1;31mFileNotFoundError\u001b[0m                         Traceback (most recent call last)",
      "\u001b[1;32m<ipython-input-98-eea60b51859a>\u001b[0m in \u001b[0;36m<module>\u001b[1;34m\u001b[0m\n\u001b[0;32m      1\u001b[0m \u001b[1;31m# Specify final ML model path\u001b[0m\u001b[1;33m\u001b[0m\u001b[1;33m\u001b[0m\u001b[1;33m\u001b[0m\u001b[0m\n\u001b[0;32m      2\u001b[0m \u001b[0mfinal_model_path\u001b[0m \u001b[1;33m=\u001b[0m \u001b[1;34m'models/clf.pkl'\u001b[0m\u001b[1;33m\u001b[0m\u001b[1;33m\u001b[0m\u001b[0m\n\u001b[1;32m----> 3\u001b[1;33m \u001b[0mfinal_model\u001b[0m \u001b[1;33m=\u001b[0m \u001b[0mload_pkl_model\u001b[0m\u001b[1;33m(\u001b[0m\u001b[0mfinal_model_path\u001b[0m\u001b[1;33m)\u001b[0m\u001b[1;33m\u001b[0m\u001b[1;33m\u001b[0m\u001b[0m\n\u001b[0m\u001b[0;32m      4\u001b[0m \u001b[1;31m#prediction\u001b[0m\u001b[1;33m\u001b[0m\u001b[1;33m\u001b[0m\u001b[1;33m\u001b[0m\u001b[0m\n\u001b[0;32m      5\u001b[0m \u001b[0my_pred\u001b[0m \u001b[1;33m=\u001b[0m \u001b[0mpredict\u001b[0m\u001b[1;33m(\u001b[0m\u001b[0mfinal_model\u001b[0m\u001b[1;33m,\u001b[0m\u001b[0mnum_to_label\u001b[0m\u001b[1;33m,\u001b[0m\u001b[0mX_test_processed\u001b[0m\u001b[1;33m)\u001b[0m\u001b[1;33m\u001b[0m\u001b[1;33m\u001b[0m\u001b[0m\n",
      "\u001b[1;32m<ipython-input-3-53ce697936b5>\u001b[0m in \u001b[0;36mload_pkl_model\u001b[1;34m(path)\u001b[0m\n\u001b[0;32m      1\u001b[0m \u001b[1;31m# to load\u001b[0m\u001b[1;33m\u001b[0m\u001b[1;33m\u001b[0m\u001b[1;33m\u001b[0m\u001b[0m\n\u001b[0;32m      2\u001b[0m \u001b[1;32mdef\u001b[0m \u001b[0mload_pkl_model\u001b[0m\u001b[1;33m(\u001b[0m\u001b[0mpath\u001b[0m\u001b[1;33m)\u001b[0m\u001b[1;33m:\u001b[0m\u001b[1;33m\u001b[0m\u001b[1;33m\u001b[0m\u001b[0m\n\u001b[1;32m----> 3\u001b[1;33m     \u001b[0msc\u001b[0m \u001b[1;33m=\u001b[0m \u001b[0mpickle\u001b[0m\u001b[1;33m.\u001b[0m\u001b[0mload\u001b[0m\u001b[1;33m(\u001b[0m\u001b[0mopen\u001b[0m\u001b[1;33m(\u001b[0m\u001b[0mpath\u001b[0m\u001b[1;33m,\u001b[0m\u001b[1;34m'rb'\u001b[0m\u001b[1;33m)\u001b[0m\u001b[1;33m)\u001b[0m\u001b[1;33m\u001b[0m\u001b[1;33m\u001b[0m\u001b[0m\n\u001b[0m\u001b[0;32m      4\u001b[0m     \u001b[1;32mreturn\u001b[0m \u001b[0msc\u001b[0m\u001b[1;33m\u001b[0m\u001b[1;33m\u001b[0m\u001b[0m\n",
      "\u001b[1;31mFileNotFoundError\u001b[0m: [Errno 2] No such file or directory: 'models/clf.pkl'"
     ]
    }
   ],
   "source": [
    "# Specify final ML model path\n",
    "final_model_path = 'models/clf.pkl'\n",
    "final_model = load_pkl_model(final_model_path)\n",
    "#prediction \n",
    "y_pred = predict(final_model,num_to_label,X_test_processed)"
   ]
  },
  {
   "cell_type": "code",
   "execution_count": 88,
   "metadata": {},
   "outputs": [
    {
     "name": "stdout",
     "output_type": "stream",
     "text": [
      "------------------------classification report------------------------\n",
      "              precision    recall  f1-score  support\n",
      "H              0.714286  0.714286  0.714286    21.00\n",
      "L              0.782609  0.947368  0.857143    19.00\n",
      "M              0.750000  0.656250  0.700000    32.00\n",
      "accuracy       0.750000  0.750000  0.750000     0.75\n",
      "macro avg      0.748965  0.772635  0.757143    72.00\n",
      "weighted avg   0.748188  0.750000  0.745635    72.00\n"
     ]
    }
   ],
   "source": [
    "#classification report \n",
    "print(\"------------------------classification report------------------------\")\n",
    "class_report(y_test,y_pred)"
   ]
  },
  {
   "cell_type": "code",
   "execution_count": 89,
   "metadata": {},
   "outputs": [
    {
     "name": "stdout",
     "output_type": "stream",
     "text": [
      "------------------------confusion matrix-----------------------------\n"
     ]
    },
    {
     "data": {
      "image/png": "[encoded data removed]",
      "text/plain": [
       "<Figure size 576x396 with 2 Axes>"
      ]
     },
     "metadata": {},
     "output_type": "display_data"
    }
   ],
   "source": [
    "#confusion matrix\n",
    "print(\"------------------------confusion matrix-----------------------------\")\n",
    "conf_matrix(y_test,y_pred)"
   ]
  },
  {
   "cell_type": "code",
   "execution_count": 90,
   "metadata": {},
   "outputs": [
    {
     "data": {
      "image/png": "[encoded data removed]",
      "text/plain": [
       "<Figure size 576x396 with 1 Axes>"
      ]
     },
     "metadata": {},
     "output_type": "display_data"
    },
    {
     "data": {
      "text/plain": [
       "ROCAUC(ax=<AxesSubplot:title={'center':'ROC Curves for XGBClassifier'}, xlabel='False Positive Rate', ylabel='True Positive Rate'>,\n",
       "       estimator=XGBClassifier(base_score=0.5, booster='gbtree', callbacks=None,\n",
       "                               colsample_bylevel=1, colsample_bynode=1,\n",
       "                               colsample_bytree=1, criterion='gini',\n",
       "                               early_stopping_rounds=None,\n",
       "                               enable_categorical=False, eval_metric=None,\n",
       "                               gamma=0, gpu_id=-1, grow_policy='depthwise',\n",
       "                               importance_type=None, interaction_constraints='',\n",
       "                               learning_rate=0.300000012, max_bin=256,\n",
       "                               max_cat_to_onehot=4, max_delta_step=0,\n",
       "                               max_depth=6, max_leaf_nodes=4, max_leaves=0,\n",
       "                               min_child_weight=1, min_samples_leaf=1,\n",
       "                               min_samples_split=1, missing=nan,\n",
       "                               monotone_constraints='()', n_estimators=100,\n",
       "                               n_jobs=0, num_parallel_tree=1, ...))"
      ]
     },
     "execution_count": 90,
     "metadata": {},
     "output_type": "execute_result"
    }
   ],
   "source": [
    "#roc curve \n",
    "\n",
    "plot_ROC_curve(final_model,X_train,y_train,X_test_processed,y_test)"
   ]
  },
  {
   "cell_type": "code",
   "execution_count": 92,
   "metadata": {},
   "outputs": [
    {
     "name": "stdout",
     "output_type": "stream",
     "text": [
      "------------------------saving result and analyzing wrong prediction-------\n",
      "   gender  NationalITy PlaceofBirth       StageID GradeID SectionID    Topic  \\\n",
      "2       M           KW       KuwaIT    lowerlevel    G-02         B       IT   \n",
      "3       M       Jordan       Jordan  MiddleSchool    G-06         A  English   \n",
      "7       M       Jordan       Jordan    lowerlevel    G-02         A   French   \n",
      "10      M           KW       KuwaIT  MiddleSchool    G-08         C  Spanish   \n",
      "16      F      lebanon      lebanon    lowerlevel    G-02         B   French   \n",
      "18      M       Jordan       Jordan    lowerlevel    G-02         B   Arabic   \n",
      "21      M  SaudiArabia  SaudiArabia    lowerlevel    G-02         B       IT   \n",
      "23      F       Jordan       Jordan  MiddleSchool    G-06         A  English   \n",
      "30      F           KW       KuwaIT  MiddleSchool    G-06         A  Science   \n",
      "38      M      lebanon      lebanon  MiddleSchool    G-08         C  Spanish   \n",
      "46      M           KW       KuwaIT    lowerlevel    G-02         B   French   \n",
      "51      F    Palestine       Jordan    lowerlevel    G-02         A   Arabic   \n",
      "52      M           KW       KuwaIT    lowerlevel    G-02         B       IT   \n",
      "54      F           KW       KuwaIT    lowerlevel    G-02         C       IT   \n",
      "61      F       Jordan       Jordan    lowerlevel    G-02         A   French   \n",
      "63      F           KW       KuwaIT    HighSchool    G-12         A  English   \n",
      "66      M       Jordan       Jordan  MiddleSchool    G-07         A    Quran   \n",
      "71      M       Jordan       Jordan    lowerlevel    G-02         B   Arabic   \n",
      "\n",
      "   Semester Relation  raisedhands  VisITedResources  AnnouncementsView  \\\n",
      "2         F   Father           50                 7                  9   \n",
      "3         F   Father           10                 8                 10   \n",
      "7         S      Mum           50                90                 83   \n",
      "10        S      Mum           57                51                 46   \n",
      "16        S      Mum           80                42                 33   \n",
      "18        F      Mum           15                90                 21   \n",
      "21        F   Father            7                12                  5   \n",
      "23        F      Mum           70                64                 42   \n",
      "30        S   Father           80                94                 62   \n",
      "38        S   Father           77                69                 41   \n",
      "46        S   Father           40                62                 83   \n",
      "51        S      Mum           75                81                 51   \n",
      "52        F   Father            0                12                  3   \n",
      "54        F      Mum           25                29                 40   \n",
      "61        F      Mum           10                90                 30   \n",
      "63        F   Father           25                10                 19   \n",
      "66        F      Mum           50                90                 29   \n",
      "71        F   Father           10                30                 50   \n",
      "\n",
      "    Discussion ParentAnsweringSurvey ParentschoolSatisfaction  \\\n",
      "2           50                   Yes                      Bad   \n",
      "3           10                   Yes                      Bad   \n",
      "7           13                   Yes                     Good   \n",
      "10          34                   Yes                     Good   \n",
      "16          13                   Yes                      Bad   \n",
      "18          97                   Yes                     Good   \n",
      "21           3                    No                      Bad   \n",
      "23          32                    No                      Bad   \n",
      "30          77                   Yes                     Good   \n",
      "38          13                   Yes                     Good   \n",
      "46          33                   Yes                     Good   \n",
      "51          34                    No                     Good   \n",
      "52           3                   Yes                     Good   \n",
      "54          17                    No                     Good   \n",
      "61          21                    No                     Good   \n",
      "63          30                    No                      Bad   \n",
      "66          60                   Yes                     Good   \n",
      "71          91                   Yes                      Bad   \n",
      "\n",
      "   StudentAbsenceDays Class predictions  \n",
      "2             Above-7     M           L  \n",
      "3             Above-7     M           L  \n",
      "7             Under-7     H           M  \n",
      "10            Under-7     M           H  \n",
      "16            Under-7     H           M  \n",
      "18            Under-7     M           H  \n",
      "21            Above-7     M           L  \n",
      "23            Under-7     M           H  \n",
      "30            Under-7     H           M  \n",
      "38            Under-7     M           H  \n",
      "46            Under-7     H           M  \n",
      "51            Under-7     H           M  \n",
      "52            Above-7     M           L  \n",
      "54            Under-7     H           M  \n",
      "61            Under-7     M           H  \n",
      "63            Above-7     M           L  \n",
      "66            Under-7     M           H  \n",
      "71            Above-7     L           M  \n"
     ]
    }
   ],
   "source": [
    "#saving and analyzing wrong predictions \n",
    "print(\"------------------------saving result and analyzing wrong prediction-------\")\n",
    "save_analyze(y_pred,'xgboost_predictions')"
   ]
  },
  {
   "cell_type": "code",
   "execution_count": null,
   "metadata": {},
   "outputs": [],
   "source": []
  },
  {
   "cell_type": "code",
   "execution_count": null,
   "metadata": {},
   "outputs": [],
   "source": []
  },
  {
   "cell_type": "code",
   "execution_count": null,
   "metadata": {},
   "outputs": [],
   "source": []
  },
  {
   "cell_type": "markdown",
   "metadata": {},
   "source": [
    "\tRandom forest \n",
    "    \n",
    "    precision\trecall\tf1-score\tsupport\n",
    "H\t0.833333\t0.714286\t0.769231\t21.000000\n",
    "L\t0.760000\t1.000000\t0.863636\t19.000000\n",
    "M\t0.793103\t0.718750\t0.754098\t32.000000\n",
    "accuracy\t0.791667\t0.791667\t0.791667\t0.791667\n",
    "macro avg\t0.795479\t0.811012\t0.795655\t72.000000\n",
    "weighted avg\t0.796102\t0.791667\t0.787418\t72.000000"
   ]
  },
  {
   "cell_type": "markdown",
   "metadata": {},
   "source": [
    "svm \n",
    "\tprecision\trecall\tf1-score\tsupport\n",
    "H\t0.708333\t0.809524\t0.755556\t21.000000\n",
    "L\t0.761905\t0.842105\t0.800000\t19.000000\n",
    "M\t0.740741\t0.625000\t0.677966\t32.000000\n",
    "accuracy\t0.736111\t0.736111\t0.736111\t0.736111\n",
    "macro avg\t0.736993\t0.758876\t0.744507\t72.000000\n",
    "weighted avg\t0.736874\t0.736111\t0.732800\t72.000000\n",
    "\n",
    "array([[16,  3,  0],\n",
    "       [ 5, 20,  7],\n",
    "       [ 0,  4, 17]], dtype=int64)"
   ]
  },
  {
   "cell_type": "markdown",
   "metadata": {},
   "source": [
    "xgboost\n",
    "\n",
    "precision\trecall\tf1-score\tsupport\n",
    "H\t0.714286\t0.714286\t0.714286\t21.00\n",
    "L\t0.782609\t0.947368\t0.857143\t19.00\n",
    "M\t0.750000\t0.656250\t0.700000\t32.00\n",
    "accuracy\t0.750000\t0.750000\t0.750000\t0.75\n",
    "macro avg\t0.748965\t0.772635\t0.757143\t72.00\n",
    "weighted avg\t0.748188\t0.750000\t0.745635\t72.00\n",
    "\n",
    "array([[18,  1,  0],\n",
    "       [ 5, 21,  6],\n",
    "       [ 0,  6, 15]], dtype=int64)"
   ]
  },
  {
   "cell_type": "markdown",
   "metadata": {},
   "source": [
    "# Final Conclution "
   ]
  },
  {
   "cell_type": "code",
   "execution_count": null,
   "metadata": {},
   "outputs": [],
   "source": []
  }
 ],
 "metadata": {
  "interpreter": {
   "hash": "b1fa63b9192d89ce9d1e4d6a7a4a001f8fee5f65329ca0df81cf26abef0c948c"
  },
  "kernelspec": {
   "display_name": "Python 3",
   "language": "python",
   "name": "python3"
  },
  "language_info": {
   "codemirror_mode": {
    "name": "ipython",
    "version": 3
   },
   "file_extension": ".py",
   "mimetype": "text/x-python",
   "name": "python",
   "nbconvert_exporter": "python",
   "pygments_lexer": "ipython3",
   "version": "3.8.8"
  }
 },
 "nbformat": 4,
 "nbformat_minor": 2
}
