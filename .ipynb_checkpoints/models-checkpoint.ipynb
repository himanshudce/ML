{
 "cells": [
  {
   "cell_type": "code",
   "execution_count": 6,
   "metadata": {},
   "outputs": [],
   "source": [
    "import pandas as pd"
   ]
  },
  {
   "cell_type": "markdown",
   "metadata": {},
   "source": [
    "Reading data "
   ]
  },
  {
   "cell_type": "code",
   "execution_count": 7,
   "metadata": {},
   "outputs": [
    {
     "data": {
      "text/html": [
       "<div>\n",
       "<style scoped>\n",
       "    .dataframe tbody tr th:only-of-type {\n",
       "        vertical-align: middle;\n",
       "    }\n",
       "\n",
       "    .dataframe tbody tr th {\n",
       "        vertical-align: top;\n",
       "    }\n",
       "\n",
       "    .dataframe thead th {\n",
       "        text-align: right;\n",
       "    }\n",
       "</style>\n",
       "<table border=\"1\" class=\"dataframe\">\n",
       "  <thead>\n",
       "    <tr style=\"text-align: right;\">\n",
       "      <th></th>\n",
       "      <th>raisedhands</th>\n",
       "      <th>VisITedResources</th>\n",
       "      <th>AnnouncementsView</th>\n",
       "      <th>Discussion</th>\n",
       "      <th>gender_M</th>\n",
       "      <th>NationalITy_Iran</th>\n",
       "      <th>NationalITy_Iraq</th>\n",
       "      <th>NationalITy_Jordan</th>\n",
       "      <th>NationalITy_KW</th>\n",
       "      <th>NationalITy_Lybia</th>\n",
       "      <th>...</th>\n",
       "      <th>Topic_Math</th>\n",
       "      <th>Topic_Quran</th>\n",
       "      <th>Topic_Science</th>\n",
       "      <th>Topic_Spanish</th>\n",
       "      <th>Semester_S</th>\n",
       "      <th>Relation_Mum</th>\n",
       "      <th>ParentAnsweringSurvey_Yes</th>\n",
       "      <th>ParentschoolSatisfaction_Good</th>\n",
       "      <th>StudentAbsenceDays_Under-7</th>\n",
       "      <th>Class</th>\n",
       "    </tr>\n",
       "  </thead>\n",
       "  <tbody>\n",
       "    <tr>\n",
       "      <th>0</th>\n",
       "      <td>0.738702</td>\n",
       "      <td>0.410657</td>\n",
       "      <td>0.298383</td>\n",
       "      <td>0.010489</td>\n",
       "      <td>0.0</td>\n",
       "      <td>0.0</td>\n",
       "      <td>0.0</td>\n",
       "      <td>1.0</td>\n",
       "      <td>0.0</td>\n",
       "      <td>0.0</td>\n",
       "      <td>...</td>\n",
       "      <td>0.0</td>\n",
       "      <td>0.0</td>\n",
       "      <td>0.0</td>\n",
       "      <td>0.0</td>\n",
       "      <td>0.0</td>\n",
       "      <td>1.0</td>\n",
       "      <td>1.0</td>\n",
       "      <td>1.0</td>\n",
       "      <td>0.0</td>\n",
       "      <td>M</td>\n",
       "    </tr>\n",
       "    <tr>\n",
       "      <th>1</th>\n",
       "      <td>-1.260251</td>\n",
       "      <td>-1.462821</td>\n",
       "      <td>-0.300337</td>\n",
       "      <td>-0.172109</td>\n",
       "      <td>1.0</td>\n",
       "      <td>0.0</td>\n",
       "      <td>0.0</td>\n",
       "      <td>0.0</td>\n",
       "      <td>1.0</td>\n",
       "      <td>0.0</td>\n",
       "      <td>...</td>\n",
       "      <td>0.0</td>\n",
       "      <td>0.0</td>\n",
       "      <td>0.0</td>\n",
       "      <td>0.0</td>\n",
       "      <td>0.0</td>\n",
       "      <td>0.0</td>\n",
       "      <td>1.0</td>\n",
       "      <td>1.0</td>\n",
       "      <td>0.0</td>\n",
       "      <td>L</td>\n",
       "    </tr>\n",
       "    <tr>\n",
       "      <th>2</th>\n",
       "      <td>0.061637</td>\n",
       "      <td>0.440874</td>\n",
       "      <td>-0.711956</td>\n",
       "      <td>1.106074</td>\n",
       "      <td>0.0</td>\n",
       "      <td>0.0</td>\n",
       "      <td>0.0</td>\n",
       "      <td>0.0</td>\n",
       "      <td>1.0</td>\n",
       "      <td>0.0</td>\n",
       "      <td>...</td>\n",
       "      <td>0.0</td>\n",
       "      <td>0.0</td>\n",
       "      <td>1.0</td>\n",
       "      <td>0.0</td>\n",
       "      <td>0.0</td>\n",
       "      <td>1.0</td>\n",
       "      <td>1.0</td>\n",
       "      <td>1.0</td>\n",
       "      <td>1.0</td>\n",
       "      <td>H</td>\n",
       "    </tr>\n",
       "    <tr>\n",
       "      <th>3</th>\n",
       "      <td>0.803184</td>\n",
       "      <td>0.954570</td>\n",
       "      <td>1.271302</td>\n",
       "      <td>1.617347</td>\n",
       "      <td>1.0</td>\n",
       "      <td>0.0</td>\n",
       "      <td>1.0</td>\n",
       "      <td>0.0</td>\n",
       "      <td>0.0</td>\n",
       "      <td>0.0</td>\n",
       "      <td>...</td>\n",
       "      <td>0.0</td>\n",
       "      <td>0.0</td>\n",
       "      <td>0.0</td>\n",
       "      <td>0.0</td>\n",
       "      <td>0.0</td>\n",
       "      <td>0.0</td>\n",
       "      <td>1.0</td>\n",
       "      <td>1.0</td>\n",
       "      <td>0.0</td>\n",
       "      <td>M</td>\n",
       "    </tr>\n",
       "    <tr>\n",
       "      <th>4</th>\n",
       "      <td>0.738702</td>\n",
       "      <td>1.105657</td>\n",
       "      <td>0.448063</td>\n",
       "      <td>-1.377253</td>\n",
       "      <td>0.0</td>\n",
       "      <td>0.0</td>\n",
       "      <td>0.0</td>\n",
       "      <td>0.0</td>\n",
       "      <td>1.0</td>\n",
       "      <td>0.0</td>\n",
       "      <td>...</td>\n",
       "      <td>0.0</td>\n",
       "      <td>0.0</td>\n",
       "      <td>0.0</td>\n",
       "      <td>0.0</td>\n",
       "      <td>0.0</td>\n",
       "      <td>1.0</td>\n",
       "      <td>1.0</td>\n",
       "      <td>1.0</td>\n",
       "      <td>1.0</td>\n",
       "      <td>H</td>\n",
       "    </tr>\n",
       "  </tbody>\n",
       "</table>\n",
       "<p>5 rows × 61 columns</p>\n",
       "</div>"
      ],
      "text/plain": [
       "   raisedhands  VisITedResources  AnnouncementsView  Discussion  gender_M  \\\n",
       "0     0.738702          0.410657           0.298383    0.010489       0.0   \n",
       "1    -1.260251         -1.462821          -0.300337   -0.172109       1.0   \n",
       "2     0.061637          0.440874          -0.711956    1.106074       0.0   \n",
       "3     0.803184          0.954570           1.271302    1.617347       1.0   \n",
       "4     0.738702          1.105657           0.448063   -1.377253       0.0   \n",
       "\n",
       "   NationalITy_Iran  NationalITy_Iraq  NationalITy_Jordan  NationalITy_KW  \\\n",
       "0               0.0               0.0                 1.0             0.0   \n",
       "1               0.0               0.0                 0.0             1.0   \n",
       "2               0.0               0.0                 0.0             1.0   \n",
       "3               0.0               1.0                 0.0             0.0   \n",
       "4               0.0               0.0                 0.0             1.0   \n",
       "\n",
       "   NationalITy_Lybia  ...  Topic_Math  Topic_Quran  Topic_Science  \\\n",
       "0                0.0  ...         0.0          0.0            0.0   \n",
       "1                0.0  ...         0.0          0.0            0.0   \n",
       "2                0.0  ...         0.0          0.0            1.0   \n",
       "3                0.0  ...         0.0          0.0            0.0   \n",
       "4                0.0  ...         0.0          0.0            0.0   \n",
       "\n",
       "   Topic_Spanish  Semester_S  Relation_Mum  ParentAnsweringSurvey_Yes  \\\n",
       "0            0.0         0.0           1.0                        1.0   \n",
       "1            0.0         0.0           0.0                        1.0   \n",
       "2            0.0         0.0           1.0                        1.0   \n",
       "3            0.0         0.0           0.0                        1.0   \n",
       "4            0.0         0.0           1.0                        1.0   \n",
       "\n",
       "   ParentschoolSatisfaction_Good  StudentAbsenceDays_Under-7  Class  \n",
       "0                            1.0                         0.0      M  \n",
       "1                            1.0                         0.0      L  \n",
       "2                            1.0                         1.0      H  \n",
       "3                            1.0                         0.0      M  \n",
       "4                            1.0                         1.0      H  \n",
       "\n",
       "[5 rows x 61 columns]"
      ]
     },
     "execution_count": 7,
     "metadata": {},
     "output_type": "execute_result"
    }
   ],
   "source": [
    "df = pd.read_csv(\"/home/ubuntu/Desktop/ML/Data/transformed/train_scale_ohe.csv\")\n",
    "df.head()"
   ]
  },
  {
   "cell_type": "code",
   "execution_count": 8,
   "metadata": {},
   "outputs": [
    {
     "data": {
      "text/plain": [
       "M    169\n",
       "H    113\n",
       "L    101\n",
       "Name: Class, dtype: int64"
      ]
     },
     "execution_count": 8,
     "metadata": {},
     "output_type": "execute_result"
    }
   ],
   "source": [
    "df.Class.value_counts()"
   ]
  },
  {
   "cell_type": "code",
   "execution_count": 9,
   "metadata": {},
   "outputs": [
    {
     "data": {
      "text/html": [
       "<div>\n",
       "<style scoped>\n",
       "    .dataframe tbody tr th:only-of-type {\n",
       "        vertical-align: middle;\n",
       "    }\n",
       "\n",
       "    .dataframe tbody tr th {\n",
       "        vertical-align: top;\n",
       "    }\n",
       "\n",
       "    .dataframe thead th {\n",
       "        text-align: right;\n",
       "    }\n",
       "</style>\n",
       "<table border=\"1\" class=\"dataframe\">\n",
       "  <thead>\n",
       "    <tr style=\"text-align: right;\">\n",
       "      <th></th>\n",
       "      <th>raisedhands</th>\n",
       "      <th>VisITedResources</th>\n",
       "      <th>AnnouncementsView</th>\n",
       "      <th>Discussion</th>\n",
       "      <th>gender_M</th>\n",
       "      <th>NationalITy_Iran</th>\n",
       "      <th>NationalITy_Iraq</th>\n",
       "      <th>NationalITy_Jordan</th>\n",
       "      <th>NationalITy_KW</th>\n",
       "      <th>NationalITy_Lybia</th>\n",
       "      <th>...</th>\n",
       "      <th>Topic_Math</th>\n",
       "      <th>Topic_Quran</th>\n",
       "      <th>Topic_Science</th>\n",
       "      <th>Topic_Spanish</th>\n",
       "      <th>Semester_S</th>\n",
       "      <th>Relation_Mum</th>\n",
       "      <th>ParentAnsweringSurvey_Yes</th>\n",
       "      <th>ParentschoolSatisfaction_Good</th>\n",
       "      <th>StudentAbsenceDays_Under-7</th>\n",
       "      <th>Class</th>\n",
       "    </tr>\n",
       "  </thead>\n",
       "  <tbody>\n",
       "    <tr>\n",
       "      <th>0</th>\n",
       "      <td>0.738702</td>\n",
       "      <td>0.410657</td>\n",
       "      <td>0.298383</td>\n",
       "      <td>0.010489</td>\n",
       "      <td>0.0</td>\n",
       "      <td>0.0</td>\n",
       "      <td>0.0</td>\n",
       "      <td>1.0</td>\n",
       "      <td>0.0</td>\n",
       "      <td>0.0</td>\n",
       "      <td>...</td>\n",
       "      <td>0.0</td>\n",
       "      <td>0.0</td>\n",
       "      <td>0.0</td>\n",
       "      <td>0.0</td>\n",
       "      <td>0.0</td>\n",
       "      <td>1.0</td>\n",
       "      <td>1.0</td>\n",
       "      <td>1.0</td>\n",
       "      <td>0.0</td>\n",
       "      <td>1</td>\n",
       "    </tr>\n",
       "    <tr>\n",
       "      <th>1</th>\n",
       "      <td>-1.260251</td>\n",
       "      <td>-1.462821</td>\n",
       "      <td>-0.300337</td>\n",
       "      <td>-0.172109</td>\n",
       "      <td>1.0</td>\n",
       "      <td>0.0</td>\n",
       "      <td>0.0</td>\n",
       "      <td>0.0</td>\n",
       "      <td>1.0</td>\n",
       "      <td>0.0</td>\n",
       "      <td>...</td>\n",
       "      <td>0.0</td>\n",
       "      <td>0.0</td>\n",
       "      <td>0.0</td>\n",
       "      <td>0.0</td>\n",
       "      <td>0.0</td>\n",
       "      <td>0.0</td>\n",
       "      <td>1.0</td>\n",
       "      <td>1.0</td>\n",
       "      <td>0.0</td>\n",
       "      <td>0</td>\n",
       "    </tr>\n",
       "    <tr>\n",
       "      <th>2</th>\n",
       "      <td>0.061637</td>\n",
       "      <td>0.440874</td>\n",
       "      <td>-0.711956</td>\n",
       "      <td>1.106074</td>\n",
       "      <td>0.0</td>\n",
       "      <td>0.0</td>\n",
       "      <td>0.0</td>\n",
       "      <td>0.0</td>\n",
       "      <td>1.0</td>\n",
       "      <td>0.0</td>\n",
       "      <td>...</td>\n",
       "      <td>0.0</td>\n",
       "      <td>0.0</td>\n",
       "      <td>1.0</td>\n",
       "      <td>0.0</td>\n",
       "      <td>0.0</td>\n",
       "      <td>1.0</td>\n",
       "      <td>1.0</td>\n",
       "      <td>1.0</td>\n",
       "      <td>1.0</td>\n",
       "      <td>2</td>\n",
       "    </tr>\n",
       "    <tr>\n",
       "      <th>3</th>\n",
       "      <td>0.803184</td>\n",
       "      <td>0.954570</td>\n",
       "      <td>1.271302</td>\n",
       "      <td>1.617347</td>\n",
       "      <td>1.0</td>\n",
       "      <td>0.0</td>\n",
       "      <td>1.0</td>\n",
       "      <td>0.0</td>\n",
       "      <td>0.0</td>\n",
       "      <td>0.0</td>\n",
       "      <td>...</td>\n",
       "      <td>0.0</td>\n",
       "      <td>0.0</td>\n",
       "      <td>0.0</td>\n",
       "      <td>0.0</td>\n",
       "      <td>0.0</td>\n",
       "      <td>0.0</td>\n",
       "      <td>1.0</td>\n",
       "      <td>1.0</td>\n",
       "      <td>0.0</td>\n",
       "      <td>1</td>\n",
       "    </tr>\n",
       "    <tr>\n",
       "      <th>4</th>\n",
       "      <td>0.738702</td>\n",
       "      <td>1.105657</td>\n",
       "      <td>0.448063</td>\n",
       "      <td>-1.377253</td>\n",
       "      <td>0.0</td>\n",
       "      <td>0.0</td>\n",
       "      <td>0.0</td>\n",
       "      <td>0.0</td>\n",
       "      <td>1.0</td>\n",
       "      <td>0.0</td>\n",
       "      <td>...</td>\n",
       "      <td>0.0</td>\n",
       "      <td>0.0</td>\n",
       "      <td>0.0</td>\n",
       "      <td>0.0</td>\n",
       "      <td>0.0</td>\n",
       "      <td>1.0</td>\n",
       "      <td>1.0</td>\n",
       "      <td>1.0</td>\n",
       "      <td>1.0</td>\n",
       "      <td>2</td>\n",
       "    </tr>\n",
       "  </tbody>\n",
       "</table>\n",
       "<p>5 rows × 61 columns</p>\n",
       "</div>"
      ],
      "text/plain": [
       "   raisedhands  VisITedResources  AnnouncementsView  Discussion  gender_M  \\\n",
       "0     0.738702          0.410657           0.298383    0.010489       0.0   \n",
       "1    -1.260251         -1.462821          -0.300337   -0.172109       1.0   \n",
       "2     0.061637          0.440874          -0.711956    1.106074       0.0   \n",
       "3     0.803184          0.954570           1.271302    1.617347       1.0   \n",
       "4     0.738702          1.105657           0.448063   -1.377253       0.0   \n",
       "\n",
       "   NationalITy_Iran  NationalITy_Iraq  NationalITy_Jordan  NationalITy_KW  \\\n",
       "0               0.0               0.0                 1.0             0.0   \n",
       "1               0.0               0.0                 0.0             1.0   \n",
       "2               0.0               0.0                 0.0             1.0   \n",
       "3               0.0               1.0                 0.0             0.0   \n",
       "4               0.0               0.0                 0.0             1.0   \n",
       "\n",
       "   NationalITy_Lybia  ...  Topic_Math  Topic_Quran  Topic_Science  \\\n",
       "0                0.0  ...         0.0          0.0            0.0   \n",
       "1                0.0  ...         0.0          0.0            0.0   \n",
       "2                0.0  ...         0.0          0.0            1.0   \n",
       "3                0.0  ...         0.0          0.0            0.0   \n",
       "4                0.0  ...         0.0          0.0            0.0   \n",
       "\n",
       "   Topic_Spanish  Semester_S  Relation_Mum  ParentAnsweringSurvey_Yes  \\\n",
       "0            0.0         0.0           1.0                        1.0   \n",
       "1            0.0         0.0           0.0                        1.0   \n",
       "2            0.0         0.0           1.0                        1.0   \n",
       "3            0.0         0.0           0.0                        1.0   \n",
       "4            0.0         0.0           1.0                        1.0   \n",
       "\n",
       "   ParentschoolSatisfaction_Good  StudentAbsenceDays_Under-7  Class  \n",
       "0                            1.0                         0.0      1  \n",
       "1                            1.0                         0.0      0  \n",
       "2                            1.0                         1.0      2  \n",
       "3                            1.0                         0.0      1  \n",
       "4                            1.0                         1.0      2  \n",
       "\n",
       "[5 rows x 61 columns]"
      ]
     },
     "execution_count": 9,
     "metadata": {},
     "output_type": "execute_result"
    }
   ],
   "source": [
    "df.Class = df.Class.map({'L' :0, 'M' :1, 'H' :2}).astype(int)  # mapping \n",
    "df.head()"
   ]
  },
  {
   "cell_type": "code",
   "execution_count": 20,
   "metadata": {},
   "outputs": [
    {
     "data": {
      "text/plain": [
       "Index(['raisedhands', 'VisITedResources', 'AnnouncementsView', 'Discussion',\n",
       "       'gender_M', 'NationalITy_Iran', 'NationalITy_Iraq',\n",
       "       'NationalITy_Jordan', 'NationalITy_KW', 'NationalITy_Lybia',\n",
       "       'NationalITy_Morocco', 'NationalITy_Palestine',\n",
       "       'NationalITy_SaudiArabia', 'NationalITy_Syria', 'NationalITy_Tunis',\n",
       "       'NationalITy_USA', 'NationalITy_lebanon', 'NationalITy_venzuela',\n",
       "       'PlaceofBirth_Iran', 'PlaceofBirth_Iraq', 'PlaceofBirth_Jordan',\n",
       "       'PlaceofBirth_KuwaIT', 'PlaceofBirth_Lybia', 'PlaceofBirth_Morocco',\n",
       "       'PlaceofBirth_Palestine', 'PlaceofBirth_SaudiArabia',\n",
       "       'PlaceofBirth_Syria', 'PlaceofBirth_Tunis', 'PlaceofBirth_USA',\n",
       "       'PlaceofBirth_lebanon', 'PlaceofBirth_venzuela', 'StageID_MiddleSchool',\n",
       "       'StageID_lowerlevel', 'GradeID_G-04', 'GradeID_G-05', 'GradeID_G-06',\n",
       "       'GradeID_G-07', 'GradeID_G-08', 'GradeID_G-09', 'GradeID_G-10',\n",
       "       'GradeID_G-11', 'GradeID_G-12', 'SectionID_B', 'SectionID_C',\n",
       "       'Topic_Biology', 'Topic_Chemistry', 'Topic_English', 'Topic_French',\n",
       "       'Topic_Geology', 'Topic_History', 'Topic_IT', 'Topic_Math',\n",
       "       'Topic_Quran', 'Topic_Science', 'Topic_Spanish', 'Semester_S',\n",
       "       'Relation_Mum', 'ParentAnsweringSurvey_Yes',\n",
       "       'ParentschoolSatisfaction_Good', 'StudentAbsenceDays_Under-7', 'Class'],\n",
       "      dtype='object')"
      ]
     },
     "execution_count": 20,
     "metadata": {},
     "output_type": "execute_result"
    }
   ],
   "source": [
    "df.columns"
   ]
  },
  {
   "cell_type": "markdown",
   "metadata": {},
   "source": [
    "It is a multi-class classification problem. Popular algorithms that can be used for multi-class classification include:\n",
    "\n",
    "k-Nearest Neighbors.\n",
    "Decision Trees.\n",
    "Naive Bayes.\n",
    "Random Forest.\n",
    "Gradient Boosting."
   ]
  },
  {
   "cell_type": "markdown",
   "metadata": {},
   "source": [
    "k-Nearest Neighbors:\n"
   ]
  },
  {
   "cell_type": "code",
   "execution_count": 11,
   "metadata": {},
   "outputs": [],
   "source": [
    "from sklearn.model_selection import train_test_split\n",
    "from sklearn.neighbors import KNeighborsClassifier\n",
    "import matplotlib.pyplot as plt\n"
   ]
  },
  {
   "cell_type": "code",
   "execution_count": 186,
   "metadata": {},
   "outputs": [],
   "source": [
    "X_train, X_test, y_train, y_test = train_test_split(df[df.columns[:-1]],df.Class, stratify = df.Class, test_size = 0.2, random_state = 18)\n",
    "knn_clf=KNeighborsClassifier()\n",
    "knn_clf.fit(X_train,y_train)\n",
    "ypred=knn_clf.predict(X_test) #These are the predicted output values"
   ]
  },
  {
   "cell_type": "code",
   "execution_count": 83,
   "metadata": {},
   "outputs": [
    {
     "name": "stdout",
     "output_type": "stream",
     "text": [
      "Confusion Matrix:\n",
      "[[15  3  2]\n",
      " [ 3 25  6]\n",
      " [ 0  5 18]]\n",
      "Classification Report:\n",
      "              precision    recall  f1-score   support\n",
      "\n",
      "           0       0.83      0.75      0.79        20\n",
      "           1       0.76      0.74      0.75        34\n",
      "           2       0.69      0.78      0.73        23\n",
      "\n",
      "    accuracy                           0.75        77\n",
      "   macro avg       0.76      0.76      0.76        77\n",
      "weighted avg       0.76      0.75      0.75        77\n",
      "\n",
      "Accuracy: 0.7532467532467533\n"
     ]
    }
   ],
   "source": [
    "from sklearn.metrics import classification_report, confusion_matrix, accuracy_score\n",
    "result = confusion_matrix(y_test, ypred)\n",
    "print('Confusion Matrix:')\n",
    "print(result)\n",
    "result1 = classification_report(y_test, ypred)\n",
    "print('Classification Report:',)\n",
    "print (result1)\n",
    "result2 = accuracy_score(y_test,ypred)\n",
    "print('Accuracy:',result2)"
   ]
  },
  {
   "cell_type": "code",
   "execution_count": 38,
   "metadata": {},
   "outputs": [
    {
     "data": {
      "text/plain": [
       "0.7217391304347827"
      ]
     },
     "execution_count": 38,
     "metadata": {},
     "output_type": "execute_result"
    }
   ],
   "source": [
    "knn_clf.score(X_test,y_test)"
   ]
  },
  {
   "cell_type": "markdown",
   "metadata": {},
   "source": [
    "Finding best value for number of neighbors "
   ]
  },
  {
   "cell_type": "code",
   "execution_count": 82,
   "metadata": {},
   "outputs": [
    {
     "name": "stdout",
     "output_type": "stream",
     "text": [
      "     K  Train Score  Test Score\n",
      "0    1     1.000000    0.753247\n",
      "1    2     0.862745    0.714286\n",
      "2    3     0.869281    0.701299\n",
      "3    4     0.797386    0.675325\n",
      "4    5     0.794118    0.753247\n",
      "5    6     0.745098    0.714286\n",
      "6    7     0.738562    0.701299\n",
      "7    8     0.732026    0.688312\n",
      "8    9     0.741830    0.649351\n",
      "9   10     0.771242    0.610390\n",
      "10  11     0.735294    0.623377\n",
      "11  12     0.728758    0.597403\n",
      "12  13     0.725490    0.623377\n",
      "13  14     0.732026    0.649351\n"
     ]
    }
   ],
   "source": [
    "\n",
    "knn_r_acc = []\n",
    "for i in range(1,15,1):\n",
    "    knn = KNeighborsClassifier(n_neighbors=i)\n",
    "    knn.fit(X_train,y_train)\n",
    "    test_score = knn.score(X_test,y_test)\n",
    "    train_score = knn.score(X_train,y_train)\n",
    "    knn_r_acc.append((i, train_score ,test_score))\n",
    "tb = pd.DataFrame(knn_r_acc, columns=['K','Train Score','Test Score'])\n",
    "print(tb)"
   ]
  },
  {
   "cell_type": "code",
   "execution_count": 33,
   "metadata": {},
   "outputs": [],
   "source": [
    "from matplotlib import pyplot"
   ]
  },
  {
   "cell_type": "code",
   "execution_count": 84,
   "metadata": {},
   "outputs": [
    {
     "data": {
      "image/png": "[encoded data removed]",
      "text/plain": [
       "<Figure size 432x288 with 1 Axes>"
      ]
     },
     "metadata": {
      "needs_background": "light"
     },
     "output_type": "display_data"
    }
   ],
   "source": [
    "pyplot.plot(tb.K, tb['Train Score'], '-o', label='Train')\n",
    "pyplot.plot(tb.K, tb['Test Score'], '-o', label='Test')\n",
    "pyplot.legend()\n",
    "pyplot.show()"
   ]
  },
  {
   "cell_type": "markdown",
   "metadata": {},
   "source": [
    "number of neigbor 5 seems the best we can get, it gives 75%+ accuracy on test dataset\n",
    "\n",
    "-KNN classifier does not have any specialized training phase as it uses all the training samples for classification and simply stores the results in memory.\n",
    "-KNN is a non-parametric algorithm because it does not assume anything about the training data. This makes it useful for problems having non-linear data.\n",
    "-KNN can be computationally expensive both in terms of time and storage, if the data is very large because KNN has to store the training data to work. This is generally not the case with other supervised learning models.\n",
    "-KNN can be very sensitive to the scale of data as it relies on computing the distances. For features with a higher scale, the calculated distances can be very high and might produce poor results. It is thus advised to scale the data before running the KNN.\n",
    "\n",
    "https://towardsdatascience.com/k-nearest-neighbors-94395f445221\n"
   ]
  },
  {
   "cell_type": "markdown",
   "metadata": {},
   "source": [
    "to know how knn will perform on unseen data we will do cross validation "
   ]
  },
  {
   "cell_type": "code",
   "execution_count": 85,
   "metadata": {},
   "outputs": [
    {
     "name": "stdout",
     "output_type": "stream",
     "text": [
      "[0.66233766 0.58441558 0.5974026  0.64473684 0.68421053]\n",
      "cv_scores mean:0.6346206425153793\n"
     ]
    }
   ],
   "source": [
    "from sklearn.model_selection import cross_val_score\n",
    "import numpy as np\n",
    "#create a new KNN model\n",
    "knn_cv = KNeighborsClassifier(n_neighbors=5)\n",
    "#train model with cv of 5 \n",
    "cv_scores = cross_val_score(knn_cv, df[df.columns[:-1]],df.Class, cv=5)\n",
    "#print each cv score (accuracy) and average them\n",
    "print(cv_scores)\n",
    "print(\"cv_scores mean:{}\".format(np.mean(cv_scores)))"
   ]
  },
  {
   "cell_type": "code",
   "execution_count": 139,
   "metadata": {},
   "outputs": [
    {
     "data": {
      "text/plain": [
       "GridSearchCV(cv=5, estimator=KNeighborsClassifier(),\n",
       "             param_grid={'n_neighbors': array([ 1,  2,  3,  4,  5,  6,  7,  8,  9, 10, 11, 12, 13, 14, 15, 16, 17,\n",
       "       18, 19, 20, 21, 22, 23, 24, 25, 26, 27, 28, 29])})"
      ]
     },
     "execution_count": 139,
     "metadata": {},
     "output_type": "execute_result"
    }
   ],
   "source": [
    "from sklearn.model_selection import GridSearchCV\n",
    "#create new a knn model\n",
    "knn2 = KNeighborsClassifier()\n",
    "#create a dictionary of all values we want to test for n_neighbors\n",
    "param_grid = {\"n_neighbors\": np.arange(1, 30)}\n",
    "#use gridsearch to test all values for n_neighbors\n",
    "knn_gscv = GridSearchCV(knn2, param_grid, cv=5)\n",
    "#fit model to data\n",
    "knn_gscv.fit(X_train,y_train)"
   ]
  },
  {
   "cell_type": "code",
   "execution_count": 140,
   "metadata": {},
   "outputs": [
    {
     "data": {
      "text/plain": [
       "{'n_neighbors': 8}"
      ]
     },
     "execution_count": 140,
     "metadata": {},
     "output_type": "execute_result"
    }
   ],
   "source": [
    "#check top performing n_neighbors value\n",
    "knn_gscv.best_params_"
   ]
  },
  {
   "cell_type": "code",
   "execution_count": 141,
   "metadata": {},
   "outputs": [
    {
     "data": {
      "text/plain": [
       "0.6634056054997356"
      ]
     },
     "execution_count": 141,
     "metadata": {},
     "output_type": "execute_result"
    }
   ],
   "source": [
    "#check mean score for the top performing value of n_neighbors\n",
    "knn_gscv.best_score_"
   ]
  },
  {
   "cell_type": "code",
   "execution_count": 142,
   "metadata": {},
   "outputs": [],
   "source": [
    "#predicting \n",
    "y_pred = knn_gscv.predict(X_test)"
   ]
  },
  {
   "cell_type": "code",
   "execution_count": 143,
   "metadata": {},
   "outputs": [
    {
     "data": {
      "text/plain": [
       "0.6883116883116883"
      ]
     },
     "execution_count": 143,
     "metadata": {},
     "output_type": "execute_result"
    }
   ],
   "source": [
    "knn_gscv.score(X_test,y_test)"
   ]
  },
  {
   "cell_type": "code",
   "execution_count": 144,
   "metadata": {},
   "outputs": [
    {
     "data": {
      "text/plain": [
       "array([[16,  2,  2],\n",
       "       [ 4, 23,  7],\n",
       "       [ 1,  8, 14]])"
      ]
     },
     "execution_count": 144,
     "metadata": {},
     "output_type": "execute_result"
    }
   ],
   "source": [
    "confusion_matrix(y_test,y_pred)"
   ]
  },
  {
   "cell_type": "code",
   "execution_count": 145,
   "metadata": {},
   "outputs": [
    {
     "data": {
      "text/plain": [
       "0.6883116883116883"
      ]
     },
     "execution_count": 145,
     "metadata": {},
     "output_type": "execute_result"
    }
   ],
   "source": [
    "accuracy_score(y_test,y_pred)"
   ]
  },
  {
   "cell_type": "markdown",
   "metadata": {},
   "source": [
    "holdout method result can be misleading \n",
    "cross validation can computationaly expensive"
   ]
  },
  {
   "cell_type": "markdown",
   "metadata": {},
   "source": [
    "Decision Trees "
   ]
  },
  {
   "cell_type": "code",
   "execution_count": 86,
   "metadata": {},
   "outputs": [],
   "source": [
    "from sklearn import tree "
   ]
  },
  {
   "cell_type": "code",
   "execution_count": 161,
   "metadata": {},
   "outputs": [
    {
     "name": "stdout",
     "output_type": "stream",
     "text": [
      "0.7123744050766792 {'max_depth': 4}\n"
     ]
    }
   ],
   "source": [
    "parameters = {'max_depth':range(3,20)}\n",
    "clf = GridSearchCV(tree.DecisionTreeClassifier(), parameters,cv=5, n_jobs=4)\n",
    "clf.fit(X_train, y_train)\n",
    "tree_model = clf.best_estimator_\n",
    "print (clf.best_score_, clf.best_params_) "
   ]
  },
  {
   "cell_type": "code",
   "execution_count": 165,
   "metadata": {},
   "outputs": [
    {
     "data": {
      "text/plain": [
       "0.6493506493506493"
      ]
     },
     "execution_count": 165,
     "metadata": {},
     "output_type": "execute_result"
    }
   ],
   "source": [
    "y_pred = clf.predict(X_test)\n",
    "accuracy_score(y_test,y_pred)"
   ]
  },
  {
   "cell_type": "code",
   "execution_count": 97,
   "metadata": {},
   "outputs": [
    {
     "data": {
      "text/plain": [
       "DecisionTreeClassifier(max_depth=4)"
      ]
     },
     "execution_count": 97,
     "metadata": {},
     "output_type": "execute_result"
    }
   ],
   "source": [
    "clf = tree.DecisionTreeClassifier(max_depth=4)\n",
    "clf.fit(X_train,y_train)\n"
   ]
  },
  {
   "cell_type": "code",
   "execution_count": 111,
   "metadata": {},
   "outputs": [
    {
     "name": "stdout",
     "output_type": "stream",
     "text": [
      "StudentAbsenceDays_Under-7 0.32055010141061613\n",
      "AnnouncementsView 0.23896586980962187\n",
      "VisITedResources 0.19905452870294507\n",
      "raisedhands 0.07093046568231448\n",
      "Relation_Mum 0.06372117515281711\n",
      "Discussion 0.047492610701249646\n",
      "NationalITy_Tunis 0.02541234423250713\n",
      "Topic_Science 0.024983950027643576\n",
      "ParentAnsweringSurvey_Yes 0.008888954280285018\n"
     ]
    }
   ],
   "source": [
    "li = []\n",
    "for importance, name in sorted(zip(clf.feature_importances_, X_train.columns),reverse=True)[:9]:\n",
    "    li.append(name)\n",
    "    print (name, importance)"
   ]
  },
  {
   "cell_type": "code",
   "execution_count": 124,
   "metadata": {},
   "outputs": [
    {
     "data": {
      "text/html": [
       "<div>\n",
       "<style scoped>\n",
       "    .dataframe tbody tr th:only-of-type {\n",
       "        vertical-align: middle;\n",
       "    }\n",
       "\n",
       "    .dataframe tbody tr th {\n",
       "        vertical-align: top;\n",
       "    }\n",
       "\n",
       "    .dataframe thead th {\n",
       "        text-align: right;\n",
       "    }\n",
       "</style>\n",
       "<table border=\"1\" class=\"dataframe\">\n",
       "  <thead>\n",
       "    <tr style=\"text-align: right;\">\n",
       "      <th></th>\n",
       "      <th>StudentAbsenceDays_Under-7</th>\n",
       "      <th>AnnouncementsView</th>\n",
       "      <th>VisITedResources</th>\n",
       "      <th>raisedhands</th>\n",
       "      <th>Relation_Mum</th>\n",
       "      <th>Discussion</th>\n",
       "      <th>NationalITy_Tunis</th>\n",
       "      <th>Topic_Science</th>\n",
       "      <th>ParentAnsweringSurvey_Yes</th>\n",
       "    </tr>\n",
       "  </thead>\n",
       "  <tbody>\n",
       "    <tr>\n",
       "      <th>0</th>\n",
       "      <td>0.0</td>\n",
       "      <td>0.298383</td>\n",
       "      <td>0.410657</td>\n",
       "      <td>0.738702</td>\n",
       "      <td>1.0</td>\n",
       "      <td>0.010489</td>\n",
       "      <td>0.0</td>\n",
       "      <td>0.0</td>\n",
       "      <td>1.0</td>\n",
       "    </tr>\n",
       "    <tr>\n",
       "      <th>1</th>\n",
       "      <td>0.0</td>\n",
       "      <td>-0.300337</td>\n",
       "      <td>-1.462821</td>\n",
       "      <td>-1.260251</td>\n",
       "      <td>0.0</td>\n",
       "      <td>-0.172109</td>\n",
       "      <td>0.0</td>\n",
       "      <td>0.0</td>\n",
       "      <td>1.0</td>\n",
       "    </tr>\n",
       "    <tr>\n",
       "      <th>2</th>\n",
       "      <td>1.0</td>\n",
       "      <td>-0.711956</td>\n",
       "      <td>0.440874</td>\n",
       "      <td>0.061637</td>\n",
       "      <td>1.0</td>\n",
       "      <td>1.106074</td>\n",
       "      <td>0.0</td>\n",
       "      <td>1.0</td>\n",
       "      <td>1.0</td>\n",
       "    </tr>\n",
       "    <tr>\n",
       "      <th>3</th>\n",
       "      <td>0.0</td>\n",
       "      <td>1.271302</td>\n",
       "      <td>0.954570</td>\n",
       "      <td>0.803184</td>\n",
       "      <td>0.0</td>\n",
       "      <td>1.617347</td>\n",
       "      <td>0.0</td>\n",
       "      <td>0.0</td>\n",
       "      <td>1.0</td>\n",
       "    </tr>\n",
       "    <tr>\n",
       "      <th>4</th>\n",
       "      <td>1.0</td>\n",
       "      <td>0.448063</td>\n",
       "      <td>1.105657</td>\n",
       "      <td>0.738702</td>\n",
       "      <td>1.0</td>\n",
       "      <td>-1.377253</td>\n",
       "      <td>0.0</td>\n",
       "      <td>0.0</td>\n",
       "      <td>1.0</td>\n",
       "    </tr>\n",
       "  </tbody>\n",
       "</table>\n",
       "</div>"
      ],
      "text/plain": [
       "   StudentAbsenceDays_Under-7  AnnouncementsView  VisITedResources  \\\n",
       "0                         0.0           0.298383          0.410657   \n",
       "1                         0.0          -0.300337         -1.462821   \n",
       "2                         1.0          -0.711956          0.440874   \n",
       "3                         0.0           1.271302          0.954570   \n",
       "4                         1.0           0.448063          1.105657   \n",
       "\n",
       "   raisedhands  Relation_Mum  Discussion  NationalITy_Tunis  Topic_Science  \\\n",
       "0     0.738702           1.0    0.010489                0.0            0.0   \n",
       "1    -1.260251           0.0   -0.172109                0.0            0.0   \n",
       "2     0.061637           1.0    1.106074                0.0            1.0   \n",
       "3     0.803184           0.0    1.617347                0.0            0.0   \n",
       "4     0.738702           1.0   -1.377253                0.0            0.0   \n",
       "\n",
       "   ParentAnsweringSurvey_Yes  \n",
       "0                        1.0  \n",
       "1                        1.0  \n",
       "2                        1.0  \n",
       "3                        1.0  \n",
       "4                        1.0  "
      ]
     },
     "execution_count": 124,
     "metadata": {},
     "output_type": "execute_result"
    }
   ],
   "source": [
    "#df2 = df[li]\n",
    "#df2.head()"
   ]
  },
  {
   "cell_type": "code",
   "execution_count": 183,
   "metadata": {},
   "outputs": [],
   "source": [
    "# X_train, X_test, y_train, y_test = train_test_split(df[li],df.Class, stratify = df.Class, test_size = 0.2, random_state = 18)\n"
   ]
  },
  {
   "cell_type": "markdown",
   "metadata": {},
   "source": [
    "Naive Bayes"
   ]
  },
  {
   "cell_type": "code",
   "execution_count": 150,
   "metadata": {},
   "outputs": [],
   "source": [
    "#Import Gaussian Naive Bayes model\n",
    "from sklearn.naive_bayes import GaussianNB\n",
    "\n",
    "#Create a Gaussian Classifier\n",
    "gnb = GaussianNB()\n",
    "\n",
    "#Train the model using the training sets\n",
    "gnb.fit(X_train, y_train)\n",
    "\n",
    "#Predict the response for test dataset\n",
    "y_pred = gnb.predict(X_test)"
   ]
  },
  {
   "cell_type": "code",
   "execution_count": 153,
   "metadata": {},
   "outputs": [
    {
     "data": {
      "text/plain": [
       "0.43790849673202614"
      ]
     },
     "execution_count": 153,
     "metadata": {},
     "output_type": "execute_result"
    }
   ],
   "source": [
    "gnb.score(X_train,y_train)"
   ]
  },
  {
   "cell_type": "code",
   "execution_count": 151,
   "metadata": {},
   "outputs": [
    {
     "data": {
      "text/plain": [
       "0.35064935064935066"
      ]
     },
     "execution_count": 151,
     "metadata": {},
     "output_type": "execute_result"
    }
   ],
   "source": [
    "accuracy_score(y_test,y_pred)"
   ]
  },
  {
   "cell_type": "code",
   "execution_count": 156,
   "metadata": {},
   "outputs": [
    {
     "name": "stdout",
     "output_type": "stream",
     "text": [
      "[0.36363636 0.41558442 0.38961039 0.42105263 0.38157895]\n",
      "cv_scores mean:0.39429254955570747\n"
     ]
    }
   ],
   "source": [
    "cv_scores = cross_val_score(gnb, df[df.columns[:-1]],df.Class, cv=5)\n",
    "#print each cv score (accuracy) and average them\n",
    "print(cv_scores)\n",
    "print(\"cv_scores mean:{}\".format(np.mean(cv_scores)))"
   ]
  },
  {
   "cell_type": "markdown",
   "metadata": {},
   "source": [
    "Random forest "
   ]
  },
  {
   "cell_type": "code",
   "execution_count": 157,
   "metadata": {},
   "outputs": [],
   "source": [
    "from sklearn.ensemble import RandomForestClassifier"
   ]
  },
  {
   "cell_type": "code",
   "execution_count": 170,
   "metadata": {},
   "outputs": [
    {
     "name": "stdout",
     "output_type": "stream",
     "text": [
      "0.7320465362242199 {'n_estimators': 18}\n"
     ]
    }
   ],
   "source": [
    "parameters = {'n_estimators':range(3,20)} # number of trees\n",
    "clf = GridSearchCV(RandomForestClassifier(random_state=42,criterion='gini'), parameters,cv=5, n_jobs=4)  # criterion is loss function it can be gini or entropy\n",
    "clf.fit(X_train, y_train)\n",
    "RandomForest_model = clf.best_estimator_\n",
    "print (clf.best_score_, clf.best_params_) "
   ]
  },
  {
   "cell_type": "code",
   "execution_count": 171,
   "metadata": {},
   "outputs": [
    {
     "data": {
      "text/plain": [
       "0.7272727272727273"
      ]
     },
     "execution_count": 171,
     "metadata": {},
     "output_type": "execute_result"
    }
   ],
   "source": [
    "y_pred = RandomForest_model.predict(X_test)\n",
    "accuracy_score(y_test,y_pred)"
   ]
  },
  {
   "cell_type": "code",
   "execution_count": 172,
   "metadata": {},
   "outputs": [
    {
     "data": {
      "text/plain": [
       "array([[14,  5,  1],\n",
       "       [ 1, 28,  5],\n",
       "       [ 0,  9, 14]])"
      ]
     },
     "execution_count": 172,
     "metadata": {},
     "output_type": "execute_result"
    }
   ],
   "source": [
    "confusion_matrix(y_test,y_pred)"
   ]
  },
  {
   "cell_type": "code",
   "execution_count": 173,
   "metadata": {},
   "outputs": [
    {
     "data": {
      "text/plain": [
       "array([1.40864392e-01, 1.48374127e-01, 1.31169242e-01, 8.13667874e-02,\n",
       "       2.32932084e-02, 5.12414284e-03, 1.02129445e-03, 1.36343090e-02,\n",
       "       9.61672809e-03, 0.00000000e+00, 1.22872358e-03, 8.66945059e-03,\n",
       "       3.18697524e-03, 2.07223105e-03, 3.55621790e-03, 1.01330297e-03,\n",
       "       2.40518518e-03, 2.59111451e-04, 2.24032642e-03, 5.26581666e-03,\n",
       "       1.42288108e-02, 1.27925792e-02, 2.29082136e-03, 5.52266890e-04,\n",
       "       1.53388064e-03, 1.38473230e-03, 2.58894268e-04, 1.41399883e-04,\n",
       "       3.25192362e-03, 4.22039633e-03, 6.61907856e-04, 8.77217749e-03,\n",
       "       1.12525055e-02, 3.79214955e-03, 0.00000000e+00, 6.08723566e-03,\n",
       "       7.88981379e-03, 1.37942449e-02, 3.58497830e-04, 6.74456215e-05,\n",
       "       1.62873906e-03, 4.74657894e-03, 1.63158598e-02, 5.61170644e-03,\n",
       "       6.08465364e-03, 9.56707526e-03, 8.96437085e-03, 3.48359072e-03,\n",
       "       7.67579610e-03, 6.35375226e-03, 1.65628018e-02, 4.79994086e-03,\n",
       "       2.59189162e-03, 7.48841324e-03, 3.38545064e-03, 1.46949510e-02,\n",
       "       3.34898116e-02, 3.81176381e-02, 3.73867240e-02, 9.33569990e-02])"
      ]
     },
     "execution_count": 173,
     "metadata": {},
     "output_type": "execute_result"
    }
   ],
   "source": [
    "RandomForest_model.feature_importances_"
   ]
  },
  {
   "cell_type": "markdown",
   "metadata": {},
   "source": [
    "Gradient Boosting "
   ]
  },
  {
   "cell_type": "code",
   "execution_count": 174,
   "metadata": {},
   "outputs": [],
   "source": [
    "from sklearn.ensemble import GradientBoostingClassifier"
   ]
  },
  {
   "cell_type": "code",
   "execution_count": 187,
   "metadata": {},
   "outputs": [
    {
     "name": "stdout",
     "output_type": "stream",
     "text": [
      "0.7515600211528292 {'n_estimators': 47}\n"
     ]
    }
   ],
   "source": [
    "parameters = {'n_estimators':range(3,50)} # number of trees\n",
    "clf = GridSearchCV(GradientBoostingClassifier(random_state=42), parameters,cv=5, n_jobs=4)  # criterion is loss function it can be gini or entropy\n",
    "clf.fit(X_train, y_train)\n",
    "Gradient_model = clf.best_estimator_\n",
    "print (clf.best_score_, clf.best_params_) "
   ]
  },
  {
   "cell_type": "code",
   "execution_count": 188,
   "metadata": {},
   "outputs": [
    {
     "data": {
      "text/plain": [
       "0.7272727272727273"
      ]
     },
     "execution_count": 188,
     "metadata": {},
     "output_type": "execute_result"
    }
   ],
   "source": [
    "y_pred = Gradient_model.predict(X_test)\n",
    "accuracy_score(y_test,y_pred)"
   ]
  },
  {
   "cell_type": "code",
   "execution_count": 189,
   "metadata": {},
   "outputs": [
    {
     "data": {
      "text/plain": [
       "array([[15,  4,  1],\n",
       "       [ 0, 28,  6],\n",
       "       [ 0, 10, 13]])"
      ]
     },
     "execution_count": 189,
     "metadata": {},
     "output_type": "execute_result"
    }
   ],
   "source": [
    "confusion_matrix(y_test,y_pred)"
   ]
  },
  {
   "cell_type": "code",
   "execution_count": 190,
   "metadata": {},
   "outputs": [
    {
     "data": {
      "text/plain": [
       "array([1.08512809e-01, 3.53253080e-01, 8.34547986e-02, 6.88833471e-02,\n",
       "       1.84603527e-02, 3.27783410e-04, 1.58364483e-03, 2.17149345e-03,\n",
       "       2.48214925e-03, 0.00000000e+00, 1.17508622e-04, 1.08645378e-02,\n",
       "       1.70096596e-03, 1.26946951e-04, 3.17385311e-03, 0.00000000e+00,\n",
       "       2.89287169e-04, 0.00000000e+00, 1.27412202e-04, 6.09960740e-04,\n",
       "       6.79216145e-03, 4.82402127e-04, 0.00000000e+00, 3.69106738e-04,\n",
       "       7.60899963e-04, 1.71226361e-03, 1.07349332e-04, 3.81605151e-04,\n",
       "       1.43328671e-03, 0.00000000e+00, 0.00000000e+00, 2.69196335e-03,\n",
       "       4.53444920e-04, 1.33163271e-03, 0.00000000e+00, 1.58714907e-05,\n",
       "       4.01265324e-03, 1.51513522e-03, 0.00000000e+00, 0.00000000e+00,\n",
       "       2.74788867e-03, 1.80303590e-04, 2.33860339e-03, 2.01800336e-04,\n",
       "       0.00000000e+00, 2.50721997e-03, 5.36051951e-03, 0.00000000e+00,\n",
       "       4.10490950e-03, 6.50627823e-03, 0.00000000e+00, 4.10620537e-03,\n",
       "       0.00000000e+00, 1.75399775e-03, 5.38353131e-06, 6.81973430e-04,\n",
       "       2.44722606e-02, 1.66330538e-02, 1.37525482e-02, 2.36447347e-01])"
      ]
     },
     "execution_count": 190,
     "metadata": {},
     "output_type": "execute_result"
    }
   ],
   "source": [
    "Gradient_model.feature_importances_"
   ]
  },
  {
   "cell_type": "markdown",
   "metadata": {},
   "source": [
    "Logistic Regression for multi-class"
   ]
  },
  {
   "cell_type": "code",
   "execution_count": 191,
   "metadata": {},
   "outputs": [],
   "source": [
    "from sklearn.linear_model import LogisticRegression"
   ]
  },
  {
   "cell_type": "code",
   "execution_count": 196,
   "metadata": {},
   "outputs": [
    {
     "name": "stdout",
     "output_type": "stream",
     "text": [
      "train_score 0.8823529411764706      test_score 0.6883116883116883 \n",
      "\n",
      "cross_validation score [0.77922078 0.67532468 0.77922078 0.81578947 0.73684211] 0.7572795625427206\n"
     ]
    }
   ],
   "source": [
    "model = LogisticRegression(multi_class='multinomial', solver='lbfgs',random_state=40 ) # solver - multinomial loss\n",
    "model.fit(X_train,y_train)\n",
    "print(\"train_score\",model.score(X_train,y_train),\"     test_score\" ,model.score(X_test,y_test),\"\\n\")\n",
    "cv_scores = cross_val_score(model,df[df.columns[:-1]],df.Class,cv=5, n_jobs=4)  \n",
    "\n",
    "print (\"cross_validation score\",cv_scores,np.mean(cv_scores)) "
   ]
  },
  {
   "cell_type": "markdown",
   "metadata": {},
   "source": [
    "overfitting as test score is very low as compare to train score \n",
    "check stratified k-fold"
   ]
  },
  {
   "cell_type": "markdown",
   "metadata": {},
   "source": [
    "svm (support vector machines)"
   ]
  },
  {
   "cell_type": "code",
   "execution_count": 197,
   "metadata": {},
   "outputs": [],
   "source": [
    "from sklearn import svm"
   ]
  },
  {
   "cell_type": "code",
   "execution_count": 202,
   "metadata": {},
   "outputs": [
    {
     "data": {
      "text/plain": [
       "0.8986928104575164"
      ]
     },
     "execution_count": 202,
     "metadata": {},
     "output_type": "execute_result"
    }
   ],
   "source": [
    "clf = svm.SVC(decision_function_shape='ovo')  # one vs one \n",
    "clf.fit(X_train, y_train)\n",
    "clf.score(X_train,y_train)"
   ]
  },
  {
   "cell_type": "code",
   "execution_count": 205,
   "metadata": {},
   "outputs": [
    {
     "data": {
      "text/plain": [
       "0.7012987012987013"
      ]
     },
     "execution_count": 205,
     "metadata": {},
     "output_type": "execute_result"
    }
   ],
   "source": [
    "y_pred = clf.predict(X_test)\n",
    "accuracy_score(y_test,y_pred)"
   ]
  },
  {
   "cell_type": "code",
   "execution_count": 206,
   "metadata": {},
   "outputs": [
    {
     "data": {
      "text/plain": [
       "array([[15,  4,  1],\n",
       "       [ 1, 26,  7],\n",
       "       [ 0, 10, 13]])"
      ]
     },
     "execution_count": 206,
     "metadata": {},
     "output_type": "execute_result"
    }
   ],
   "source": [
    "confusion_matrix(y_test,y_pred)"
   ]
  },
  {
   "cell_type": "code",
   "execution_count": 1,
   "metadata": {},
   "outputs": [],
   "source": [
    "import tensorflow as tf\n",
    "import numpy as np\n",
    "import pandas as pd\n",
    "import matplotlib.pyplot as plt\n",
    "import seaborn as sns\n",
    "import scipy as sc\n",
    "import random\n",
    "import time\n",
    "from sklearn.utils import shuffle\n",
    "\n",
    "from sklearn.preprocessing import LabelEncoder\n",
    "from sklearn.model_selection import train_test_split\n",
    "from keras.utils.np_utils import to_categorical\n",
    "\n",
    "from keras.models import Sequential\n",
    "from keras.layers import Dense"
   ]
  },
  {
   "cell_type": "code",
   "execution_count": null,
   "metadata": {},
   "outputs": [],
   "source": []
  }
 ],
 "metadata": {
  "interpreter": {
   "hash": "31f2aee4e71d21fbe5cf8b01ff0e069b9275f58929596ceb00d14d90e3e16cd6"
  },
  "kernelspec": {
   "display_name": "Python 3",
   "language": "python",
   "name": "python3"
  },
  "language_info": {
   "codemirror_mode": {
    "name": "ipython",
    "version": 3
   },
   "file_extension": ".py",
   "mimetype": "text/x-python",
   "name": "python",
   "nbconvert_exporter": "python",
   "pygments_lexer": "ipython3",
   "version": "3.8.8"
  }
 },
 "nbformat": 4,
 "nbformat_minor": 2
}
