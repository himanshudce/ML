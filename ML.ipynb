{
 "cells": [
  {
   "cell_type": "code",
   "execution_count": 1,
   "metadata": {},
   "outputs": [],
   "source": [
    "#IPython extension to reload modules before executing user code. If we make any change in function \n",
    "# and imoprting it we don't need to restart if we use auto reload \n",
    "%load_ext autoreload\n",
    "\n",
    "# to print in between values as well without print\n",
    "from IPython.core.interactiveshell import InteractiveShell\n",
    "InteractiveShell.ast_node_interactivity = \"all\""
   ]
  },
  {
   "cell_type": "code",
   "execution_count": 2,
   "metadata": {},
   "outputs": [],
   "source": [
    "# import libraries\n",
    "import pandas as pd\n",
    "import numpy as np\n",
    "import matplotlib.pyplot as plt\n",
    "import seaborn as sn\n",
    "\n",
    "\n",
    "# ML libraries\n",
    "from sklearn.model_selection import train_test_split\n",
    "from sklearn.neighbors import KNeighborsClassifier\n",
    "from sklearn.neighbors import LocalOutlierFactor\n",
    "from sklearn import preprocessing"
   ]
  },
  {
   "cell_type": "markdown",
   "metadata": {},
   "source": [
    "# DATA Pre Processing"
   ]
  },
  {
   "cell_type": "markdown",
   "metadata": {},
   "source": [
    "1. Check for Data Types\n",
    "2. Check Columns Names\n",
    "3. Divide in train and test \n",
    "4. Check for Missing Values\n",
    "5. Check for Bad Data\n",
    "6. Imputation of Null values\n",
    "7. Check for distribution type\n",
    "8. Scaling the data\n",
    "9. Checks for outliers \n",
    "10. Check for data Imbalance \n",
    "11. Perform necessary transformations\n",
    "12. Perform feature Engineering\n",
    "13. Binning Continuous data\n",
    "14. Feature selection\n",
    "\n",
    "basic preprocessing link - https://towardsdatascience.com/a-checklist-for-data-pre-processing-before-you-build-your-machine-learning-model-91d2d04dc53f "
   ]
  },
  {
   "cell_type": "code",
   "execution_count": 3,
   "metadata": {},
   "outputs": [
    {
     "data": {
      "text/html": [
       "<div>\n",
       "<style scoped>\n",
       "    .dataframe tbody tr th:only-of-type {\n",
       "        vertical-align: middle;\n",
       "    }\n",
       "\n",
       "    .dataframe tbody tr th {\n",
       "        vertical-align: top;\n",
       "    }\n",
       "\n",
       "    .dataframe thead th {\n",
       "        text-align: right;\n",
       "    }\n",
       "</style>\n",
       "<table border=\"1\" class=\"dataframe\">\n",
       "  <thead>\n",
       "    <tr style=\"text-align: right;\">\n",
       "      <th></th>\n",
       "      <th>gender</th>\n",
       "      <th>NationalITy</th>\n",
       "      <th>PlaceofBirth</th>\n",
       "      <th>StageID</th>\n",
       "      <th>GradeID</th>\n",
       "      <th>SectionID</th>\n",
       "      <th>Topic</th>\n",
       "      <th>Semester</th>\n",
       "      <th>Relation</th>\n",
       "      <th>raisedhands</th>\n",
       "      <th>VisITedResources</th>\n",
       "      <th>AnnouncementsView</th>\n",
       "      <th>Discussion</th>\n",
       "      <th>ParentAnsweringSurvey</th>\n",
       "      <th>ParentschoolSatisfaction</th>\n",
       "      <th>StudentAbsenceDays</th>\n",
       "      <th>Class</th>\n",
       "    </tr>\n",
       "  </thead>\n",
       "  <tbody>\n",
       "    <tr>\n",
       "      <th>0</th>\n",
       "      <td>M</td>\n",
       "      <td>KW</td>\n",
       "      <td>KuwaIT</td>\n",
       "      <td>lowerlevel</td>\n",
       "      <td>G-04</td>\n",
       "      <td>A</td>\n",
       "      <td>IT</td>\n",
       "      <td>F</td>\n",
       "      <td>Father</td>\n",
       "      <td>15.0</td>\n",
       "      <td>16</td>\n",
       "      <td>2</td>\n",
       "      <td>20</td>\n",
       "      <td>Yes</td>\n",
       "      <td>Good</td>\n",
       "      <td>Under-7</td>\n",
       "      <td>M</td>\n",
       "    </tr>\n",
       "    <tr>\n",
       "      <th>1</th>\n",
       "      <td>M</td>\n",
       "      <td>KW</td>\n",
       "      <td>KuwaIT</td>\n",
       "      <td>lowerlevel</td>\n",
       "      <td>G-04</td>\n",
       "      <td>A</td>\n",
       "      <td>IT</td>\n",
       "      <td>F</td>\n",
       "      <td>Father</td>\n",
       "      <td>20.0</td>\n",
       "      <td>20</td>\n",
       "      <td>3</td>\n",
       "      <td>25</td>\n",
       "      <td>Yes</td>\n",
       "      <td>Good</td>\n",
       "      <td>Under-7</td>\n",
       "      <td>M</td>\n",
       "    </tr>\n",
       "    <tr>\n",
       "      <th>2</th>\n",
       "      <td>M</td>\n",
       "      <td>KW</td>\n",
       "      <td>KuwaIT</td>\n",
       "      <td>lowerlevel</td>\n",
       "      <td>G-04</td>\n",
       "      <td>A</td>\n",
       "      <td>IT</td>\n",
       "      <td>F</td>\n",
       "      <td>Father</td>\n",
       "      <td>10.0</td>\n",
       "      <td>7</td>\n",
       "      <td>0</td>\n",
       "      <td>30</td>\n",
       "      <td>No</td>\n",
       "      <td>Bad</td>\n",
       "      <td>Above-7</td>\n",
       "      <td>L</td>\n",
       "    </tr>\n",
       "    <tr>\n",
       "      <th>3</th>\n",
       "      <td>M</td>\n",
       "      <td>KW</td>\n",
       "      <td>KuwaIT</td>\n",
       "      <td>lowerlevel</td>\n",
       "      <td>G-04</td>\n",
       "      <td>A</td>\n",
       "      <td>IT</td>\n",
       "      <td>F</td>\n",
       "      <td>Father</td>\n",
       "      <td>30.0</td>\n",
       "      <td>25</td>\n",
       "      <td>5</td>\n",
       "      <td>35</td>\n",
       "      <td>No</td>\n",
       "      <td>Bad</td>\n",
       "      <td>Above-7</td>\n",
       "      <td>L</td>\n",
       "    </tr>\n",
       "    <tr>\n",
       "      <th>4</th>\n",
       "      <td>M</td>\n",
       "      <td>KW</td>\n",
       "      <td>KuwaIT</td>\n",
       "      <td>lowerlevel</td>\n",
       "      <td>G-04</td>\n",
       "      <td>A</td>\n",
       "      <td>IT</td>\n",
       "      <td>F</td>\n",
       "      <td>Father</td>\n",
       "      <td>40.0</td>\n",
       "      <td>50</td>\n",
       "      <td>12</td>\n",
       "      <td>50</td>\n",
       "      <td>No</td>\n",
       "      <td>Bad</td>\n",
       "      <td>Above-7</td>\n",
       "      <td>M</td>\n",
       "    </tr>\n",
       "  </tbody>\n",
       "</table>\n",
       "</div>"
      ],
      "text/plain": [
       "  gender NationalITy PlaceofBirth     StageID GradeID SectionID Topic  \\\n",
       "0      M          KW       KuwaIT  lowerlevel    G-04         A    IT   \n",
       "1      M          KW       KuwaIT  lowerlevel    G-04         A    IT   \n",
       "2      M          KW       KuwaIT  lowerlevel    G-04         A    IT   \n",
       "3      M          KW       KuwaIT  lowerlevel    G-04         A    IT   \n",
       "4      M          KW       KuwaIT  lowerlevel    G-04         A    IT   \n",
       "\n",
       "  Semester Relation  raisedhands  VisITedResources  AnnouncementsView  \\\n",
       "0        F   Father         15.0                16                  2   \n",
       "1        F   Father         20.0                20                  3   \n",
       "2        F   Father         10.0                 7                  0   \n",
       "3        F   Father         30.0                25                  5   \n",
       "4        F   Father         40.0                50                 12   \n",
       "\n",
       "   Discussion ParentAnsweringSurvey ParentschoolSatisfaction  \\\n",
       "0          20                   Yes                     Good   \n",
       "1          25                   Yes                     Good   \n",
       "2          30                    No                      Bad   \n",
       "3          35                    No                      Bad   \n",
       "4          50                    No                      Bad   \n",
       "\n",
       "  StudentAbsenceDays Class  \n",
       "0            Under-7     M  \n",
       "1            Under-7     M  \n",
       "2            Above-7     L  \n",
       "3            Above-7     L  \n",
       "4            Above-7     M  "
      ]
     },
     "execution_count": 3,
     "metadata": {},
     "output_type": "execute_result"
    }
   ],
   "source": [
    "# load database\n",
    "data = pd.read_csv('xAPI-Edu-Data.csv')\n",
    "data.head()"
   ]
  },
  {
   "cell_type": "markdown",
   "metadata": {},
   "source": [
    "## 1. checking data and types\n",
    "Data types are one of those things that you don’t tend to care about until you get an error or some unexpected results. It is also one of the first things you should check once you load a new data into pandas for further analysis. We need to be sure if pandas has loaded all the types correctly\n",
    "\n",
    "link - https://pbpython.com/pandas_dtypes.html"
   ]
  },
  {
   "cell_type": "code",
   "execution_count": 4,
   "metadata": {},
   "outputs": [
    {
     "data": {
      "text/plain": [
       "gender                       object\n",
       "NationalITy                  object\n",
       "PlaceofBirth                 object\n",
       "StageID                      object\n",
       "GradeID                      object\n",
       "SectionID                    object\n",
       "Topic                        object\n",
       "Semester                     object\n",
       "Relation                     object\n",
       "raisedhands                 float64\n",
       "VisITedResources              int64\n",
       "AnnouncementsView             int64\n",
       "Discussion                    int64\n",
       "ParentAnsweringSurvey        object\n",
       "ParentschoolSatisfaction     object\n",
       "StudentAbsenceDays           object\n",
       "Class                        object\n",
       "dtype: object"
      ]
     },
     "execution_count": 4,
     "metadata": {},
     "output_type": "execute_result"
    }
   ],
   "source": [
    "data.dtypes"
   ]
  },
  {
   "cell_type": "code",
   "execution_count": 5,
   "metadata": {},
   "outputs": [
    {
     "data": {
      "text/html": [
       "<div>\n",
       "<style scoped>\n",
       "    .dataframe tbody tr th:only-of-type {\n",
       "        vertical-align: middle;\n",
       "    }\n",
       "\n",
       "    .dataframe tbody tr th {\n",
       "        vertical-align: top;\n",
       "    }\n",
       "\n",
       "    .dataframe thead th {\n",
       "        text-align: right;\n",
       "    }\n",
       "</style>\n",
       "<table border=\"1\" class=\"dataframe\">\n",
       "  <thead>\n",
       "    <tr style=\"text-align: right;\">\n",
       "      <th></th>\n",
       "      <th>count</th>\n",
       "      <th>unique</th>\n",
       "      <th>top</th>\n",
       "      <th>freq</th>\n",
       "      <th>mean</th>\n",
       "      <th>std</th>\n",
       "      <th>min</th>\n",
       "      <th>25%</th>\n",
       "      <th>50%</th>\n",
       "      <th>75%</th>\n",
       "      <th>max</th>\n",
       "    </tr>\n",
       "  </thead>\n",
       "  <tbody>\n",
       "    <tr>\n",
       "      <th>gender</th>\n",
       "      <td>481</td>\n",
       "      <td>2</td>\n",
       "      <td>M</td>\n",
       "      <td>306</td>\n",
       "      <td>NaN</td>\n",
       "      <td>NaN</td>\n",
       "      <td>NaN</td>\n",
       "      <td>NaN</td>\n",
       "      <td>NaN</td>\n",
       "      <td>NaN</td>\n",
       "      <td>NaN</td>\n",
       "    </tr>\n",
       "    <tr>\n",
       "      <th>NationalITy</th>\n",
       "      <td>481</td>\n",
       "      <td>14</td>\n",
       "      <td>KW</td>\n",
       "      <td>179</td>\n",
       "      <td>NaN</td>\n",
       "      <td>NaN</td>\n",
       "      <td>NaN</td>\n",
       "      <td>NaN</td>\n",
       "      <td>NaN</td>\n",
       "      <td>NaN</td>\n",
       "      <td>NaN</td>\n",
       "    </tr>\n",
       "    <tr>\n",
       "      <th>PlaceofBirth</th>\n",
       "      <td>481</td>\n",
       "      <td>14</td>\n",
       "      <td>KuwaIT</td>\n",
       "      <td>180</td>\n",
       "      <td>NaN</td>\n",
       "      <td>NaN</td>\n",
       "      <td>NaN</td>\n",
       "      <td>NaN</td>\n",
       "      <td>NaN</td>\n",
       "      <td>NaN</td>\n",
       "      <td>NaN</td>\n",
       "    </tr>\n",
       "    <tr>\n",
       "      <th>StageID</th>\n",
       "      <td>481</td>\n",
       "      <td>3</td>\n",
       "      <td>MiddleSchool</td>\n",
       "      <td>249</td>\n",
       "      <td>NaN</td>\n",
       "      <td>NaN</td>\n",
       "      <td>NaN</td>\n",
       "      <td>NaN</td>\n",
       "      <td>NaN</td>\n",
       "      <td>NaN</td>\n",
       "      <td>NaN</td>\n",
       "    </tr>\n",
       "    <tr>\n",
       "      <th>GradeID</th>\n",
       "      <td>481</td>\n",
       "      <td>10</td>\n",
       "      <td>G-02</td>\n",
       "      <td>147</td>\n",
       "      <td>NaN</td>\n",
       "      <td>NaN</td>\n",
       "      <td>NaN</td>\n",
       "      <td>NaN</td>\n",
       "      <td>NaN</td>\n",
       "      <td>NaN</td>\n",
       "      <td>NaN</td>\n",
       "    </tr>\n",
       "    <tr>\n",
       "      <th>SectionID</th>\n",
       "      <td>481</td>\n",
       "      <td>3</td>\n",
       "      <td>A</td>\n",
       "      <td>284</td>\n",
       "      <td>NaN</td>\n",
       "      <td>NaN</td>\n",
       "      <td>NaN</td>\n",
       "      <td>NaN</td>\n",
       "      <td>NaN</td>\n",
       "      <td>NaN</td>\n",
       "      <td>NaN</td>\n",
       "    </tr>\n",
       "    <tr>\n",
       "      <th>Topic</th>\n",
       "      <td>479</td>\n",
       "      <td>12</td>\n",
       "      <td>IT</td>\n",
       "      <td>94</td>\n",
       "      <td>NaN</td>\n",
       "      <td>NaN</td>\n",
       "      <td>NaN</td>\n",
       "      <td>NaN</td>\n",
       "      <td>NaN</td>\n",
       "      <td>NaN</td>\n",
       "      <td>NaN</td>\n",
       "    </tr>\n",
       "    <tr>\n",
       "      <th>Semester</th>\n",
       "      <td>481</td>\n",
       "      <td>2</td>\n",
       "      <td>F</td>\n",
       "      <td>245</td>\n",
       "      <td>NaN</td>\n",
       "      <td>NaN</td>\n",
       "      <td>NaN</td>\n",
       "      <td>NaN</td>\n",
       "      <td>NaN</td>\n",
       "      <td>NaN</td>\n",
       "      <td>NaN</td>\n",
       "    </tr>\n",
       "    <tr>\n",
       "      <th>Relation</th>\n",
       "      <td>481</td>\n",
       "      <td>2</td>\n",
       "      <td>Father</td>\n",
       "      <td>284</td>\n",
       "      <td>NaN</td>\n",
       "      <td>NaN</td>\n",
       "      <td>NaN</td>\n",
       "      <td>NaN</td>\n",
       "      <td>NaN</td>\n",
       "      <td>NaN</td>\n",
       "      <td>NaN</td>\n",
       "    </tr>\n",
       "    <tr>\n",
       "      <th>raisedhands</th>\n",
       "      <td>478.0</td>\n",
       "      <td>NaN</td>\n",
       "      <td>NaN</td>\n",
       "      <td>NaN</td>\n",
       "      <td>46.853556</td>\n",
       "      <td>30.774957</td>\n",
       "      <td>0.0</td>\n",
       "      <td>16.0</td>\n",
       "      <td>50.0</td>\n",
       "      <td>75.0</td>\n",
       "      <td>100.0</td>\n",
       "    </tr>\n",
       "    <tr>\n",
       "      <th>VisITedResources</th>\n",
       "      <td>481.0</td>\n",
       "      <td>NaN</td>\n",
       "      <td>NaN</td>\n",
       "      <td>NaN</td>\n",
       "      <td>54.713098</td>\n",
       "      <td>33.097848</td>\n",
       "      <td>0.0</td>\n",
       "      <td>20.0</td>\n",
       "      <td>65.0</td>\n",
       "      <td>84.0</td>\n",
       "      <td>99.0</td>\n",
       "    </tr>\n",
       "    <tr>\n",
       "      <th>AnnouncementsView</th>\n",
       "      <td>481.0</td>\n",
       "      <td>NaN</td>\n",
       "      <td>NaN</td>\n",
       "      <td>NaN</td>\n",
       "      <td>37.887734</td>\n",
       "      <td>26.592211</td>\n",
       "      <td>0.0</td>\n",
       "      <td>14.0</td>\n",
       "      <td>33.0</td>\n",
       "      <td>58.0</td>\n",
       "      <td>98.0</td>\n",
       "    </tr>\n",
       "    <tr>\n",
       "      <th>Discussion</th>\n",
       "      <td>481.0</td>\n",
       "      <td>NaN</td>\n",
       "      <td>NaN</td>\n",
       "      <td>NaN</td>\n",
       "      <td>43.505198</td>\n",
       "      <td>28.034437</td>\n",
       "      <td>1.0</td>\n",
       "      <td>20.0</td>\n",
       "      <td>39.0</td>\n",
       "      <td>70.0</td>\n",
       "      <td>150.0</td>\n",
       "    </tr>\n",
       "    <tr>\n",
       "      <th>ParentAnsweringSurvey</th>\n",
       "      <td>481</td>\n",
       "      <td>2</td>\n",
       "      <td>Yes</td>\n",
       "      <td>270</td>\n",
       "      <td>NaN</td>\n",
       "      <td>NaN</td>\n",
       "      <td>NaN</td>\n",
       "      <td>NaN</td>\n",
       "      <td>NaN</td>\n",
       "      <td>NaN</td>\n",
       "      <td>NaN</td>\n",
       "    </tr>\n",
       "    <tr>\n",
       "      <th>ParentschoolSatisfaction</th>\n",
       "      <td>481</td>\n",
       "      <td>2</td>\n",
       "      <td>Good</td>\n",
       "      <td>292</td>\n",
       "      <td>NaN</td>\n",
       "      <td>NaN</td>\n",
       "      <td>NaN</td>\n",
       "      <td>NaN</td>\n",
       "      <td>NaN</td>\n",
       "      <td>NaN</td>\n",
       "      <td>NaN</td>\n",
       "    </tr>\n",
       "    <tr>\n",
       "      <th>StudentAbsenceDays</th>\n",
       "      <td>481</td>\n",
       "      <td>2</td>\n",
       "      <td>Under-7</td>\n",
       "      <td>289</td>\n",
       "      <td>NaN</td>\n",
       "      <td>NaN</td>\n",
       "      <td>NaN</td>\n",
       "      <td>NaN</td>\n",
       "      <td>NaN</td>\n",
       "      <td>NaN</td>\n",
       "      <td>NaN</td>\n",
       "    </tr>\n",
       "    <tr>\n",
       "      <th>Class</th>\n",
       "      <td>481</td>\n",
       "      <td>3</td>\n",
       "      <td>M</td>\n",
       "      <td>211</td>\n",
       "      <td>NaN</td>\n",
       "      <td>NaN</td>\n",
       "      <td>NaN</td>\n",
       "      <td>NaN</td>\n",
       "      <td>NaN</td>\n",
       "      <td>NaN</td>\n",
       "      <td>NaN</td>\n",
       "    </tr>\n",
       "  </tbody>\n",
       "</table>\n",
       "</div>"
      ],
      "text/plain": [
       "                          count unique           top freq       mean  \\\n",
       "gender                      481      2             M  306        NaN   \n",
       "NationalITy                 481     14            KW  179        NaN   \n",
       "PlaceofBirth                481     14        KuwaIT  180        NaN   \n",
       "StageID                     481      3  MiddleSchool  249        NaN   \n",
       "GradeID                     481     10          G-02  147        NaN   \n",
       "SectionID                   481      3             A  284        NaN   \n",
       "Topic                       479     12            IT   94        NaN   \n",
       "Semester                    481      2             F  245        NaN   \n",
       "Relation                    481      2        Father  284        NaN   \n",
       "raisedhands               478.0    NaN           NaN  NaN  46.853556   \n",
       "VisITedResources          481.0    NaN           NaN  NaN  54.713098   \n",
       "AnnouncementsView         481.0    NaN           NaN  NaN  37.887734   \n",
       "Discussion                481.0    NaN           NaN  NaN  43.505198   \n",
       "ParentAnsweringSurvey       481      2           Yes  270        NaN   \n",
       "ParentschoolSatisfaction    481      2          Good  292        NaN   \n",
       "StudentAbsenceDays          481      2       Under-7  289        NaN   \n",
       "Class                       481      3             M  211        NaN   \n",
       "\n",
       "                                std  min   25%   50%   75%    max  \n",
       "gender                          NaN  NaN   NaN   NaN   NaN    NaN  \n",
       "NationalITy                     NaN  NaN   NaN   NaN   NaN    NaN  \n",
       "PlaceofBirth                    NaN  NaN   NaN   NaN   NaN    NaN  \n",
       "StageID                         NaN  NaN   NaN   NaN   NaN    NaN  \n",
       "GradeID                         NaN  NaN   NaN   NaN   NaN    NaN  \n",
       "SectionID                       NaN  NaN   NaN   NaN   NaN    NaN  \n",
       "Topic                           NaN  NaN   NaN   NaN   NaN    NaN  \n",
       "Semester                        NaN  NaN   NaN   NaN   NaN    NaN  \n",
       "Relation                        NaN  NaN   NaN   NaN   NaN    NaN  \n",
       "raisedhands               30.774957  0.0  16.0  50.0  75.0  100.0  \n",
       "VisITedResources          33.097848  0.0  20.0  65.0  84.0   99.0  \n",
       "AnnouncementsView         26.592211  0.0  14.0  33.0  58.0   98.0  \n",
       "Discussion                28.034437  1.0  20.0  39.0  70.0  150.0  \n",
       "ParentAnsweringSurvey           NaN  NaN   NaN   NaN   NaN    NaN  \n",
       "ParentschoolSatisfaction        NaN  NaN   NaN   NaN   NaN    NaN  \n",
       "StudentAbsenceDays              NaN  NaN   NaN   NaN   NaN    NaN  \n",
       "Class                           NaN  NaN   NaN   NaN   NaN    NaN  "
      ]
     },
     "execution_count": 5,
     "metadata": {},
     "output_type": "execute_result"
    }
   ],
   "source": [
    "# T will represent the transpose of the resulting dataframe, better for visualization\n",
    "data.describe(include='all').T"
   ]
  },
  {
   "cell_type": "code",
   "execution_count": 6,
   "metadata": {},
   "outputs": [
    {
     "data": {
      "text/html": [
       "<div>\n",
       "<style scoped>\n",
       "    .dataframe tbody tr th:only-of-type {\n",
       "        vertical-align: middle;\n",
       "    }\n",
       "\n",
       "    .dataframe tbody tr th {\n",
       "        vertical-align: top;\n",
       "    }\n",
       "\n",
       "    .dataframe thead th {\n",
       "        text-align: right;\n",
       "    }\n",
       "</style>\n",
       "<table border=\"1\" class=\"dataframe\">\n",
       "  <thead>\n",
       "    <tr style=\"text-align: right;\">\n",
       "      <th></th>\n",
       "      <th>count</th>\n",
       "      <th>mean</th>\n",
       "      <th>std</th>\n",
       "      <th>min</th>\n",
       "      <th>25%</th>\n",
       "      <th>50%</th>\n",
       "      <th>75%</th>\n",
       "      <th>max</th>\n",
       "    </tr>\n",
       "  </thead>\n",
       "  <tbody>\n",
       "    <tr>\n",
       "      <th>raisedhands</th>\n",
       "      <td>478.0</td>\n",
       "      <td>46.853556</td>\n",
       "      <td>30.774957</td>\n",
       "      <td>0.0</td>\n",
       "      <td>16.0</td>\n",
       "      <td>50.0</td>\n",
       "      <td>75.0</td>\n",
       "      <td>100.0</td>\n",
       "    </tr>\n",
       "    <tr>\n",
       "      <th>VisITedResources</th>\n",
       "      <td>481.0</td>\n",
       "      <td>54.713098</td>\n",
       "      <td>33.097848</td>\n",
       "      <td>0.0</td>\n",
       "      <td>20.0</td>\n",
       "      <td>65.0</td>\n",
       "      <td>84.0</td>\n",
       "      <td>99.0</td>\n",
       "    </tr>\n",
       "    <tr>\n",
       "      <th>AnnouncementsView</th>\n",
       "      <td>481.0</td>\n",
       "      <td>37.887734</td>\n",
       "      <td>26.592211</td>\n",
       "      <td>0.0</td>\n",
       "      <td>14.0</td>\n",
       "      <td>33.0</td>\n",
       "      <td>58.0</td>\n",
       "      <td>98.0</td>\n",
       "    </tr>\n",
       "    <tr>\n",
       "      <th>Discussion</th>\n",
       "      <td>481.0</td>\n",
       "      <td>43.505198</td>\n",
       "      <td>28.034437</td>\n",
       "      <td>1.0</td>\n",
       "      <td>20.0</td>\n",
       "      <td>39.0</td>\n",
       "      <td>70.0</td>\n",
       "      <td>150.0</td>\n",
       "    </tr>\n",
       "  </tbody>\n",
       "</table>\n",
       "</div>"
      ],
      "text/plain": [
       "                   count       mean        std  min   25%   50%   75%    max\n",
       "raisedhands        478.0  46.853556  30.774957  0.0  16.0  50.0  75.0  100.0\n",
       "VisITedResources   481.0  54.713098  33.097848  0.0  20.0  65.0  84.0   99.0\n",
       "AnnouncementsView  481.0  37.887734  26.592211  0.0  14.0  33.0  58.0   98.0\n",
       "Discussion         481.0  43.505198  28.034437  1.0  20.0  39.0  70.0  150.0"
      ]
     },
     "execution_count": 6,
     "metadata": {},
     "output_type": "execute_result"
    }
   ],
   "source": [
    "data.describe(include='number').T"
   ]
  },
  {
   "cell_type": "code",
   "execution_count": 7,
   "metadata": {},
   "outputs": [
    {
     "data": {
      "text/html": [
       "<div>\n",
       "<style scoped>\n",
       "    .dataframe tbody tr th:only-of-type {\n",
       "        vertical-align: middle;\n",
       "    }\n",
       "\n",
       "    .dataframe tbody tr th {\n",
       "        vertical-align: top;\n",
       "    }\n",
       "\n",
       "    .dataframe thead th {\n",
       "        text-align: right;\n",
       "    }\n",
       "</style>\n",
       "<table border=\"1\" class=\"dataframe\">\n",
       "  <thead>\n",
       "    <tr style=\"text-align: right;\">\n",
       "      <th></th>\n",
       "      <th>raisedhands</th>\n",
       "      <th>VisITedResources</th>\n",
       "      <th>AnnouncementsView</th>\n",
       "      <th>Discussion</th>\n",
       "    </tr>\n",
       "  </thead>\n",
       "  <tbody>\n",
       "    <tr>\n",
       "      <th>count</th>\n",
       "      <td>478.000000</td>\n",
       "      <td>481.000000</td>\n",
       "      <td>481.000000</td>\n",
       "      <td>481.000000</td>\n",
       "    </tr>\n",
       "    <tr>\n",
       "      <th>mean</th>\n",
       "      <td>46.853556</td>\n",
       "      <td>54.713098</td>\n",
       "      <td>37.887734</td>\n",
       "      <td>43.505198</td>\n",
       "    </tr>\n",
       "    <tr>\n",
       "      <th>std</th>\n",
       "      <td>30.774957</td>\n",
       "      <td>33.097848</td>\n",
       "      <td>26.592211</td>\n",
       "      <td>28.034437</td>\n",
       "    </tr>\n",
       "    <tr>\n",
       "      <th>min</th>\n",
       "      <td>0.000000</td>\n",
       "      <td>0.000000</td>\n",
       "      <td>0.000000</td>\n",
       "      <td>1.000000</td>\n",
       "    </tr>\n",
       "    <tr>\n",
       "      <th>25%</th>\n",
       "      <td>16.000000</td>\n",
       "      <td>20.000000</td>\n",
       "      <td>14.000000</td>\n",
       "      <td>20.000000</td>\n",
       "    </tr>\n",
       "    <tr>\n",
       "      <th>50%</th>\n",
       "      <td>50.000000</td>\n",
       "      <td>65.000000</td>\n",
       "      <td>33.000000</td>\n",
       "      <td>39.000000</td>\n",
       "    </tr>\n",
       "    <tr>\n",
       "      <th>75%</th>\n",
       "      <td>75.000000</td>\n",
       "      <td>84.000000</td>\n",
       "      <td>58.000000</td>\n",
       "      <td>70.000000</td>\n",
       "    </tr>\n",
       "    <tr>\n",
       "      <th>max</th>\n",
       "      <td>100.000000</td>\n",
       "      <td>99.000000</td>\n",
       "      <td>98.000000</td>\n",
       "      <td>150.000000</td>\n",
       "    </tr>\n",
       "  </tbody>\n",
       "</table>\n",
       "</div>"
      ],
      "text/plain": [
       "       raisedhands  VisITedResources  AnnouncementsView  Discussion\n",
       "count   478.000000        481.000000         481.000000  481.000000\n",
       "mean     46.853556         54.713098          37.887734   43.505198\n",
       "std      30.774957         33.097848          26.592211   28.034437\n",
       "min       0.000000          0.000000           0.000000    1.000000\n",
       "25%      16.000000         20.000000          14.000000   20.000000\n",
       "50%      50.000000         65.000000          33.000000   39.000000\n",
       "75%      75.000000         84.000000          58.000000   70.000000\n",
       "max     100.000000         99.000000          98.000000  150.000000"
      ]
     },
     "execution_count": 7,
     "metadata": {},
     "output_type": "execute_result"
    }
   ],
   "source": [
    "data.describe()"
   ]
  },
  {
   "cell_type": "markdown",
   "metadata": {},
   "source": []
  },
  {
   "cell_type": "code",
   "execution_count": 13,
   "metadata": {},
   "outputs": [
    {
     "name": "stdout",
     "output_type": "stream",
     "text": [
      "gender\n",
      "['M' 'F']\n",
      "\n",
      "NationalITy\n",
      "['KW' 'lebanon' 'Egypt' 'SaudiArabia' 'USA' 'Jordan' 'venzuela' 'Iran'\n",
      " 'Tunis' 'Morocco' 'Syria' 'Palestine' 'Iraq' 'Lybia']\n",
      "\n",
      "PlaceofBirth\n",
      "['KuwaIT' 'lebanon' 'Egypt' 'SaudiArabia' 'USA' 'Jordan' 'venzuela' 'Iran'\n",
      " 'Tunis' 'Morocco' 'Syria' 'Iraq' 'Palestine' 'Lybia']\n",
      "\n",
      "StageID\n",
      "['lowerlevel' 'MiddleSchool' 'HighSchool']\n",
      "\n",
      "GradeID\n",
      "['G-04' 'G-07' 'G-08' 'G-06' 'G-05' 'G-09' 'G-12' 'G-11' 'G-10' 'G-02']\n",
      "\n",
      "SectionID\n",
      "['A' 'B' 'C']\n",
      "\n",
      "Topic\n",
      "['IT' 'Math' nan 'Arabic' 'Science' 'English' 'Quran' 'Spanish' 'French'\n",
      " 'History' 'Biology' 'Chemistry' 'Geology']\n",
      "\n",
      "Semester\n",
      "['F' 'S']\n",
      "\n",
      "Relation\n",
      "['Father' 'Mum']\n",
      "\n",
      "ParentAnsweringSurvey\n",
      "['Yes' 'No']\n",
      "\n",
      "ParentschoolSatisfaction\n",
      "['Good' 'Bad']\n",
      "\n",
      "StudentAbsenceDays\n",
      "['Under-7' 'Above-7']\n",
      "\n",
      "Class\n",
      "['M' 'L' 'H']\n",
      "\n"
     ]
    }
   ],
   "source": [
    "# checking if categorical variables are correct or not else replacing with np.nan\n",
    "# saving categories for later use/ one hot encoding\n",
    "cat_dict = {}\n",
    "cat_cols = data.select_dtypes(include=[\"O\"]).columns.tolist()\n",
    "for col in cat_cols:\n",
    "    print(col)\n",
    "    cat_dict[col] = data[col].unique().tolist()\n",
    "    print(data[col].unique())\n",
    "    print()"
   ]
  },
  {
   "cell_type": "markdown",
   "metadata": {},
   "source": [
    "### According to basic analysis the data looks correct"
   ]
  },
  {
   "cell_type": "markdown",
   "metadata": {},
   "source": [
    "### Extra similar functions"
   ]
  },
  {
   "cell_type": "code",
   "execution_count": 15,
   "metadata": {},
   "outputs": [
    {
     "data": {
      "text/html": [
       "<div>\n",
       "<style scoped>\n",
       "    .dataframe tbody tr th:only-of-type {\n",
       "        vertical-align: middle;\n",
       "    }\n",
       "\n",
       "    .dataframe tbody tr th {\n",
       "        vertical-align: top;\n",
       "    }\n",
       "\n",
       "    .dataframe thead th {\n",
       "        text-align: right;\n",
       "    }\n",
       "</style>\n",
       "<table border=\"1\" class=\"dataframe\">\n",
       "  <thead>\n",
       "    <tr style=\"text-align: right;\">\n",
       "      <th></th>\n",
       "      <th>count</th>\n",
       "      <th>unique</th>\n",
       "      <th>top</th>\n",
       "      <th>freq</th>\n",
       "      <th>mean</th>\n",
       "      <th>std</th>\n",
       "      <th>min</th>\n",
       "      <th>25%</th>\n",
       "      <th>50%</th>\n",
       "      <th>75%</th>\n",
       "      <th>max</th>\n",
       "    </tr>\n",
       "  </thead>\n",
       "  <tbody>\n",
       "    <tr>\n",
       "      <th>gender</th>\n",
       "      <td>481</td>\n",
       "      <td>2</td>\n",
       "      <td>M</td>\n",
       "      <td>306</td>\n",
       "      <td>NaN</td>\n",
       "      <td>NaN</td>\n",
       "      <td>NaN</td>\n",
       "      <td>NaN</td>\n",
       "      <td>NaN</td>\n",
       "      <td>NaN</td>\n",
       "      <td>NaN</td>\n",
       "    </tr>\n",
       "    <tr>\n",
       "      <th>raisedhands</th>\n",
       "      <td>478.0</td>\n",
       "      <td>NaN</td>\n",
       "      <td>NaN</td>\n",
       "      <td>NaN</td>\n",
       "      <td>46.853556</td>\n",
       "      <td>30.774957</td>\n",
       "      <td>0.0</td>\n",
       "      <td>16.0</td>\n",
       "      <td>50.0</td>\n",
       "      <td>75.0</td>\n",
       "      <td>100.0</td>\n",
       "    </tr>\n",
       "  </tbody>\n",
       "</table>\n",
       "</div>"
      ],
      "text/plain": [
       "             count unique  top freq       mean        std  min   25%   50%  \\\n",
       "gender         481      2    M  306        NaN        NaN  NaN   NaN   NaN   \n",
       "raisedhands  478.0    NaN  NaN  NaN  46.853556  30.774957  0.0  16.0  50.0   \n",
       "\n",
       "              75%    max  \n",
       "gender        NaN    NaN  \n",
       "raisedhands  75.0  100.0  "
      ]
     },
     "execution_count": 15,
     "metadata": {},
     "output_type": "execute_result"
    }
   ],
   "source": [
    "# 1. if we only need to showcase few columns only\n",
    "data[['gender','raisedhands']].describe(include='all').T"
   ]
  },
  {
   "cell_type": "code",
   "execution_count": 16,
   "metadata": {},
   "outputs": [
    {
     "data": {
      "text/plain": [
       "['gender',\n",
       " 'NationalITy',\n",
       " 'PlaceofBirth',\n",
       " 'StageID',\n",
       " 'GradeID',\n",
       " 'SectionID',\n",
       " 'Topic',\n",
       " 'Semester',\n",
       " 'Relation',\n",
       " 'ParentAnsweringSurvey',\n",
       " 'ParentschoolSatisfaction',\n",
       " 'StudentAbsenceDays',\n",
       " 'Class']"
      ]
     },
     "execution_count": 16,
     "metadata": {},
     "output_type": "execute_result"
    }
   ],
   "source": [
    "# 2. if you want to select only the categorical columns, use the select_dtypes function\n",
    "cat_cols = data.select_dtypes(include=[\"object\", \"category\"]).columns.tolist()\n",
    "cat_cols"
   ]
  },
  {
   "cell_type": "code",
   "execution_count": 17,
   "metadata": {},
   "outputs": [
    {
     "data": {
      "text/plain": [
       "['raisedhands', 'VisITedResources', 'AnnouncementsView', 'Discussion']"
      ]
     },
     "execution_count": 17,
     "metadata": {},
     "output_type": "execute_result"
    }
   ],
   "source": [
    "# 3. to select numerical columns only\n",
    "num_cols = data.select_dtypes(include=[\"number\"]).columns.tolist()\n",
    "num_cols "
   ]
  },
  {
   "cell_type": "markdown",
   "metadata": {},
   "source": [
    "## 2. Check column names\n",
    "\n",
    "it is always better to deal with column names without spaces"
   ]
  },
  {
   "cell_type": "code",
   "execution_count": 18,
   "metadata": {},
   "outputs": [
    {
     "data": {
      "text/plain": [
       "Index(['gender', 'NationalITy', 'PlaceofBirth', 'StageID', 'GradeID',\n",
       "       'SectionID', 'Topic', 'Semester', 'Relation', 'raisedhands',\n",
       "       'VisITedResources', 'AnnouncementsView', 'Discussion',\n",
       "       'ParentAnsweringSurvey', 'ParentschoolSatisfaction',\n",
       "       'StudentAbsenceDays', 'Class'],\n",
       "      dtype='object')"
      ]
     },
     "execution_count": 18,
     "metadata": {},
     "output_type": "execute_result"
    }
   ],
   "source": [
    "data.columns"
   ]
  },
  {
   "cell_type": "code",
   "execution_count": 19,
   "metadata": {},
   "outputs": [],
   "source": [
    "# this is inplace, the column names will get changed\n",
    "data.columns =[col.replace(' ','_') for col in data.columns]"
   ]
  },
  {
   "cell_type": "code",
   "execution_count": 20,
   "metadata": {},
   "outputs": [
    {
     "data": {
      "text/html": [
       "<div>\n",
       "<style scoped>\n",
       "    .dataframe tbody tr th:only-of-type {\n",
       "        vertical-align: middle;\n",
       "    }\n",
       "\n",
       "    .dataframe tbody tr th {\n",
       "        vertical-align: top;\n",
       "    }\n",
       "\n",
       "    .dataframe thead th {\n",
       "        text-align: right;\n",
       "    }\n",
       "</style>\n",
       "<table border=\"1\" class=\"dataframe\">\n",
       "  <thead>\n",
       "    <tr style=\"text-align: right;\">\n",
       "      <th></th>\n",
       "      <th>gender</th>\n",
       "      <th>NationalITy</th>\n",
       "      <th>PlaceofBirth</th>\n",
       "      <th>StageID</th>\n",
       "      <th>GradeID</th>\n",
       "      <th>SectionID</th>\n",
       "      <th>Topic</th>\n",
       "      <th>Semester</th>\n",
       "      <th>Relation</th>\n",
       "      <th>raisedhands</th>\n",
       "      <th>VisITedResources</th>\n",
       "      <th>AnnouncementsView</th>\n",
       "      <th>Discussion</th>\n",
       "      <th>ParentAnsweringSurvey</th>\n",
       "      <th>ParentschoolSatisfaction</th>\n",
       "      <th>StudentAbsenceDays</th>\n",
       "      <th>Class</th>\n",
       "    </tr>\n",
       "  </thead>\n",
       "  <tbody>\n",
       "    <tr>\n",
       "      <th>0</th>\n",
       "      <td>M</td>\n",
       "      <td>KW</td>\n",
       "      <td>KuwaIT</td>\n",
       "      <td>lowerlevel</td>\n",
       "      <td>G-04</td>\n",
       "      <td>A</td>\n",
       "      <td>IT</td>\n",
       "      <td>F</td>\n",
       "      <td>Father</td>\n",
       "      <td>15.0</td>\n",
       "      <td>16</td>\n",
       "      <td>2</td>\n",
       "      <td>20</td>\n",
       "      <td>Yes</td>\n",
       "      <td>Good</td>\n",
       "      <td>Under-7</td>\n",
       "      <td>M</td>\n",
       "    </tr>\n",
       "    <tr>\n",
       "      <th>1</th>\n",
       "      <td>M</td>\n",
       "      <td>KW</td>\n",
       "      <td>KuwaIT</td>\n",
       "      <td>lowerlevel</td>\n",
       "      <td>G-04</td>\n",
       "      <td>A</td>\n",
       "      <td>IT</td>\n",
       "      <td>F</td>\n",
       "      <td>Father</td>\n",
       "      <td>20.0</td>\n",
       "      <td>20</td>\n",
       "      <td>3</td>\n",
       "      <td>25</td>\n",
       "      <td>Yes</td>\n",
       "      <td>Good</td>\n",
       "      <td>Under-7</td>\n",
       "      <td>M</td>\n",
       "    </tr>\n",
       "    <tr>\n",
       "      <th>2</th>\n",
       "      <td>M</td>\n",
       "      <td>KW</td>\n",
       "      <td>KuwaIT</td>\n",
       "      <td>lowerlevel</td>\n",
       "      <td>G-04</td>\n",
       "      <td>A</td>\n",
       "      <td>IT</td>\n",
       "      <td>F</td>\n",
       "      <td>Father</td>\n",
       "      <td>10.0</td>\n",
       "      <td>7</td>\n",
       "      <td>0</td>\n",
       "      <td>30</td>\n",
       "      <td>No</td>\n",
       "      <td>Bad</td>\n",
       "      <td>Above-7</td>\n",
       "      <td>L</td>\n",
       "    </tr>\n",
       "    <tr>\n",
       "      <th>3</th>\n",
       "      <td>M</td>\n",
       "      <td>KW</td>\n",
       "      <td>KuwaIT</td>\n",
       "      <td>lowerlevel</td>\n",
       "      <td>G-04</td>\n",
       "      <td>A</td>\n",
       "      <td>IT</td>\n",
       "      <td>F</td>\n",
       "      <td>Father</td>\n",
       "      <td>30.0</td>\n",
       "      <td>25</td>\n",
       "      <td>5</td>\n",
       "      <td>35</td>\n",
       "      <td>No</td>\n",
       "      <td>Bad</td>\n",
       "      <td>Above-7</td>\n",
       "      <td>L</td>\n",
       "    </tr>\n",
       "    <tr>\n",
       "      <th>4</th>\n",
       "      <td>M</td>\n",
       "      <td>KW</td>\n",
       "      <td>KuwaIT</td>\n",
       "      <td>lowerlevel</td>\n",
       "      <td>G-04</td>\n",
       "      <td>A</td>\n",
       "      <td>IT</td>\n",
       "      <td>F</td>\n",
       "      <td>Father</td>\n",
       "      <td>40.0</td>\n",
       "      <td>50</td>\n",
       "      <td>12</td>\n",
       "      <td>50</td>\n",
       "      <td>No</td>\n",
       "      <td>Bad</td>\n",
       "      <td>Above-7</td>\n",
       "      <td>M</td>\n",
       "    </tr>\n",
       "  </tbody>\n",
       "</table>\n",
       "</div>"
      ],
      "text/plain": [
       "  gender NationalITy PlaceofBirth     StageID GradeID SectionID Topic  \\\n",
       "0      M          KW       KuwaIT  lowerlevel    G-04         A    IT   \n",
       "1      M          KW       KuwaIT  lowerlevel    G-04         A    IT   \n",
       "2      M          KW       KuwaIT  lowerlevel    G-04         A    IT   \n",
       "3      M          KW       KuwaIT  lowerlevel    G-04         A    IT   \n",
       "4      M          KW       KuwaIT  lowerlevel    G-04         A    IT   \n",
       "\n",
       "  Semester Relation  raisedhands  VisITedResources  AnnouncementsView  \\\n",
       "0        F   Father         15.0                16                  2   \n",
       "1        F   Father         20.0                20                  3   \n",
       "2        F   Father         10.0                 7                  0   \n",
       "3        F   Father         30.0                25                  5   \n",
       "4        F   Father         40.0                50                 12   \n",
       "\n",
       "   Discussion ParentAnsweringSurvey ParentschoolSatisfaction  \\\n",
       "0          20                   Yes                     Good   \n",
       "1          25                   Yes                     Good   \n",
       "2          30                    No                      Bad   \n",
       "3          35                    No                      Bad   \n",
       "4          50                    No                      Bad   \n",
       "\n",
       "  StudentAbsenceDays Class  \n",
       "0            Under-7     M  \n",
       "1            Under-7     M  \n",
       "2            Above-7     L  \n",
       "3            Above-7     L  \n",
       "4            Above-7     M  "
      ]
     },
     "execution_count": 20,
     "metadata": {},
     "output_type": "execute_result"
    }
   ],
   "source": [
    "data.head()"
   ]
  },
  {
   "cell_type": "code",
   "execution_count": null,
   "metadata": {},
   "outputs": [],
   "source": []
  },
  {
   "cell_type": "code",
   "execution_count": null,
   "metadata": {},
   "outputs": [],
   "source": []
  },
  {
   "cell_type": "code",
   "execution_count": null,
   "metadata": {},
   "outputs": [],
   "source": []
  },
  {
   "cell_type": "code",
   "execution_count": null,
   "metadata": {},
   "outputs": [],
   "source": []
  },
  {
   "cell_type": "code",
   "execution_count": null,
   "metadata": {},
   "outputs": [],
   "source": []
  },
  {
   "cell_type": "code",
   "execution_count": null,
   "metadata": {},
   "outputs": [],
   "source": []
  },
  {
   "cell_type": "markdown",
   "metadata": {},
   "source": [
    "## 3. Divide dataset in train and test\n",
    "\n",
    "We will be only working with the train dataset, the test dataset will be unknokn till the end, the same senerio which we get in real life\n",
    "\n",
    "Although the problem - \n",
    "1. what if few categories are missed in test dataset, we will be having no one hot encoding for new category, how to tackle that\n",
    "\n",
    "Possible Solutions - \n",
    "1. when making one hot encoding for categorical variable use both train,test (all information available)\n",
    "2. When new category arrives retraining of model"
   ]
  },
  {
   "cell_type": "code",
   "execution_count": 21,
   "metadata": {},
   "outputs": [],
   "source": [
    "# random state help to reproduce the same results and stratified split takes care of dividing the data into the same proportion of each class in train and test\n",
    "train, test = train_test_split(data, test_size=0.2, shuffle= True, random_state=0, stratify=data['Class'])"
   ]
  },
  {
   "cell_type": "code",
   "execution_count": 22,
   "metadata": {},
   "outputs": [],
   "source": [
    "# train = train.reset_index(drop=True)\n",
    "# test = test.reset_index(drop=True)"
   ]
  },
  {
   "cell_type": "code",
   "execution_count": 23,
   "metadata": {},
   "outputs": [
    {
     "data": {
      "text/html": [
       "<div>\n",
       "<style scoped>\n",
       "    .dataframe tbody tr th:only-of-type {\n",
       "        vertical-align: middle;\n",
       "    }\n",
       "\n",
       "    .dataframe tbody tr th {\n",
       "        vertical-align: top;\n",
       "    }\n",
       "\n",
       "    .dataframe thead th {\n",
       "        text-align: right;\n",
       "    }\n",
       "</style>\n",
       "<table border=\"1\" class=\"dataframe\">\n",
       "  <thead>\n",
       "    <tr style=\"text-align: right;\">\n",
       "      <th></th>\n",
       "      <th>count</th>\n",
       "      <th>unique</th>\n",
       "      <th>top</th>\n",
       "      <th>freq</th>\n",
       "      <th>mean</th>\n",
       "      <th>std</th>\n",
       "      <th>min</th>\n",
       "      <th>25%</th>\n",
       "      <th>50%</th>\n",
       "      <th>75%</th>\n",
       "      <th>max</th>\n",
       "    </tr>\n",
       "  </thead>\n",
       "  <tbody>\n",
       "    <tr>\n",
       "      <th>gender</th>\n",
       "      <td>384</td>\n",
       "      <td>2</td>\n",
       "      <td>M</td>\n",
       "      <td>244</td>\n",
       "      <td>NaN</td>\n",
       "      <td>NaN</td>\n",
       "      <td>NaN</td>\n",
       "      <td>NaN</td>\n",
       "      <td>NaN</td>\n",
       "      <td>NaN</td>\n",
       "      <td>NaN</td>\n",
       "    </tr>\n",
       "    <tr>\n",
       "      <th>NationalITy</th>\n",
       "      <td>384</td>\n",
       "      <td>14</td>\n",
       "      <td>KW</td>\n",
       "      <td>145</td>\n",
       "      <td>NaN</td>\n",
       "      <td>NaN</td>\n",
       "      <td>NaN</td>\n",
       "      <td>NaN</td>\n",
       "      <td>NaN</td>\n",
       "      <td>NaN</td>\n",
       "      <td>NaN</td>\n",
       "    </tr>\n",
       "    <tr>\n",
       "      <th>PlaceofBirth</th>\n",
       "      <td>384</td>\n",
       "      <td>14</td>\n",
       "      <td>KuwaIT</td>\n",
       "      <td>145</td>\n",
       "      <td>NaN</td>\n",
       "      <td>NaN</td>\n",
       "      <td>NaN</td>\n",
       "      <td>NaN</td>\n",
       "      <td>NaN</td>\n",
       "      <td>NaN</td>\n",
       "      <td>NaN</td>\n",
       "    </tr>\n",
       "    <tr>\n",
       "      <th>StageID</th>\n",
       "      <td>384</td>\n",
       "      <td>3</td>\n",
       "      <td>MiddleSchool</td>\n",
       "      <td>203</td>\n",
       "      <td>NaN</td>\n",
       "      <td>NaN</td>\n",
       "      <td>NaN</td>\n",
       "      <td>NaN</td>\n",
       "      <td>NaN</td>\n",
       "      <td>NaN</td>\n",
       "      <td>NaN</td>\n",
       "    </tr>\n",
       "    <tr>\n",
       "      <th>GradeID</th>\n",
       "      <td>384</td>\n",
       "      <td>10</td>\n",
       "      <td>G-02</td>\n",
       "      <td>113</td>\n",
       "      <td>NaN</td>\n",
       "      <td>NaN</td>\n",
       "      <td>NaN</td>\n",
       "      <td>NaN</td>\n",
       "      <td>NaN</td>\n",
       "      <td>NaN</td>\n",
       "      <td>NaN</td>\n",
       "    </tr>\n",
       "    <tr>\n",
       "      <th>SectionID</th>\n",
       "      <td>384</td>\n",
       "      <td>3</td>\n",
       "      <td>A</td>\n",
       "      <td>229</td>\n",
       "      <td>NaN</td>\n",
       "      <td>NaN</td>\n",
       "      <td>NaN</td>\n",
       "      <td>NaN</td>\n",
       "      <td>NaN</td>\n",
       "      <td>NaN</td>\n",
       "      <td>NaN</td>\n",
       "    </tr>\n",
       "    <tr>\n",
       "      <th>Topic</th>\n",
       "      <td>382</td>\n",
       "      <td>12</td>\n",
       "      <td>IT</td>\n",
       "      <td>77</td>\n",
       "      <td>NaN</td>\n",
       "      <td>NaN</td>\n",
       "      <td>NaN</td>\n",
       "      <td>NaN</td>\n",
       "      <td>NaN</td>\n",
       "      <td>NaN</td>\n",
       "      <td>NaN</td>\n",
       "    </tr>\n",
       "    <tr>\n",
       "      <th>Semester</th>\n",
       "      <td>384</td>\n",
       "      <td>2</td>\n",
       "      <td>F</td>\n",
       "      <td>199</td>\n",
       "      <td>NaN</td>\n",
       "      <td>NaN</td>\n",
       "      <td>NaN</td>\n",
       "      <td>NaN</td>\n",
       "      <td>NaN</td>\n",
       "      <td>NaN</td>\n",
       "      <td>NaN</td>\n",
       "    </tr>\n",
       "    <tr>\n",
       "      <th>Relation</th>\n",
       "      <td>384</td>\n",
       "      <td>2</td>\n",
       "      <td>Father</td>\n",
       "      <td>226</td>\n",
       "      <td>NaN</td>\n",
       "      <td>NaN</td>\n",
       "      <td>NaN</td>\n",
       "      <td>NaN</td>\n",
       "      <td>NaN</td>\n",
       "      <td>NaN</td>\n",
       "      <td>NaN</td>\n",
       "    </tr>\n",
       "    <tr>\n",
       "      <th>raisedhands</th>\n",
       "      <td>381.0</td>\n",
       "      <td>NaN</td>\n",
       "      <td>NaN</td>\n",
       "      <td>NaN</td>\n",
       "      <td>47.141732</td>\n",
       "      <td>31.103661</td>\n",
       "      <td>0.0</td>\n",
       "      <td>15.0</td>\n",
       "      <td>50.0</td>\n",
       "      <td>77.0</td>\n",
       "      <td>100.0</td>\n",
       "    </tr>\n",
       "    <tr>\n",
       "      <th>VisITedResources</th>\n",
       "      <td>384.0</td>\n",
       "      <td>NaN</td>\n",
       "      <td>NaN</td>\n",
       "      <td>NaN</td>\n",
       "      <td>55.302083</td>\n",
       "      <td>33.160932</td>\n",
       "      <td>0.0</td>\n",
       "      <td>20.0</td>\n",
       "      <td>70.0</td>\n",
       "      <td>84.25</td>\n",
       "      <td>99.0</td>\n",
       "    </tr>\n",
       "    <tr>\n",
       "      <th>AnnouncementsView</th>\n",
       "      <td>384.0</td>\n",
       "      <td>NaN</td>\n",
       "      <td>NaN</td>\n",
       "      <td>NaN</td>\n",
       "      <td>37.986979</td>\n",
       "      <td>26.734696</td>\n",
       "      <td>0.0</td>\n",
       "      <td>14.0</td>\n",
       "      <td>33.0</td>\n",
       "      <td>58.0</td>\n",
       "      <td>98.0</td>\n",
       "    </tr>\n",
       "    <tr>\n",
       "      <th>Discussion</th>\n",
       "      <td>384.0</td>\n",
       "      <td>NaN</td>\n",
       "      <td>NaN</td>\n",
       "      <td>NaN</td>\n",
       "      <td>44.986979</td>\n",
       "      <td>27.904768</td>\n",
       "      <td>1.0</td>\n",
       "      <td>21.0</td>\n",
       "      <td>40.0</td>\n",
       "      <td>70.0</td>\n",
       "      <td>150.0</td>\n",
       "    </tr>\n",
       "    <tr>\n",
       "      <th>ParentAnsweringSurvey</th>\n",
       "      <td>384</td>\n",
       "      <td>2</td>\n",
       "      <td>Yes</td>\n",
       "      <td>221</td>\n",
       "      <td>NaN</td>\n",
       "      <td>NaN</td>\n",
       "      <td>NaN</td>\n",
       "      <td>NaN</td>\n",
       "      <td>NaN</td>\n",
       "      <td>NaN</td>\n",
       "      <td>NaN</td>\n",
       "    </tr>\n",
       "    <tr>\n",
       "      <th>ParentschoolSatisfaction</th>\n",
       "      <td>384</td>\n",
       "      <td>2</td>\n",
       "      <td>Good</td>\n",
       "      <td>233</td>\n",
       "      <td>NaN</td>\n",
       "      <td>NaN</td>\n",
       "      <td>NaN</td>\n",
       "      <td>NaN</td>\n",
       "      <td>NaN</td>\n",
       "      <td>NaN</td>\n",
       "      <td>NaN</td>\n",
       "    </tr>\n",
       "    <tr>\n",
       "      <th>StudentAbsenceDays</th>\n",
       "      <td>384</td>\n",
       "      <td>2</td>\n",
       "      <td>Under-7</td>\n",
       "      <td>231</td>\n",
       "      <td>NaN</td>\n",
       "      <td>NaN</td>\n",
       "      <td>NaN</td>\n",
       "      <td>NaN</td>\n",
       "      <td>NaN</td>\n",
       "      <td>NaN</td>\n",
       "      <td>NaN</td>\n",
       "    </tr>\n",
       "    <tr>\n",
       "      <th>Class</th>\n",
       "      <td>384</td>\n",
       "      <td>3</td>\n",
       "      <td>M</td>\n",
       "      <td>169</td>\n",
       "      <td>NaN</td>\n",
       "      <td>NaN</td>\n",
       "      <td>NaN</td>\n",
       "      <td>NaN</td>\n",
       "      <td>NaN</td>\n",
       "      <td>NaN</td>\n",
       "      <td>NaN</td>\n",
       "    </tr>\n",
       "  </tbody>\n",
       "</table>\n",
       "</div>"
      ],
      "text/plain": [
       "                          count unique           top freq       mean  \\\n",
       "gender                      384      2             M  244        NaN   \n",
       "NationalITy                 384     14            KW  145        NaN   \n",
       "PlaceofBirth                384     14        KuwaIT  145        NaN   \n",
       "StageID                     384      3  MiddleSchool  203        NaN   \n",
       "GradeID                     384     10          G-02  113        NaN   \n",
       "SectionID                   384      3             A  229        NaN   \n",
       "Topic                       382     12            IT   77        NaN   \n",
       "Semester                    384      2             F  199        NaN   \n",
       "Relation                    384      2        Father  226        NaN   \n",
       "raisedhands               381.0    NaN           NaN  NaN  47.141732   \n",
       "VisITedResources          384.0    NaN           NaN  NaN  55.302083   \n",
       "AnnouncementsView         384.0    NaN           NaN  NaN  37.986979   \n",
       "Discussion                384.0    NaN           NaN  NaN  44.986979   \n",
       "ParentAnsweringSurvey       384      2           Yes  221        NaN   \n",
       "ParentschoolSatisfaction    384      2          Good  233        NaN   \n",
       "StudentAbsenceDays          384      2       Under-7  231        NaN   \n",
       "Class                       384      3             M  169        NaN   \n",
       "\n",
       "                                std  min   25%   50%    75%    max  \n",
       "gender                          NaN  NaN   NaN   NaN    NaN    NaN  \n",
       "NationalITy                     NaN  NaN   NaN   NaN    NaN    NaN  \n",
       "PlaceofBirth                    NaN  NaN   NaN   NaN    NaN    NaN  \n",
       "StageID                         NaN  NaN   NaN   NaN    NaN    NaN  \n",
       "GradeID                         NaN  NaN   NaN   NaN    NaN    NaN  \n",
       "SectionID                       NaN  NaN   NaN   NaN    NaN    NaN  \n",
       "Topic                           NaN  NaN   NaN   NaN    NaN    NaN  \n",
       "Semester                        NaN  NaN   NaN   NaN    NaN    NaN  \n",
       "Relation                        NaN  NaN   NaN   NaN    NaN    NaN  \n",
       "raisedhands               31.103661  0.0  15.0  50.0   77.0  100.0  \n",
       "VisITedResources          33.160932  0.0  20.0  70.0  84.25   99.0  \n",
       "AnnouncementsView         26.734696  0.0  14.0  33.0   58.0   98.0  \n",
       "Discussion                27.904768  1.0  21.0  40.0   70.0  150.0  \n",
       "ParentAnsweringSurvey           NaN  NaN   NaN   NaN    NaN    NaN  \n",
       "ParentschoolSatisfaction        NaN  NaN   NaN   NaN    NaN    NaN  \n",
       "StudentAbsenceDays              NaN  NaN   NaN   NaN    NaN    NaN  \n",
       "Class                           NaN  NaN   NaN   NaN    NaN    NaN  "
      ]
     },
     "execution_count": 23,
     "metadata": {},
     "output_type": "execute_result"
    }
   ],
   "source": [
    "train.describe(include='all').T"
   ]
  },
  {
   "cell_type": "code",
   "execution_count": 24,
   "metadata": {},
   "outputs": [],
   "source": [
    "# divide in xtrain,xtest, ytrain,ytest, ytrain and ytest we will directly use at the end, from here we will only deal with x_train,x_test  \n",
    "# data[data.columns.drop('Class')]\n",
    "# data.loc[:, data.columns.drop('Class')]\n",
    "# data[[i for i in list(data.columns) if i not in ['Class']]]\n",
    "# x_train = train[train.columns[~train.columns.isin(['Class'])]]\n",
    "# x_test  = test[test.columns[~test.columns.isin(['Class'])]]\n",
    "# y_train = train['Class']\n",
    "# y_test = test['Class']"
   ]
  },
  {
   "cell_type": "code",
   "execution_count": 25,
   "metadata": {},
   "outputs": [
    {
     "ename": "TypeError",
     "evalue": "data type 'Category' not understood",
     "output_type": "error",
     "traceback": [
      "\u001b[0;31m---------------------------------------------------------------------------\u001b[0m",
      "\u001b[0;31mTypeError\u001b[0m                                 Traceback (most recent call last)",
      "\u001b[1;32m/home/himanshu/ML_LAB/ML.ipynb Cell 33'\u001b[0m in \u001b[0;36m<cell line: 1>\u001b[0;34m()\u001b[0m\n\u001b[0;32m----> <a href='vscode-notebook-cell:/home/himanshu/ML_LAB/ML.ipynb#ch0000033?line=0'>1</a>\u001b[0m num_cols \u001b[39m=\u001b[39m train\u001b[39m.\u001b[39;49mselect_dtypes(include\u001b[39m=\u001b[39;49m[\u001b[39m\"\u001b[39;49m\u001b[39mCategory\u001b[39;49m\u001b[39m\"\u001b[39;49m])\u001b[39m.\u001b[39mcolumns\u001b[39m.\u001b[39mtolist()\n\u001b[1;32m      <a href='vscode-notebook-cell:/home/himanshu/ML_LAB/ML.ipynb#ch0000033?line=1'>2</a>\u001b[0m num_cols\n",
      "File \u001b[0;32m~/anaconda3/envs/ml/lib/python3.9/site-packages/pandas/core/frame.py:4351\u001b[0m, in \u001b[0;36mDataFrame.select_dtypes\u001b[0;34m(self, include, exclude)\u001b[0m\n\u001b[1;32m   <a href='file:///home/himanshu/anaconda3/envs/ml/lib/python3.9/site-packages/pandas/core/frame.py?line=4347'>4348</a>\u001b[0m             converted_dtypes\u001b[39m.\u001b[39mappend(infer_dtype_from_object(dtype))\n\u001b[1;32m   <a href='file:///home/himanshu/anaconda3/envs/ml/lib/python3.9/site-packages/pandas/core/frame.py?line=4348'>4349</a>\u001b[0m     \u001b[39mreturn\u001b[39;00m \u001b[39mfrozenset\u001b[39m(converted_dtypes)\n\u001b[0;32m-> <a href='file:///home/himanshu/anaconda3/envs/ml/lib/python3.9/site-packages/pandas/core/frame.py?line=4350'>4351</a>\u001b[0m include \u001b[39m=\u001b[39m check_int_infer_dtype(include)\n\u001b[1;32m   <a href='file:///home/himanshu/anaconda3/envs/ml/lib/python3.9/site-packages/pandas/core/frame.py?line=4351'>4352</a>\u001b[0m exclude \u001b[39m=\u001b[39m check_int_infer_dtype(exclude)\n\u001b[1;32m   <a href='file:///home/himanshu/anaconda3/envs/ml/lib/python3.9/site-packages/pandas/core/frame.py?line=4353'>4354</a>\u001b[0m \u001b[39mfor\u001b[39;00m dtypes \u001b[39min\u001b[39;00m (include, exclude):\n",
      "File \u001b[0;32m~/anaconda3/envs/ml/lib/python3.9/site-packages/pandas/core/frame.py:4348\u001b[0m, in \u001b[0;36mDataFrame.select_dtypes.<locals>.check_int_infer_dtype\u001b[0;34m(dtypes)\u001b[0m\n\u001b[1;32m   <a href='file:///home/himanshu/anaconda3/envs/ml/lib/python3.9/site-packages/pandas/core/frame.py?line=4345'>4346</a>\u001b[0m         converted_dtypes\u001b[39m.\u001b[39mextend([np\u001b[39m.\u001b[39mfloat64, np\u001b[39m.\u001b[39mfloat32])\n\u001b[1;32m   <a href='file:///home/himanshu/anaconda3/envs/ml/lib/python3.9/site-packages/pandas/core/frame.py?line=4346'>4347</a>\u001b[0m     \u001b[39melse\u001b[39;00m:\n\u001b[0;32m-> <a href='file:///home/himanshu/anaconda3/envs/ml/lib/python3.9/site-packages/pandas/core/frame.py?line=4347'>4348</a>\u001b[0m         converted_dtypes\u001b[39m.\u001b[39mappend(infer_dtype_from_object(dtype))\n\u001b[1;32m   <a href='file:///home/himanshu/anaconda3/envs/ml/lib/python3.9/site-packages/pandas/core/frame.py?line=4348'>4349</a>\u001b[0m \u001b[39mreturn\u001b[39;00m \u001b[39mfrozenset\u001b[39m(converted_dtypes)\n",
      "File \u001b[0;32m~/anaconda3/envs/ml/lib/python3.9/site-packages/pandas/core/dtypes/common.py:1692\u001b[0m, in \u001b[0;36minfer_dtype_from_object\u001b[0;34m(dtype)\u001b[0m\n\u001b[1;32m   <a href='file:///home/himanshu/anaconda3/envs/ml/lib/python3.9/site-packages/pandas/core/dtypes/common.py?line=1682'>1683</a>\u001b[0m     \u001b[39mexcept\u001b[39;00m (\u001b[39mAttributeError\u001b[39;00m, \u001b[39mTypeError\u001b[39;00m):\n\u001b[1;32m   <a href='file:///home/himanshu/anaconda3/envs/ml/lib/python3.9/site-packages/pandas/core/dtypes/common.py?line=1683'>1684</a>\u001b[0m         \u001b[39m# Handles cases like get_dtype(int) i.e.,\u001b[39;00m\n\u001b[1;32m   <a href='file:///home/himanshu/anaconda3/envs/ml/lib/python3.9/site-packages/pandas/core/dtypes/common.py?line=1684'>1685</a>\u001b[0m         \u001b[39m# Python objects that are valid dtypes\u001b[39;00m\n\u001b[0;32m   (...)\u001b[0m\n\u001b[1;32m   <a href='file:///home/himanshu/anaconda3/envs/ml/lib/python3.9/site-packages/pandas/core/dtypes/common.py?line=1687'>1688</a>\u001b[0m         \u001b[39m# TypeError handles the float16 type code of 'e'\u001b[39;00m\n\u001b[1;32m   <a href='file:///home/himanshu/anaconda3/envs/ml/lib/python3.9/site-packages/pandas/core/dtypes/common.py?line=1688'>1689</a>\u001b[0m         \u001b[39m# further handle internal types\u001b[39;00m\n\u001b[1;32m   <a href='file:///home/himanshu/anaconda3/envs/ml/lib/python3.9/site-packages/pandas/core/dtypes/common.py?line=1689'>1690</a>\u001b[0m         \u001b[39mpass\u001b[39;00m\n\u001b[0;32m-> <a href='file:///home/himanshu/anaconda3/envs/ml/lib/python3.9/site-packages/pandas/core/dtypes/common.py?line=1691'>1692</a>\u001b[0m \u001b[39mreturn\u001b[39;00m infer_dtype_from_object(np\u001b[39m.\u001b[39;49mdtype(dtype))\n",
      "\u001b[0;31mTypeError\u001b[0m: data type 'Category' not understood"
     ]
    }
   ],
   "source": [
    "num_cols = train.select_dtypes(include=[\"Category\"]).columns.tolist()\n",
    "num_cols "
   ]
  },
  {
   "cell_type": "code",
   "execution_count": null,
   "metadata": {},
   "outputs": [],
   "source": []
  },
  {
   "cell_type": "code",
   "execution_count": null,
   "metadata": {},
   "outputs": [],
   "source": []
  },
  {
   "cell_type": "markdown",
   "metadata": {},
   "source": [
    "## 4. check for missing values"
   ]
  },
  {
   "cell_type": "code",
   "execution_count": null,
   "metadata": {},
   "outputs": [
    {
     "data": {
      "text/plain": [
       "False"
      ]
     },
     "execution_count": 20,
     "metadata": {},
     "output_type": "execute_result"
    }
   ],
   "source": [
    "# a basic first step is to check if any data is missing in y_train, because if some lable in not there in y_train, there is no point to include that row  \n",
    "train['Class'].isnull().any()"
   ]
  },
  {
   "cell_type": "code",
   "execution_count": null,
   "metadata": {},
   "outputs": [
    {
     "data": {
      "text/plain": [
       "gender                      False\n",
       "NationalITy                 False\n",
       "PlaceofBirth                False\n",
       "StageID                     False\n",
       "GradeID                     False\n",
       "SectionID                   False\n",
       "Topic                        True\n",
       "Semester                    False\n",
       "Relation                    False\n",
       "raisedhands                  True\n",
       "VisITedResources            False\n",
       "AnnouncementsView           False\n",
       "Discussion                  False\n",
       "ParentAnsweringSurvey       False\n",
       "ParentschoolSatisfaction    False\n",
       "StudentAbsenceDays          False\n",
       "Class                       False\n",
       "dtype: bool"
      ]
     },
     "execution_count": 21,
     "metadata": {},
     "output_type": "execute_result"
    }
   ],
   "source": [
    "# check the missing values columns\n",
    "train.isnull().any()"
   ]
  },
  {
   "cell_type": "code",
   "execution_count": null,
   "metadata": {},
   "outputs": [
    {
     "data": {
      "text/plain": [
       "['Topic', 'raisedhands']"
      ]
     },
     "execution_count": 22,
     "metadata": {},
     "output_type": "execute_result"
    }
   ],
   "source": [
    "# get the missing columns\n",
    "null_series = train.isnull().any()\n",
    "null_cols = list(null_series[null_series==True].index)\n",
    "null_cols"
   ]
  },
  {
   "cell_type": "code",
   "execution_count": null,
   "metadata": {},
   "outputs": [
    {
     "data": {
      "text/plain": [
       "Topic          2\n",
       "raisedhands    3\n",
       "dtype: int64"
      ]
     },
     "execution_count": 23,
     "metadata": {},
     "output_type": "execute_result"
    }
   ],
   "source": [
    "# count missing values\n",
    "train[null_cols].isnull().sum()"
   ]
  },
  {
   "cell_type": "code",
   "execution_count": null,
   "metadata": {},
   "outputs": [],
   "source": []
  },
  {
   "cell_type": "markdown",
   "metadata": {},
   "source": [
    "### Extra"
   ]
  },
  {
   "cell_type": "markdown",
   "metadata": {},
   "source": [
    "#### handling series\n",
    "we usually get return object in pandas series object, like above for null values\n",
    "1. https://www.geeksforgeeks.org/python-pandas-series/ \n",
    "2. https://stackoverflow.com/questions/31593201/how-are-iloc-and-loc-different"
   ]
  },
  {
   "cell_type": "code",
   "execution_count": null,
   "metadata": {},
   "outputs": [],
   "source": []
  },
  {
   "cell_type": "markdown",
   "metadata": {},
   "source": [
    "## 5. Compute Missing values"
   ]
  },
  {
   "cell_type": "markdown",
   "metadata": {},
   "source": [
    "There are multiple ways to compute missing values. \n",
    "\n",
    "Things to keep remember - There should be No data leakage that is In Machine learning, Data Leakage refers to a mistake that is made by the creator of a machine learning model in which they accidentally share the information between the test and training data sets\n",
    "\n",
    "   \n",
    "1. We can manually check what value is missing and can correct that, we can check if, Is there a pattern to the missing values,  think about possible reasons why it happened in the first place\n",
    "\n",
    "2. Also it is know practive to drop the column if it has more than 60% of the missing values \n",
    "   \n",
    "3. Deleting Rows with missing values - Deleting rows (if we have enough data) or column (if column is not important intutive idea from domain knowledge)\n",
    "\n",
    "4. Impute missing values for continuous variable - mean/median  - without causing data leakage\n",
    "\n",
    "5. Impute missing values for categorical variable - mode\n",
    "\n",
    "6. Other Imputation Methods - interpolation (provide missing term using nearby trends, newton forward/backward formula, for multivariate - nearest neighbour interpolation, gaussian, polynomial (good for time series interpolation))\n",
    "\n",
    "7. Using Algorithms that support missing values (k-NN - based on k, get the closest rows using euclidean distance and take the average of there missing value column values)\n",
    "\n",
    "8. Prediction of missing values (The regression or classification model can be used for the prediction of missing values depending on the nature (categorical or continuous) of the feature having missing value.)\n",
    "\n",
    "9.  For categorical - make cluster using remaining features and predict\n",
    "\n",
    "10. Imputation using Deep Learning Library — Datawig (https://datawig.readthedocs.io/en/latest/)\n",
    "\n",
    "\n",
    "\n",
    "\n",
    "\n",
    "Extra resources -\n",
    "1. https://towardsdatascience.com/i-scores-how-to-choose-the-best-method-to-fill-in-nas-in-your-data-set-43f3f0df971f"
   ]
  },
  {
   "cell_type": "code",
   "execution_count": 26,
   "metadata": {},
   "outputs": [
    {
     "ename": "NameError",
     "evalue": "name 'null_cols' is not defined",
     "output_type": "error",
     "traceback": [
      "\u001b[0;31m---------------------------------------------------------------------------\u001b[0m",
      "\u001b[0;31mNameError\u001b[0m                                 Traceback (most recent call last)",
      "\u001b[1;32m/home/himanshu/ML_LAB/ML.ipynb Cell 47'\u001b[0m in \u001b[0;36m<cell line: 1>\u001b[0;34m()\u001b[0m\n\u001b[0;32m----> <a href='vscode-notebook-cell:/home/himanshu/ML_LAB/ML.ipynb#ch0000046?line=0'>1</a>\u001b[0m \u001b[39mprint\u001b[39m(\u001b[39m\"\u001b[39m\u001b[39mmissing columns are \u001b[39m\u001b[39m\"\u001b[39m,null_cols)\n",
      "\u001b[0;31mNameError\u001b[0m: name 'null_cols' is not defined"
     ]
    }
   ],
   "source": [
    "print(\"missing columns are \",null_cols)"
   ]
  },
  {
   "cell_type": "code",
   "execution_count": null,
   "metadata": {},
   "outputs": [],
   "source": [
    "# to drop columns\n",
    "# train.drop(columns=null_cols, inplace=True)\n",
    "\n",
    "\n",
    "# to drop all rows which are nan, with passing attributes\n",
    "# 1. subset - to only drop from some specific columns\n",
    "# 2. thresh - Drop row if it does not have at least two values that are **not** NaN\n",
    "# 3. how - all/any\n",
    "# train.dropna(inplace=False, subset=['Topic','raisedhands'],thresh=2, how ='any')\n",
    "\n",
    "\n",
    "# to fill na values with something\n",
    "# train.fillna(inplace=False)"
   ]
  },
  {
   "cell_type": "code",
   "execution_count": 27,
   "metadata": {},
   "outputs": [
    {
     "data": {
      "text/html": [
       "<div>\n",
       "<style scoped>\n",
       "    .dataframe tbody tr th:only-of-type {\n",
       "        vertical-align: middle;\n",
       "    }\n",
       "\n",
       "    .dataframe tbody tr th {\n",
       "        vertical-align: top;\n",
       "    }\n",
       "\n",
       "    .dataframe thead th {\n",
       "        text-align: right;\n",
       "    }\n",
       "</style>\n",
       "<table border=\"1\" class=\"dataframe\">\n",
       "  <thead>\n",
       "    <tr style=\"text-align: right;\">\n",
       "      <th></th>\n",
       "      <th>gender</th>\n",
       "      <th>NationalITy</th>\n",
       "      <th>PlaceofBirth</th>\n",
       "      <th>StageID</th>\n",
       "      <th>GradeID</th>\n",
       "      <th>SectionID</th>\n",
       "      <th>Topic</th>\n",
       "      <th>Semester</th>\n",
       "      <th>Relation</th>\n",
       "      <th>raisedhands</th>\n",
       "      <th>VisITedResources</th>\n",
       "      <th>AnnouncementsView</th>\n",
       "      <th>Discussion</th>\n",
       "      <th>ParentAnsweringSurvey</th>\n",
       "      <th>ParentschoolSatisfaction</th>\n",
       "      <th>StudentAbsenceDays</th>\n",
       "      <th>Class</th>\n",
       "    </tr>\n",
       "  </thead>\n",
       "  <tbody>\n",
       "    <tr>\n",
       "      <th>422</th>\n",
       "      <td>F</td>\n",
       "      <td>Jordan</td>\n",
       "      <td>Jordan</td>\n",
       "      <td>MiddleSchool</td>\n",
       "      <td>G-08</td>\n",
       "      <td>A</td>\n",
       "      <td>Geology</td>\n",
       "      <td>F</td>\n",
       "      <td>Mum</td>\n",
       "      <td>70.0</td>\n",
       "      <td>69</td>\n",
       "      <td>46</td>\n",
       "      <td>45</td>\n",
       "      <td>Yes</td>\n",
       "      <td>Good</td>\n",
       "      <td>Above-7</td>\n",
       "      <td>M</td>\n",
       "    </tr>\n",
       "    <tr>\n",
       "      <th>25</th>\n",
       "      <td>M</td>\n",
       "      <td>KW</td>\n",
       "      <td>KuwaIT</td>\n",
       "      <td>MiddleSchool</td>\n",
       "      <td>G-07</td>\n",
       "      <td>A</td>\n",
       "      <td>IT</td>\n",
       "      <td>F</td>\n",
       "      <td>Father</td>\n",
       "      <td>8.0</td>\n",
       "      <td>7</td>\n",
       "      <td>30</td>\n",
       "      <td>40</td>\n",
       "      <td>Yes</td>\n",
       "      <td>Good</td>\n",
       "      <td>Above-7</td>\n",
       "      <td>L</td>\n",
       "    </tr>\n",
       "    <tr>\n",
       "      <th>53</th>\n",
       "      <td>F</td>\n",
       "      <td>KW</td>\n",
       "      <td>KuwaIT</td>\n",
       "      <td>HighSchool</td>\n",
       "      <td>G-11</td>\n",
       "      <td>A</td>\n",
       "      <td>Science</td>\n",
       "      <td>F</td>\n",
       "      <td>Mum</td>\n",
       "      <td>49.0</td>\n",
       "      <td>70</td>\n",
       "      <td>19</td>\n",
       "      <td>75</td>\n",
       "      <td>Yes</td>\n",
       "      <td>Good</td>\n",
       "      <td>Under-7</td>\n",
       "      <td>H</td>\n",
       "    </tr>\n",
       "    <tr>\n",
       "      <th>462</th>\n",
       "      <td>M</td>\n",
       "      <td>Iraq</td>\n",
       "      <td>Iraq</td>\n",
       "      <td>MiddleSchool</td>\n",
       "      <td>G-08</td>\n",
       "      <td>A</td>\n",
       "      <td>History</td>\n",
       "      <td>F</td>\n",
       "      <td>Father</td>\n",
       "      <td>72.0</td>\n",
       "      <td>87</td>\n",
       "      <td>72</td>\n",
       "      <td>89</td>\n",
       "      <td>Yes</td>\n",
       "      <td>Good</td>\n",
       "      <td>Above-7</td>\n",
       "      <td>M</td>\n",
       "    </tr>\n",
       "    <tr>\n",
       "      <th>101</th>\n",
       "      <td>F</td>\n",
       "      <td>KW</td>\n",
       "      <td>KuwaIT</td>\n",
       "      <td>lowerlevel</td>\n",
       "      <td>G-02</td>\n",
       "      <td>B</td>\n",
       "      <td>IT</td>\n",
       "      <td>F</td>\n",
       "      <td>Mum</td>\n",
       "      <td>70.0</td>\n",
       "      <td>92</td>\n",
       "      <td>50</td>\n",
       "      <td>7</td>\n",
       "      <td>Yes</td>\n",
       "      <td>Good</td>\n",
       "      <td>Under-7</td>\n",
       "      <td>H</td>\n",
       "    </tr>\n",
       "    <tr>\n",
       "      <th>...</th>\n",
       "      <td>...</td>\n",
       "      <td>...</td>\n",
       "      <td>...</td>\n",
       "      <td>...</td>\n",
       "      <td>...</td>\n",
       "      <td>...</td>\n",
       "      <td>...</td>\n",
       "      <td>...</td>\n",
       "      <td>...</td>\n",
       "      <td>...</td>\n",
       "      <td>...</td>\n",
       "      <td>...</td>\n",
       "      <td>...</td>\n",
       "      <td>...</td>\n",
       "      <td>...</td>\n",
       "      <td>...</td>\n",
       "      <td>...</td>\n",
       "    </tr>\n",
       "    <tr>\n",
       "      <th>418</th>\n",
       "      <td>M</td>\n",
       "      <td>Palestine</td>\n",
       "      <td>Jordan</td>\n",
       "      <td>MiddleSchool</td>\n",
       "      <td>G-07</td>\n",
       "      <td>B</td>\n",
       "      <td>Biology</td>\n",
       "      <td>F</td>\n",
       "      <td>Father</td>\n",
       "      <td>88.0</td>\n",
       "      <td>90</td>\n",
       "      <td>76</td>\n",
       "      <td>81</td>\n",
       "      <td>Yes</td>\n",
       "      <td>Good</td>\n",
       "      <td>Under-7</td>\n",
       "      <td>H</td>\n",
       "    </tr>\n",
       "    <tr>\n",
       "      <th>304</th>\n",
       "      <td>F</td>\n",
       "      <td>Jordan</td>\n",
       "      <td>Jordan</td>\n",
       "      <td>lowerlevel</td>\n",
       "      <td>G-04</td>\n",
       "      <td>B</td>\n",
       "      <td>Science</td>\n",
       "      <td>F</td>\n",
       "      <td>Father</td>\n",
       "      <td>15.0</td>\n",
       "      <td>50</td>\n",
       "      <td>24</td>\n",
       "      <td>43</td>\n",
       "      <td>Yes</td>\n",
       "      <td>Bad</td>\n",
       "      <td>Under-7</td>\n",
       "      <td>M</td>\n",
       "    </tr>\n",
       "    <tr>\n",
       "      <th>107</th>\n",
       "      <td>M</td>\n",
       "      <td>KW</td>\n",
       "      <td>KuwaIT</td>\n",
       "      <td>lowerlevel</td>\n",
       "      <td>G-02</td>\n",
       "      <td>B</td>\n",
       "      <td>IT</td>\n",
       "      <td>F</td>\n",
       "      <td>Father</td>\n",
       "      <td>70.0</td>\n",
       "      <td>90</td>\n",
       "      <td>41</td>\n",
       "      <td>33</td>\n",
       "      <td>Yes</td>\n",
       "      <td>Bad</td>\n",
       "      <td>Under-7</td>\n",
       "      <td>H</td>\n",
       "    </tr>\n",
       "    <tr>\n",
       "      <th>33</th>\n",
       "      <td>M</td>\n",
       "      <td>KW</td>\n",
       "      <td>KuwaIT</td>\n",
       "      <td>lowerlevel</td>\n",
       "      <td>G-05</td>\n",
       "      <td>A</td>\n",
       "      <td>English</td>\n",
       "      <td>F</td>\n",
       "      <td>Father</td>\n",
       "      <td>8.0</td>\n",
       "      <td>22</td>\n",
       "      <td>9</td>\n",
       "      <td>40</td>\n",
       "      <td>No</td>\n",
       "      <td>Bad</td>\n",
       "      <td>Above-7</td>\n",
       "      <td>L</td>\n",
       "    </tr>\n",
       "    <tr>\n",
       "      <th>415</th>\n",
       "      <td>F</td>\n",
       "      <td>Lybia</td>\n",
       "      <td>Lybia</td>\n",
       "      <td>MiddleSchool</td>\n",
       "      <td>G-07</td>\n",
       "      <td>B</td>\n",
       "      <td>Biology</td>\n",
       "      <td>S</td>\n",
       "      <td>Mum</td>\n",
       "      <td>9.0</td>\n",
       "      <td>7</td>\n",
       "      <td>9</td>\n",
       "      <td>3</td>\n",
       "      <td>No</td>\n",
       "      <td>Good</td>\n",
       "      <td>Above-7</td>\n",
       "      <td>L</td>\n",
       "    </tr>\n",
       "  </tbody>\n",
       "</table>\n",
       "<p>379 rows × 17 columns</p>\n",
       "</div>"
      ],
      "text/plain": [
       "    gender NationalITy PlaceofBirth       StageID GradeID SectionID    Topic  \\\n",
       "422      F      Jordan       Jordan  MiddleSchool    G-08         A  Geology   \n",
       "25       M          KW       KuwaIT  MiddleSchool    G-07         A       IT   \n",
       "53       F          KW       KuwaIT    HighSchool    G-11         A  Science   \n",
       "462      M        Iraq         Iraq  MiddleSchool    G-08         A  History   \n",
       "101      F          KW       KuwaIT    lowerlevel    G-02         B       IT   \n",
       "..     ...         ...          ...           ...     ...       ...      ...   \n",
       "418      M   Palestine       Jordan  MiddleSchool    G-07         B  Biology   \n",
       "304      F      Jordan       Jordan    lowerlevel    G-04         B  Science   \n",
       "107      M          KW       KuwaIT    lowerlevel    G-02         B       IT   \n",
       "33       M          KW       KuwaIT    lowerlevel    G-05         A  English   \n",
       "415      F       Lybia        Lybia  MiddleSchool    G-07         B  Biology   \n",
       "\n",
       "    Semester Relation  raisedhands  VisITedResources  AnnouncementsView  \\\n",
       "422        F      Mum         70.0                69                 46   \n",
       "25         F   Father          8.0                 7                 30   \n",
       "53         F      Mum         49.0                70                 19   \n",
       "462        F   Father         72.0                87                 72   \n",
       "101        F      Mum         70.0                92                 50   \n",
       "..       ...      ...          ...               ...                ...   \n",
       "418        F   Father         88.0                90                 76   \n",
       "304        F   Father         15.0                50                 24   \n",
       "107        F   Father         70.0                90                 41   \n",
       "33         F   Father          8.0                22                  9   \n",
       "415        S      Mum          9.0                 7                  9   \n",
       "\n",
       "     Discussion ParentAnsweringSurvey ParentschoolSatisfaction  \\\n",
       "422          45                   Yes                     Good   \n",
       "25           40                   Yes                     Good   \n",
       "53           75                   Yes                     Good   \n",
       "462          89                   Yes                     Good   \n",
       "101           7                   Yes                     Good   \n",
       "..          ...                   ...                      ...   \n",
       "418          81                   Yes                     Good   \n",
       "304          43                   Yes                      Bad   \n",
       "107          33                   Yes                      Bad   \n",
       "33           40                    No                      Bad   \n",
       "415           3                    No                     Good   \n",
       "\n",
       "    StudentAbsenceDays Class  \n",
       "422            Above-7     M  \n",
       "25             Above-7     L  \n",
       "53             Under-7     H  \n",
       "462            Above-7     M  \n",
       "101            Under-7     H  \n",
       "..                 ...   ...  \n",
       "418            Under-7     H  \n",
       "304            Under-7     M  \n",
       "107            Under-7     H  \n",
       "33             Above-7     L  \n",
       "415            Above-7     L  \n",
       "\n",
       "[379 rows x 17 columns]"
      ]
     },
     "execution_count": 27,
     "metadata": {},
     "output_type": "execute_result"
    }
   ],
   "source": [
    "train[~train['Topic'].isnull() & ~train['raisedhands'].isnull()]"
   ]
  },
  {
   "cell_type": "markdown",
   "metadata": {},
   "source": [
    "### 7. using knn to compute"
   ]
  },
  {
   "cell_type": "markdown",
   "metadata": {},
   "source": [
    "#### Note\n",
    "1. We should also use scalling befor applying the algo as it is a distnace based algoritham\n",
    "2. When fitting KNN  "
   ]
  },
  {
   "cell_type": "code",
   "execution_count": 28,
   "metadata": {},
   "outputs": [
    {
     "data": {
      "text/plain": [
       "(384, 4)"
      ]
     },
     "execution_count": 28,
     "metadata": {},
     "output_type": "execute_result"
    },
    {
     "data": {
      "text/plain": [
       "(384, 3)"
      ]
     },
     "execution_count": 28,
     "metadata": {},
     "output_type": "execute_result"
    },
    {
     "data": {
      "text/plain": [
       "(381, 3)"
      ]
     },
     "execution_count": 28,
     "metadata": {},
     "output_type": "execute_result"
    },
    {
     "data": {
      "text/plain": [
       "(3, 3)"
      ]
     },
     "execution_count": 28,
     "metadata": {},
     "output_type": "execute_result"
    }
   ],
   "source": [
    "# only taking numeric values, as categorical values make no use in distance calculations\n",
    "train_numeric = train.select_dtypes(include=\"number\")\n",
    "train_numeric.shape\n",
    "\n",
    "train_sub = train_numeric.drop(columns=['raisedhands'])\n",
    "train_sub.shape\n",
    "\n",
    "rows_no_missing = train.raisedhands.notna()\n",
    "train_no_missing = train_sub[rows_no_missing]\n",
    "train_no_missing.shape\n",
    "\n",
    "raise_hand_missing = train_sub[train.raisedhands.isna()]\n",
    "raise_hand_missing.shape"
   ]
  },
  {
   "cell_type": "code",
   "execution_count": 29,
   "metadata": {},
   "outputs": [
    {
     "data": {
      "text/plain": [
       "KNeighborsClassifier(n_neighbors=1)"
      ]
     },
     "execution_count": 29,
     "metadata": {},
     "output_type": "execute_result"
    },
    {
     "data": {
      "text/plain": [
       "array([10., 70., 12.])"
      ]
     },
     "execution_count": 29,
     "metadata": {},
     "output_type": "execute_result"
    }
   ],
   "source": [
    "# computing missing values\n",
    "# Intution - using fit method it stores the data(X,y) in memory and during prediction it gives y based on most similar(close) X\n",
    "knn = KNeighborsClassifier(n_neighbors=1)\n",
    "knn.fit(train_no_missing, train.raisedhands[rows_no_missing])\n",
    "knn_inc = knn.predict(raise_hand_missing)\n",
    "knn_inc"
   ]
  },
  {
   "cell_type": "code",
   "execution_count": 30,
   "metadata": {},
   "outputs": [],
   "source": [
    "# assigning the missing rows\n",
    "# train.loc[raise_hand_missing.index]['raisedhands'] = "
   ]
  },
  {
   "cell_type": "markdown",
   "metadata": {},
   "source": [
    "### 8. regression, using imputer library of sklearn\n",
    "https://www.youtube.com/watch?v=m_qKhnaYZlc&t=248s"
   ]
  },
  {
   "cell_type": "code",
   "execution_count": 31,
   "metadata": {},
   "outputs": [],
   "source": [
    "from sklearn.experimental import enable_iterative_imputer\n",
    "from sklearn.impute import IterativeImputer"
   ]
  },
  {
   "cell_type": "code",
   "execution_count": 32,
   "metadata": {},
   "outputs": [],
   "source": [
    "# here also no categorical values\n",
    "# imp = IterativeImputer()\n",
    "# imp.fit_transform(train)"
   ]
  },
  {
   "cell_type": "code",
   "execution_count": null,
   "metadata": {},
   "outputs": [],
   "source": []
  },
  {
   "cell_type": "markdown",
   "metadata": {},
   "source": [
    "### 9. K-means to train and compute NaN for Categorical variable"
   ]
  },
  {
   "cell_type": "code",
   "execution_count": null,
   "metadata": {},
   "outputs": [],
   "source": []
  },
  {
   "cell_type": "code",
   "execution_count": 33,
   "metadata": {},
   "outputs": [
    {
     "data": {
      "text/plain": [
       "(384, 17)"
      ]
     },
     "execution_count": 33,
     "metadata": {},
     "output_type": "execute_result"
    },
    {
     "data": {
      "text/plain": [
       "(379, 17)"
      ]
     },
     "execution_count": 33,
     "metadata": {},
     "output_type": "execute_result"
    }
   ],
   "source": [
    "# droping the NaN rows for now, will fill missing values in future\n",
    "train.shape\n",
    "\n",
    "train = train.dropna()\n",
    "train.shape"
   ]
  },
  {
   "cell_type": "markdown",
   "metadata": {},
   "source": [
    "## 6. Check for outliers"
   ]
  },
  {
   "cell_type": "markdown",
   "metadata": {},
   "source": [
    "#### Methods\n",
    "1. Box Plot\n",
    "2. Model Based"
   ]
  },
  {
   "cell_type": "markdown",
   "metadata": {},
   "source": [
    "### Box Plots"
   ]
  },
  {
   "cell_type": "code",
   "execution_count": 34,
   "metadata": {},
   "outputs": [
    {
     "data": {
      "text/html": [
       "<div>\n",
       "<style scoped>\n",
       "    .dataframe tbody tr th:only-of-type {\n",
       "        vertical-align: middle;\n",
       "    }\n",
       "\n",
       "    .dataframe tbody tr th {\n",
       "        vertical-align: top;\n",
       "    }\n",
       "\n",
       "    .dataframe thead th {\n",
       "        text-align: right;\n",
       "    }\n",
       "</style>\n",
       "<table border=\"1\" class=\"dataframe\">\n",
       "  <thead>\n",
       "    <tr style=\"text-align: right;\">\n",
       "      <th></th>\n",
       "      <th>gender</th>\n",
       "      <th>NationalITy</th>\n",
       "      <th>PlaceofBirth</th>\n",
       "      <th>StageID</th>\n",
       "      <th>GradeID</th>\n",
       "      <th>SectionID</th>\n",
       "      <th>Topic</th>\n",
       "      <th>Semester</th>\n",
       "      <th>Relation</th>\n",
       "      <th>raisedhands</th>\n",
       "      <th>VisITedResources</th>\n",
       "      <th>AnnouncementsView</th>\n",
       "      <th>Discussion</th>\n",
       "      <th>ParentAnsweringSurvey</th>\n",
       "      <th>ParentschoolSatisfaction</th>\n",
       "      <th>StudentAbsenceDays</th>\n",
       "      <th>Class</th>\n",
       "    </tr>\n",
       "  </thead>\n",
       "  <tbody>\n",
       "    <tr>\n",
       "      <th>422</th>\n",
       "      <td>F</td>\n",
       "      <td>Jordan</td>\n",
       "      <td>Jordan</td>\n",
       "      <td>MiddleSchool</td>\n",
       "      <td>G-08</td>\n",
       "      <td>A</td>\n",
       "      <td>Geology</td>\n",
       "      <td>F</td>\n",
       "      <td>Mum</td>\n",
       "      <td>70.0</td>\n",
       "      <td>69</td>\n",
       "      <td>46</td>\n",
       "      <td>45</td>\n",
       "      <td>Yes</td>\n",
       "      <td>Good</td>\n",
       "      <td>Above-7</td>\n",
       "      <td>M</td>\n",
       "    </tr>\n",
       "    <tr>\n",
       "      <th>25</th>\n",
       "      <td>M</td>\n",
       "      <td>KW</td>\n",
       "      <td>KuwaIT</td>\n",
       "      <td>MiddleSchool</td>\n",
       "      <td>G-07</td>\n",
       "      <td>A</td>\n",
       "      <td>IT</td>\n",
       "      <td>F</td>\n",
       "      <td>Father</td>\n",
       "      <td>8.0</td>\n",
       "      <td>7</td>\n",
       "      <td>30</td>\n",
       "      <td>40</td>\n",
       "      <td>Yes</td>\n",
       "      <td>Good</td>\n",
       "      <td>Above-7</td>\n",
       "      <td>L</td>\n",
       "    </tr>\n",
       "    <tr>\n",
       "      <th>53</th>\n",
       "      <td>F</td>\n",
       "      <td>KW</td>\n",
       "      <td>KuwaIT</td>\n",
       "      <td>HighSchool</td>\n",
       "      <td>G-11</td>\n",
       "      <td>A</td>\n",
       "      <td>Science</td>\n",
       "      <td>F</td>\n",
       "      <td>Mum</td>\n",
       "      <td>49.0</td>\n",
       "      <td>70</td>\n",
       "      <td>19</td>\n",
       "      <td>75</td>\n",
       "      <td>Yes</td>\n",
       "      <td>Good</td>\n",
       "      <td>Under-7</td>\n",
       "      <td>H</td>\n",
       "    </tr>\n",
       "    <tr>\n",
       "      <th>462</th>\n",
       "      <td>M</td>\n",
       "      <td>Iraq</td>\n",
       "      <td>Iraq</td>\n",
       "      <td>MiddleSchool</td>\n",
       "      <td>G-08</td>\n",
       "      <td>A</td>\n",
       "      <td>History</td>\n",
       "      <td>F</td>\n",
       "      <td>Father</td>\n",
       "      <td>72.0</td>\n",
       "      <td>87</td>\n",
       "      <td>72</td>\n",
       "      <td>89</td>\n",
       "      <td>Yes</td>\n",
       "      <td>Good</td>\n",
       "      <td>Above-7</td>\n",
       "      <td>M</td>\n",
       "    </tr>\n",
       "    <tr>\n",
       "      <th>101</th>\n",
       "      <td>F</td>\n",
       "      <td>KW</td>\n",
       "      <td>KuwaIT</td>\n",
       "      <td>lowerlevel</td>\n",
       "      <td>G-02</td>\n",
       "      <td>B</td>\n",
       "      <td>IT</td>\n",
       "      <td>F</td>\n",
       "      <td>Mum</td>\n",
       "      <td>70.0</td>\n",
       "      <td>92</td>\n",
       "      <td>50</td>\n",
       "      <td>7</td>\n",
       "      <td>Yes</td>\n",
       "      <td>Good</td>\n",
       "      <td>Under-7</td>\n",
       "      <td>H</td>\n",
       "    </tr>\n",
       "  </tbody>\n",
       "</table>\n",
       "</div>"
      ],
      "text/plain": [
       "    gender NationalITy PlaceofBirth       StageID GradeID SectionID    Topic  \\\n",
       "422      F      Jordan       Jordan  MiddleSchool    G-08         A  Geology   \n",
       "25       M          KW       KuwaIT  MiddleSchool    G-07         A       IT   \n",
       "53       F          KW       KuwaIT    HighSchool    G-11         A  Science   \n",
       "462      M        Iraq         Iraq  MiddleSchool    G-08         A  History   \n",
       "101      F          KW       KuwaIT    lowerlevel    G-02         B       IT   \n",
       "\n",
       "    Semester Relation  raisedhands  VisITedResources  AnnouncementsView  \\\n",
       "422        F      Mum         70.0                69                 46   \n",
       "25         F   Father          8.0                 7                 30   \n",
       "53         F      Mum         49.0                70                 19   \n",
       "462        F   Father         72.0                87                 72   \n",
       "101        F      Mum         70.0                92                 50   \n",
       "\n",
       "     Discussion ParentAnsweringSurvey ParentschoolSatisfaction  \\\n",
       "422          45                   Yes                     Good   \n",
       "25           40                   Yes                     Good   \n",
       "53           75                   Yes                     Good   \n",
       "462          89                   Yes                     Good   \n",
       "101           7                   Yes                     Good   \n",
       "\n",
       "    StudentAbsenceDays Class  \n",
       "422            Above-7     M  \n",
       "25             Above-7     L  \n",
       "53             Under-7     H  \n",
       "462            Above-7     M  \n",
       "101            Under-7     H  "
      ]
     },
     "execution_count": 34,
     "metadata": {},
     "output_type": "execute_result"
    }
   ],
   "source": [
    "train.head()"
   ]
  },
  {
   "cell_type": "code",
   "execution_count": 35,
   "metadata": {},
   "outputs": [
    {
     "data": {
      "text/plain": [
       "(379, 4)"
      ]
     },
     "execution_count": 35,
     "metadata": {},
     "output_type": "execute_result"
    }
   ],
   "source": [
    "train_numeric = train.select_dtypes(include=\"number\")\n",
    "train_numeric.shape"
   ]
  },
  {
   "cell_type": "code",
   "execution_count": 36,
   "metadata": {},
   "outputs": [
    {
     "data": {
      "text/html": [
       "<div>\n",
       "<style scoped>\n",
       "    .dataframe tbody tr th:only-of-type {\n",
       "        vertical-align: middle;\n",
       "    }\n",
       "\n",
       "    .dataframe tbody tr th {\n",
       "        vertical-align: top;\n",
       "    }\n",
       "\n",
       "    .dataframe thead th {\n",
       "        text-align: right;\n",
       "    }\n",
       "</style>\n",
       "<table border=\"1\" class=\"dataframe\">\n",
       "  <thead>\n",
       "    <tr style=\"text-align: right;\">\n",
       "      <th></th>\n",
       "      <th>raisedhands</th>\n",
       "      <th>VisITedResources</th>\n",
       "      <th>AnnouncementsView</th>\n",
       "      <th>Discussion</th>\n",
       "    </tr>\n",
       "  </thead>\n",
       "  <tbody>\n",
       "    <tr>\n",
       "      <th>422</th>\n",
       "      <td>70.0</td>\n",
       "      <td>69</td>\n",
       "      <td>46</td>\n",
       "      <td>45</td>\n",
       "    </tr>\n",
       "    <tr>\n",
       "      <th>25</th>\n",
       "      <td>8.0</td>\n",
       "      <td>7</td>\n",
       "      <td>30</td>\n",
       "      <td>40</td>\n",
       "    </tr>\n",
       "    <tr>\n",
       "      <th>53</th>\n",
       "      <td>49.0</td>\n",
       "      <td>70</td>\n",
       "      <td>19</td>\n",
       "      <td>75</td>\n",
       "    </tr>\n",
       "    <tr>\n",
       "      <th>462</th>\n",
       "      <td>72.0</td>\n",
       "      <td>87</td>\n",
       "      <td>72</td>\n",
       "      <td>89</td>\n",
       "    </tr>\n",
       "    <tr>\n",
       "      <th>101</th>\n",
       "      <td>70.0</td>\n",
       "      <td>92</td>\n",
       "      <td>50</td>\n",
       "      <td>7</td>\n",
       "    </tr>\n",
       "  </tbody>\n",
       "</table>\n",
       "</div>"
      ],
      "text/plain": [
       "     raisedhands  VisITedResources  AnnouncementsView  Discussion\n",
       "422         70.0                69                 46          45\n",
       "25           8.0                 7                 30          40\n",
       "53          49.0                70                 19          75\n",
       "462         72.0                87                 72          89\n",
       "101         70.0                92                 50           7"
      ]
     },
     "execution_count": 36,
     "metadata": {},
     "output_type": "execute_result"
    }
   ],
   "source": [
    "train_numeric.head()"
   ]
  },
  {
   "cell_type": "code",
   "execution_count": 37,
   "metadata": {},
   "outputs": [
    {
     "data": {
      "text/plain": [
       "Index(['raisedhands', 'VisITedResources', 'AnnouncementsView', 'Discussion'], dtype='object')"
      ]
     },
     "execution_count": 37,
     "metadata": {},
     "output_type": "execute_result"
    }
   ],
   "source": [
    "train_numeric.columns"
   ]
  },
  {
   "cell_type": "code",
   "execution_count": 38,
   "metadata": {},
   "outputs": [
    {
     "data": {
      "text/plain": [
       "<AxesSubplot:>"
      ]
     },
     "execution_count": 38,
     "metadata": {},
     "output_type": "execute_result"
    },
    {
     "data": {
      "text/plain": [
       "array([<AxesSubplot:title={'center':'raisedhands'}>], dtype=object)"
      ]
     },
     "execution_count": 38,
     "metadata": {},
     "output_type": "execute_result"
    },
    {
     "data": {
      "text/plain": [
       "<AxesSubplot:>"
      ]
     },
     "execution_count": 38,
     "metadata": {},
     "output_type": "execute_result"
    },
    {
     "data": {
      "text/plain": [
       "array([<AxesSubplot:title={'center':'VisITedResources'}>], dtype=object)"
      ]
     },
     "execution_count": 38,
     "metadata": {},
     "output_type": "execute_result"
    },
    {
     "data": {
      "text/plain": [
       "<AxesSubplot:>"
      ]
     },
     "execution_count": 38,
     "metadata": {},
     "output_type": "execute_result"
    },
    {
     "data": {
      "text/plain": [
       "array([<AxesSubplot:title={'center':'AnnouncementsView'}>], dtype=object)"
      ]
     },
     "execution_count": 38,
     "metadata": {},
     "output_type": "execute_result"
    },
    {
     "data": {
      "text/plain": [
       "<AxesSubplot:>"
      ]
     },
     "execution_count": 38,
     "metadata": {},
     "output_type": "execute_result"
    },
    {
     "data": {
      "text/plain": [
       "array([<AxesSubplot:title={'center':'Discussion'}>], dtype=object)"
      ]
     },
     "execution_count": 38,
     "metadata": {},
     "output_type": "execute_result"
    },
    {
     "data": {
      "image/png": "[encoded data removed]",
      "text/plain": [
       "<Figure size 648x360 with 2 Axes>"
      ]
     },
     "metadata": {
      "needs_background": "light"
     },
     "output_type": "display_data"
    },
    {
     "data": {
      "image/png": "[encoded data removed]",
      "text/plain": [
       "<Figure size 648x360 with 2 Axes>"
      ]
     },
     "metadata": {
      "needs_background": "light"
     },
     "output_type": "display_data"
    },
    {
     "data": {
      "image/png": "[encoded data removed]",
      "text/plain": [
       "<Figure size 648x360 with 2 Axes>"
      ]
     },
     "metadata": {
      "needs_background": "light"
     },
     "output_type": "display_data"
    },
    {
     "data": {
      "image/png": "[encoded data removed]",
      "text/plain": [
       "<Figure size 648x360 with 2 Axes>"
      ]
     },
     "metadata": {
      "needs_background": "light"
     },
     "output_type": "display_data"
    }
   ],
   "source": [
    "total_num_cols = len(train_numeric.columns)\n",
    "for col in train_numeric.columns:\n",
    "    fig, axes= plt.subplots(1,2, gridspec_kw={'width_ratios': [1, 4]}, figsize=(9,5))\n",
    "    train.boxplot(column=col,ax=axes[0]);\n",
    "    train.hist(column=col, ax=axes[1]);"
   ]
  },
  {
   "cell_type": "markdown",
   "metadata": {},
   "source": [
    "#### Why 1.5 IQR only\n",
    "<img src=\"https://upload.wikimedia.org/wikipedia/commons/thumb/1/1a/Boxplot_vs_PDF.svg/1024px-Boxplot_vs_PDF.svg.png\" alt=\"nice_image_from_wikipedia\" width=\"450\"/>\n",
    "\n",
    "https://math.stackexchange.com/questions/966331/why-john-tukey-set-1-5-iqr-to-detect-outliers-instead-of-1-or-2"
   ]
  },
  {
   "cell_type": "code",
   "execution_count": 39,
   "metadata": {},
   "outputs": [
    {
     "data": {
      "text/plain": [
       "(21.0, 70.0, 49.0)"
      ]
     },
     "execution_count": 39,
     "metadata": {},
     "output_type": "execute_result"
    }
   ],
   "source": [
    "Q1 = train['Discussion'].quantile(0.25)\n",
    "Q3 = train['Discussion'].quantile(0.75)\n",
    "IQR = Q3 - Q1\n",
    "Q1, Q3, IQR"
   ]
  },
  {
   "cell_type": "code",
   "execution_count": 40,
   "metadata": {},
   "outputs": [
    {
     "data": {
      "text/plain": [
       "(0, 1)"
      ]
     },
     "execution_count": 40,
     "metadata": {},
     "output_type": "execute_result"
    }
   ],
   "source": [
    "small_outliers = train['Discussion'] < (Q1 - 1.5 * IQR)\n",
    "big_outliers = train['Discussion'] > (Q3 + 1.5 * IQR)\n",
    "\n",
    "sum(small_outliers), sum(big_outliers)"
   ]
  },
  {
   "cell_type": "code",
   "execution_count": 41,
   "metadata": {},
   "outputs": [
    {
     "data": {
      "image/png": "[encoded data removed]",
      "text/plain": [
       "<Figure size 648x360 with 2 Axes>"
      ]
     },
     "metadata": {
      "needs_background": "light"
     },
     "output_type": "display_data"
    }
   ],
   "source": [
    "train = train[~(small_outliers | big_outliers)]\n",
    "fig, axes= plt.subplots(1,2, gridspec_kw={'width_ratios': [1, 4]}, figsize=(9,5))\n",
    "train.boxplot(column='Discussion',ax=axes[0]);\n",
    "train.hist(column='Discussion', ax=axes[1]);"
   ]
  },
  {
   "cell_type": "markdown",
   "metadata": {},
   "source": [
    "### Model Based "
   ]
  },
  {
   "cell_type": "code",
   "execution_count": null,
   "metadata": {},
   "outputs": [],
   "source": []
  },
  {
   "cell_type": "code",
   "execution_count": null,
   "metadata": {},
   "outputs": [],
   "source": []
  },
  {
   "cell_type": "code",
   "execution_count": null,
   "metadata": {},
   "outputs": [],
   "source": []
  },
  {
   "cell_type": "code",
   "execution_count": null,
   "metadata": {},
   "outputs": [],
   "source": []
  },
  {
   "cell_type": "code",
   "execution_count": null,
   "metadata": {},
   "outputs": [],
   "source": []
  },
  {
   "cell_type": "code",
   "execution_count": null,
   "metadata": {},
   "outputs": [],
   "source": []
  },
  {
   "cell_type": "code",
   "execution_count": null,
   "metadata": {},
   "outputs": [],
   "source": []
  },
  {
   "cell_type": "code",
   "execution_count": null,
   "metadata": {},
   "outputs": [],
   "source": []
  },
  {
   "cell_type": "code",
   "execution_count": null,
   "metadata": {},
   "outputs": [],
   "source": []
  },
  {
   "cell_type": "code",
   "execution_count": null,
   "metadata": {},
   "outputs": [],
   "source": []
  },
  {
   "cell_type": "code",
   "execution_count": null,
   "metadata": {},
   "outputs": [],
   "source": []
  },
  {
   "cell_type": "markdown",
   "metadata": {},
   "source": [
    "### Final box plots"
   ]
  },
  {
   "cell_type": "code",
   "execution_count": 48,
   "metadata": {},
   "outputs": [
    {
     "data": {
      "text/plain": [
       "<AxesSubplot:>"
      ]
     },
     "execution_count": 48,
     "metadata": {},
     "output_type": "execute_result"
    },
    {
     "data": {
      "image/png": "[encoded data removed]",
      "text/plain": [
       "<Figure size 1080x720 with 1 Axes>"
      ]
     },
     "metadata": {
      "needs_background": "light"
     },
     "output_type": "display_data"
    }
   ],
   "source": [
    "train[train_numeric.columns].boxplot(figsize=(15,10))"
   ]
  },
  {
   "cell_type": "code",
   "execution_count": null,
   "metadata": {},
   "outputs": [],
   "source": []
  },
  {
   "cell_type": "code",
   "execution_count": null,
   "metadata": {},
   "outputs": [],
   "source": []
  },
  {
   "cell_type": "markdown",
   "metadata": {},
   "source": [
    "## 7 Feature Engineering"
   ]
  },
  {
   "cell_type": "code",
   "execution_count": 42,
   "metadata": {},
   "outputs": [
    {
     "data": {
      "text/html": [
       "<div>\n",
       "<style scoped>\n",
       "    .dataframe tbody tr th:only-of-type {\n",
       "        vertical-align: middle;\n",
       "    }\n",
       "\n",
       "    .dataframe tbody tr th {\n",
       "        vertical-align: top;\n",
       "    }\n",
       "\n",
       "    .dataframe thead th {\n",
       "        text-align: right;\n",
       "    }\n",
       "</style>\n",
       "<table border=\"1\" class=\"dataframe\">\n",
       "  <thead>\n",
       "    <tr style=\"text-align: right;\">\n",
       "      <th></th>\n",
       "      <th>gender</th>\n",
       "      <th>NationalITy</th>\n",
       "      <th>PlaceofBirth</th>\n",
       "      <th>StageID</th>\n",
       "      <th>GradeID</th>\n",
       "      <th>SectionID</th>\n",
       "      <th>Topic</th>\n",
       "      <th>Semester</th>\n",
       "      <th>Relation</th>\n",
       "      <th>raisedhands</th>\n",
       "      <th>VisITedResources</th>\n",
       "      <th>AnnouncementsView</th>\n",
       "      <th>Discussion</th>\n",
       "      <th>ParentAnsweringSurvey</th>\n",
       "      <th>ParentschoolSatisfaction</th>\n",
       "      <th>StudentAbsenceDays</th>\n",
       "      <th>Class</th>\n",
       "    </tr>\n",
       "  </thead>\n",
       "  <tbody>\n",
       "    <tr>\n",
       "      <th>422</th>\n",
       "      <td>F</td>\n",
       "      <td>Jordan</td>\n",
       "      <td>Jordan</td>\n",
       "      <td>MiddleSchool</td>\n",
       "      <td>G-08</td>\n",
       "      <td>A</td>\n",
       "      <td>Geology</td>\n",
       "      <td>F</td>\n",
       "      <td>Mum</td>\n",
       "      <td>70.0</td>\n",
       "      <td>69</td>\n",
       "      <td>46</td>\n",
       "      <td>45</td>\n",
       "      <td>Yes</td>\n",
       "      <td>Good</td>\n",
       "      <td>Above-7</td>\n",
       "      <td>M</td>\n",
       "    </tr>\n",
       "    <tr>\n",
       "      <th>25</th>\n",
       "      <td>M</td>\n",
       "      <td>KW</td>\n",
       "      <td>KuwaIT</td>\n",
       "      <td>MiddleSchool</td>\n",
       "      <td>G-07</td>\n",
       "      <td>A</td>\n",
       "      <td>IT</td>\n",
       "      <td>F</td>\n",
       "      <td>Father</td>\n",
       "      <td>8.0</td>\n",
       "      <td>7</td>\n",
       "      <td>30</td>\n",
       "      <td>40</td>\n",
       "      <td>Yes</td>\n",
       "      <td>Good</td>\n",
       "      <td>Above-7</td>\n",
       "      <td>L</td>\n",
       "    </tr>\n",
       "    <tr>\n",
       "      <th>53</th>\n",
       "      <td>F</td>\n",
       "      <td>KW</td>\n",
       "      <td>KuwaIT</td>\n",
       "      <td>HighSchool</td>\n",
       "      <td>G-11</td>\n",
       "      <td>A</td>\n",
       "      <td>Science</td>\n",
       "      <td>F</td>\n",
       "      <td>Mum</td>\n",
       "      <td>49.0</td>\n",
       "      <td>70</td>\n",
       "      <td>19</td>\n",
       "      <td>75</td>\n",
       "      <td>Yes</td>\n",
       "      <td>Good</td>\n",
       "      <td>Under-7</td>\n",
       "      <td>H</td>\n",
       "    </tr>\n",
       "    <tr>\n",
       "      <th>462</th>\n",
       "      <td>M</td>\n",
       "      <td>Iraq</td>\n",
       "      <td>Iraq</td>\n",
       "      <td>MiddleSchool</td>\n",
       "      <td>G-08</td>\n",
       "      <td>A</td>\n",
       "      <td>History</td>\n",
       "      <td>F</td>\n",
       "      <td>Father</td>\n",
       "      <td>72.0</td>\n",
       "      <td>87</td>\n",
       "      <td>72</td>\n",
       "      <td>89</td>\n",
       "      <td>Yes</td>\n",
       "      <td>Good</td>\n",
       "      <td>Above-7</td>\n",
       "      <td>M</td>\n",
       "    </tr>\n",
       "    <tr>\n",
       "      <th>101</th>\n",
       "      <td>F</td>\n",
       "      <td>KW</td>\n",
       "      <td>KuwaIT</td>\n",
       "      <td>lowerlevel</td>\n",
       "      <td>G-02</td>\n",
       "      <td>B</td>\n",
       "      <td>IT</td>\n",
       "      <td>F</td>\n",
       "      <td>Mum</td>\n",
       "      <td>70.0</td>\n",
       "      <td>92</td>\n",
       "      <td>50</td>\n",
       "      <td>7</td>\n",
       "      <td>Yes</td>\n",
       "      <td>Good</td>\n",
       "      <td>Under-7</td>\n",
       "      <td>H</td>\n",
       "    </tr>\n",
       "    <tr>\n",
       "      <th>...</th>\n",
       "      <td>...</td>\n",
       "      <td>...</td>\n",
       "      <td>...</td>\n",
       "      <td>...</td>\n",
       "      <td>...</td>\n",
       "      <td>...</td>\n",
       "      <td>...</td>\n",
       "      <td>...</td>\n",
       "      <td>...</td>\n",
       "      <td>...</td>\n",
       "      <td>...</td>\n",
       "      <td>...</td>\n",
       "      <td>...</td>\n",
       "      <td>...</td>\n",
       "      <td>...</td>\n",
       "      <td>...</td>\n",
       "      <td>...</td>\n",
       "    </tr>\n",
       "    <tr>\n",
       "      <th>418</th>\n",
       "      <td>M</td>\n",
       "      <td>Palestine</td>\n",
       "      <td>Jordan</td>\n",
       "      <td>MiddleSchool</td>\n",
       "      <td>G-07</td>\n",
       "      <td>B</td>\n",
       "      <td>Biology</td>\n",
       "      <td>F</td>\n",
       "      <td>Father</td>\n",
       "      <td>88.0</td>\n",
       "      <td>90</td>\n",
       "      <td>76</td>\n",
       "      <td>81</td>\n",
       "      <td>Yes</td>\n",
       "      <td>Good</td>\n",
       "      <td>Under-7</td>\n",
       "      <td>H</td>\n",
       "    </tr>\n",
       "    <tr>\n",
       "      <th>304</th>\n",
       "      <td>F</td>\n",
       "      <td>Jordan</td>\n",
       "      <td>Jordan</td>\n",
       "      <td>lowerlevel</td>\n",
       "      <td>G-04</td>\n",
       "      <td>B</td>\n",
       "      <td>Science</td>\n",
       "      <td>F</td>\n",
       "      <td>Father</td>\n",
       "      <td>15.0</td>\n",
       "      <td>50</td>\n",
       "      <td>24</td>\n",
       "      <td>43</td>\n",
       "      <td>Yes</td>\n",
       "      <td>Bad</td>\n",
       "      <td>Under-7</td>\n",
       "      <td>M</td>\n",
       "    </tr>\n",
       "    <tr>\n",
       "      <th>107</th>\n",
       "      <td>M</td>\n",
       "      <td>KW</td>\n",
       "      <td>KuwaIT</td>\n",
       "      <td>lowerlevel</td>\n",
       "      <td>G-02</td>\n",
       "      <td>B</td>\n",
       "      <td>IT</td>\n",
       "      <td>F</td>\n",
       "      <td>Father</td>\n",
       "      <td>70.0</td>\n",
       "      <td>90</td>\n",
       "      <td>41</td>\n",
       "      <td>33</td>\n",
       "      <td>Yes</td>\n",
       "      <td>Bad</td>\n",
       "      <td>Under-7</td>\n",
       "      <td>H</td>\n",
       "    </tr>\n",
       "    <tr>\n",
       "      <th>33</th>\n",
       "      <td>M</td>\n",
       "      <td>KW</td>\n",
       "      <td>KuwaIT</td>\n",
       "      <td>lowerlevel</td>\n",
       "      <td>G-05</td>\n",
       "      <td>A</td>\n",
       "      <td>English</td>\n",
       "      <td>F</td>\n",
       "      <td>Father</td>\n",
       "      <td>8.0</td>\n",
       "      <td>22</td>\n",
       "      <td>9</td>\n",
       "      <td>40</td>\n",
       "      <td>No</td>\n",
       "      <td>Bad</td>\n",
       "      <td>Above-7</td>\n",
       "      <td>L</td>\n",
       "    </tr>\n",
       "    <tr>\n",
       "      <th>415</th>\n",
       "      <td>F</td>\n",
       "      <td>Lybia</td>\n",
       "      <td>Lybia</td>\n",
       "      <td>MiddleSchool</td>\n",
       "      <td>G-07</td>\n",
       "      <td>B</td>\n",
       "      <td>Biology</td>\n",
       "      <td>S</td>\n",
       "      <td>Mum</td>\n",
       "      <td>9.0</td>\n",
       "      <td>7</td>\n",
       "      <td>9</td>\n",
       "      <td>3</td>\n",
       "      <td>No</td>\n",
       "      <td>Good</td>\n",
       "      <td>Above-7</td>\n",
       "      <td>L</td>\n",
       "    </tr>\n",
       "  </tbody>\n",
       "</table>\n",
       "<p>378 rows × 17 columns</p>\n",
       "</div>"
      ],
      "text/plain": [
       "    gender NationalITy PlaceofBirth       StageID GradeID SectionID    Topic  \\\n",
       "422      F      Jordan       Jordan  MiddleSchool    G-08         A  Geology   \n",
       "25       M          KW       KuwaIT  MiddleSchool    G-07         A       IT   \n",
       "53       F          KW       KuwaIT    HighSchool    G-11         A  Science   \n",
       "462      M        Iraq         Iraq  MiddleSchool    G-08         A  History   \n",
       "101      F          KW       KuwaIT    lowerlevel    G-02         B       IT   \n",
       "..     ...         ...          ...           ...     ...       ...      ...   \n",
       "418      M   Palestine       Jordan  MiddleSchool    G-07         B  Biology   \n",
       "304      F      Jordan       Jordan    lowerlevel    G-04         B  Science   \n",
       "107      M          KW       KuwaIT    lowerlevel    G-02         B       IT   \n",
       "33       M          KW       KuwaIT    lowerlevel    G-05         A  English   \n",
       "415      F       Lybia        Lybia  MiddleSchool    G-07         B  Biology   \n",
       "\n",
       "    Semester Relation  raisedhands  VisITedResources  AnnouncementsView  \\\n",
       "422        F      Mum         70.0                69                 46   \n",
       "25         F   Father          8.0                 7                 30   \n",
       "53         F      Mum         49.0                70                 19   \n",
       "462        F   Father         72.0                87                 72   \n",
       "101        F      Mum         70.0                92                 50   \n",
       "..       ...      ...          ...               ...                ...   \n",
       "418        F   Father         88.0                90                 76   \n",
       "304        F   Father         15.0                50                 24   \n",
       "107        F   Father         70.0                90                 41   \n",
       "33         F   Father          8.0                22                  9   \n",
       "415        S      Mum          9.0                 7                  9   \n",
       "\n",
       "     Discussion ParentAnsweringSurvey ParentschoolSatisfaction  \\\n",
       "422          45                   Yes                     Good   \n",
       "25           40                   Yes                     Good   \n",
       "53           75                   Yes                     Good   \n",
       "462          89                   Yes                     Good   \n",
       "101           7                   Yes                     Good   \n",
       "..          ...                   ...                      ...   \n",
       "418          81                   Yes                     Good   \n",
       "304          43                   Yes                      Bad   \n",
       "107          33                   Yes                      Bad   \n",
       "33           40                    No                      Bad   \n",
       "415           3                    No                     Good   \n",
       "\n",
       "    StudentAbsenceDays Class  \n",
       "422            Above-7     M  \n",
       "25             Above-7     L  \n",
       "53             Under-7     H  \n",
       "462            Above-7     M  \n",
       "101            Under-7     H  \n",
       "..                 ...   ...  \n",
       "418            Under-7     H  \n",
       "304            Under-7     M  \n",
       "107            Under-7     H  \n",
       "33             Above-7     L  \n",
       "415            Above-7     L  \n",
       "\n",
       "[378 rows x 17 columns]"
      ]
     },
     "execution_count": 42,
     "metadata": {},
     "output_type": "execute_result"
    }
   ],
   "source": [
    "train"
   ]
  },
  {
   "cell_type": "markdown",
   "metadata": {},
   "source": [
    "#### Don't think we can make a new feature"
   ]
  },
  {
   "cell_type": "code",
   "execution_count": null,
   "metadata": {},
   "outputs": [],
   "source": []
  },
  {
   "cell_type": "code",
   "execution_count": null,
   "metadata": {},
   "outputs": [],
   "source": []
  },
  {
   "cell_type": "markdown",
   "metadata": {},
   "source": [
    "## 9. Perform necessary transformation \n",
    "1. If the data is not normally distributed and highly skewed it is alwas better to transform the data in normal distribution as the most/all of the asumptions for deriving the methods are that they are normally distributed,\n",
    "2. Although for classifications we don't have that assumpution (need to check)\n",
    "3. https://anshikaaxena.medium.com/how-skewed-data-can-skrew-your-linear-regression-model-accuracy-and-transfromation-can-help-62c6d3fe4c53\n",
    " "
   ]
  },
  {
   "cell_type": "code",
   "execution_count": 52,
   "metadata": {},
   "outputs": [
    {
     "data": {
      "text/plain": [
       "array([[<AxesSubplot:title={'center':'raisedhands'}>,\n",
       "        <AxesSubplot:title={'center':'VisITedResources'}>],\n",
       "       [<AxesSubplot:title={'center':'AnnouncementsView'}>,\n",
       "        <AxesSubplot:title={'center':'Discussion'}>]], dtype=object)"
      ]
     },
     "execution_count": 52,
     "metadata": {},
     "output_type": "execute_result"
    },
    {
     "data": {
      "image/png": "[encoded data removed]",
      "text/plain": [
       "<Figure size 1080x720 with 4 Axes>"
      ]
     },
     "metadata": {
      "needs_background": "light"
     },
     "output_type": "display_data"
    }
   ],
   "source": [
    "# check data distribution\n",
    "train[train_numeric.columns].hist(figsize=(15,10))"
   ]
  },
  {
   "cell_type": "markdown",
   "metadata": {},
   "source": [
    "#### No data seems skewed, We can move forward\n",
    "1. to handle skewness\n",
    "2. https://towardsdatascience.com/top-3-methods-for-handling-skewed-data-1334e0debf45"
   ]
  },
  {
   "cell_type": "code",
   "execution_count": 58,
   "metadata": {},
   "outputs": [],
   "source": [
    "# if skewed apply transformations , log, sqrt, box-cot etc.\n",
    "# train.AnnouncementsView.apply(np.log10)"
   ]
  },
  {
   "cell_type": "code",
   "execution_count": null,
   "metadata": {},
   "outputs": [],
   "source": []
  },
  {
   "cell_type": "code",
   "execution_count": null,
   "metadata": {},
   "outputs": [],
   "source": []
  },
  {
   "cell_type": "markdown",
   "metadata": {},
   "source": [
    "## 10. Bining"
   ]
  },
  {
   "cell_type": "code",
   "execution_count": null,
   "metadata": {},
   "outputs": [],
   "source": []
  },
  {
   "cell_type": "code",
   "execution_count": null,
   "metadata": {},
   "outputs": [],
   "source": []
  },
  {
   "cell_type": "code",
   "execution_count": null,
   "metadata": {},
   "outputs": [],
   "source": []
  },
  {
   "cell_type": "code",
   "execution_count": null,
   "metadata": {},
   "outputs": [],
   "source": []
  },
  {
   "cell_type": "code",
   "execution_count": null,
   "metadata": {},
   "outputs": [],
   "source": []
  },
  {
   "cell_type": "code",
   "execution_count": null,
   "metadata": {},
   "outputs": [],
   "source": []
  },
  {
   "cell_type": "code",
   "execution_count": null,
   "metadata": {},
   "outputs": [],
   "source": []
  },
  {
   "cell_type": "code",
   "execution_count": null,
   "metadata": {},
   "outputs": [],
   "source": []
  },
  {
   "cell_type": "code",
   "execution_count": null,
   "metadata": {},
   "outputs": [],
   "source": []
  }
 ],
 "metadata": {
  "interpreter": {
   "hash": "b1fa63b9192d89ce9d1e4d6a7a4a001f8fee5f65329ca0df81cf26abef0c948c"
  },
  "kernelspec": {
   "display_name": "Python 3.9.11 ('ml')",
   "language": "python",
   "name": "python3"
  },
  "language_info": {
   "codemirror_mode": {
    "name": "ipython",
    "version": 3
   },
   "file_extension": ".py",
   "mimetype": "text/x-python",
   "name": "python",
   "nbconvert_exporter": "python",
   "pygments_lexer": "ipython3",
   "version": "3.9.11"
  },
  "orig_nbformat": 4
 },
 "nbformat": 4,
 "nbformat_minor": 2
}
